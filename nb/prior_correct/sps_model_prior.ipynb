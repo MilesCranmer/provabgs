{
 "cells": [
  {
   "cell_type": "markdown",
   "metadata": {},
   "source": [
    "# prior imposed on SSFR from the Dirichlet prior"
   ]
  },
  {
   "cell_type": "code",
   "execution_count": 1,
   "metadata": {},
   "outputs": [],
   "source": [
    "import os\n",
    "import fsps\n",
    "import zeus\n",
    "import numpy as np \n",
    "import scipy.optimize as op"
   ]
  },
  {
   "cell_type": "code",
   "execution_count": 2,
   "metadata": {},
   "outputs": [],
   "source": [
    "from provabgs import infer as Infer"
   ]
  },
  {
   "cell_type": "code",
   "execution_count": 3,
   "metadata": {},
   "outputs": [],
   "source": [
    "# --- plotting --- \n",
    "import corner as DFM\n",
    "from matplotlib import gridspec\n",
    "import matplotlib as mpl\n",
    "import matplotlib.pyplot as plt\n",
    "mpl.rcParams['text.usetex'] = True\n",
    "mpl.rcParams['font.family'] = 'serif'\n",
    "mpl.rcParams['axes.linewidth'] = 1.5\n",
    "mpl.rcParams['axes.xmargin'] = 1\n",
    "mpl.rcParams['xtick.labelsize'] = 'x-large'\n",
    "mpl.rcParams['xtick.major.size'] = 5\n",
    "mpl.rcParams['xtick.major.width'] = 1.5\n",
    "mpl.rcParams['ytick.labelsize'] = 'x-large'\n",
    "mpl.rcParams['ytick.major.size'] = 5\n",
    "mpl.rcParams['ytick.major.width'] = 1.5\n",
    "mpl.rcParams['legend.frameon'] = False"
   ]
  },
  {
   "cell_type": "markdown",
   "metadata": {},
   "source": [
    "sample SFH from Dirichlet prior and calculate average SFR over 1 Gyr"
   ]
  },
  {
   "cell_type": "code",
   "execution_count": 4,
   "metadata": {},
   "outputs": [],
   "source": [
    "tlb = np.load('/Users/chahah/data/provabgs/prior_correct/t.lookback.npy')\n",
    "nlb = len(tlb)\n",
    "tage = tlb[-1]\n",
    "\n",
    "tage_bins = np.array([0., 0.03, 0.1, 0.33, 1.1, 3.6, 11.7, tage+1e-5])\n",
    "dtage = np.array([0.03, 0.07, 0.23, 0.77, 2.5, 8.1, tage-11.7])\n",
    "\n",
    "def avgSFR(theta, dt=1.): \n",
    "    if dt == 1.: \n",
    "        return (np.sum(theta[:3]) + theta[3] * 0.67 / 0.77) / 1e9\n",
    "    elif dt == 0.1: \n",
    "        return np.sum(theta[:2]) / (dt * 1e9)"
   ]
  },
  {
   "cell_type": "markdown",
   "metadata": {},
   "source": [
    "## sample from Dirichlet prior"
   ]
  },
  {
   "cell_type": "code",
   "execution_count": 5,
   "metadata": {},
   "outputs": [],
   "source": [
    "dirch = Infer.FlatDirichletPrior(7)"
   ]
  },
  {
   "cell_type": "code",
   "execution_count": 6,
   "metadata": {},
   "outputs": [],
   "source": [
    "thetas = np.array([dirch.transform(dirch.sample()) for i in range(10000)])[:,::-1]"
   ]
  },
  {
   "cell_type": "code",
   "execution_count": 7,
   "metadata": {},
   "outputs": [],
   "source": [
    "ssfrs_100myr = np.array([avgSFR(tt, dt=0.1) for tt in thetas])\n",
    "ssfrs_1gyr = np.array([avgSFR(tt, dt=1.) for tt in thetas])"
   ]
  },
  {
   "cell_type": "code",
   "execution_count": 8,
   "metadata": {},
   "outputs": [
    {
     "data": {
      "text/plain": [
       "(-14.0, -8.0)"
      ]
     },
     "execution_count": 8,
     "metadata": {},
     "output_type": "execute_result"
    },
    {
     "data": {
      "image/png": "[encoded data removed]",
      "text/plain": [
       "<Figure size 432x360 with 1 Axes>"
      ]
     },
     "metadata": {
      "needs_background": "light"
     },
     "output_type": "display_data"
    }
   ],
   "source": [
    "fig = plt.figure(figsize=(6,5))\n",
    "sub = fig.add_subplot(111)\n",
    "sub.hist(np.log10(ssfrs_100myr), density=True, range=(-14, -8), bins=100)\n",
    "sub.set_xlabel(r'$\\log {\\rm SSFR}_{\\rm 100 Myr}$', fontsize=25)\n",
    "sub.set_xlim(-14, -8)"
   ]
  },
  {
   "cell_type": "code",
   "execution_count": 9,
   "metadata": {},
   "outputs": [
    {
     "data": {
      "text/plain": [
       "(-14.0, -9.0)"
      ]
     },
     "execution_count": 9,
     "metadata": {},
     "output_type": "execute_result"
    },
    {
     "data": {
      "image/png": "[encoded data removed]",
      "text/plain": [
       "<Figure size 432x360 with 1 Axes>"
      ]
     },
     "metadata": {
      "needs_background": "light"
     },
     "output_type": "display_data"
    }
   ],
   "source": [
    "fig = plt.figure(figsize=(6,5))\n",
    "sub = fig.add_subplot(111)\n",
    "sub.hist(np.log10(ssfrs_1gyr), density=True, range=(-14, -9), bins=100)\n",
    "sub.set_xlabel(r'$\\log {\\rm SSFR}_{\\rm 1 Gyr}$', fontsize=25)\n",
    "sub.set_xlim(-14, -9)"
   ]
  },
  {
   "cell_type": "code",
   "execution_count": null,
   "metadata": {},
   "outputs": [],
   "source": []
  }
 ],
 "metadata": {
  "kernelspec": {
   "display_name": "gqp",
   "language": "python",
   "name": "gqp"
  },
  "language_info": {
   "codemirror_mode": {
    "name": "ipython",
    "version": 3
   },
   "file_extension": ".py",
   "mimetype": "text/x-python",
   "name": "python",
   "nbconvert_exporter": "python",
   "pygments_lexer": "ipython3",
   "version": "3.7.9"
  }
 },
 "nbformat": 4,
 "nbformat_minor": 4
}
