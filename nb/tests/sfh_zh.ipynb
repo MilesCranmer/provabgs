{
 "cells": [
  {
   "cell_type": "markdown",
   "metadata": {},
   "source": [
    "# testing SFH  and ZH implementation\n",
    "\n",
    "* **2021/06/24**: modified lookback time binning to log-spaced"
   ]
  },
  {
   "cell_type": "code",
   "execution_count": 1,
   "metadata": {},
   "outputs": [],
   "source": [
    "import numpy as np \n",
    "import matplotlib.pyplot as plt"
   ]
  },
  {
   "cell_type": "code",
   "execution_count": 2,
   "metadata": {},
   "outputs": [],
   "source": [
    "from provabgs import util as UT\n",
    "from provabgs import models as Models"
   ]
  },
  {
   "cell_type": "code",
   "execution_count": 3,
   "metadata": {},
   "outputs": [
    {
     "name": "stdout",
     "output_type": "stream",
     "text": [
      "input parameters : logmstar, beta1_sfh, beta2_sfh, beta3_sfh, beta4_sfh, gamma1_zh, gamma2_zh, dust1, dust2, dust_index\n"
     ]
    }
   ],
   "source": [
    "m_nmf = Models.NMF(burst=False)"
   ]
  },
  {
   "cell_type": "code",
   "execution_count": 4,
   "metadata": {},
   "outputs": [],
   "source": [
    "thetas = np.array([\n",
    "    np.array([0., 1., 0., 0., 0., 1e-3, 1e-3, 0, 0, 0]), \n",
    "    np.array([0., 0., 1., 0., 0., 1e-3, 1e-3, 0, 0, 0]), \n",
    "    np.array([0., 0., 0., 1., 0., 1e-3, 1e-3, 0, 0, 0]), \n",
    "    np.array([0., 0., 0., 0., 1., 1e-3, 1e-3, 0, 0, 0])\n",
    "])"
   ]
  },
  {
   "cell_type": "code",
   "execution_count": 5,
   "metadata": {},
   "outputs": [],
   "source": [
    "tedge, sfh = m_nmf.SFH(thetas, zred=0.1)"
   ]
  },
  {
   "cell_type": "code",
   "execution_count": 6,
   "metadata": {},
   "outputs": [
    {
     "data": {
      "image/png": "[encoded data removed]",
      "text/plain": [
       "<Figure size 432x288 with 1 Axes>"
      ]
     },
     "metadata": {
      "needs_background": "light"
     },
     "output_type": "display_data"
    }
   ],
   "source": [
    "for i in range(4): \n",
    "    UT.betterstep(tedge, sfh[i])"
   ]
  },
  {
   "cell_type": "code",
   "execution_count": 7,
   "metadata": {},
   "outputs": [
    {
     "data": {
      "text/plain": [
       "array([0.24728744, 0.00028818, 0.00052857, 0.        ])"
      ]
     },
     "execution_count": 7,
     "metadata": {},
     "output_type": "execute_result"
    }
   ],
   "source": [
    "m_nmf.avgSFR(thetas, zred=0.1, dt=1.)"
   ]
  },
  {
   "cell_type": "code",
   "execution_count": 8,
   "metadata": {},
   "outputs": [],
   "source": [
    "thetas = np.array([\n",
    "    np.array([0., 1., 0., 0., 0., 1e-2, 1e-3, 0, 0, 0]), \n",
    "    np.array([0., 1., 0., 0., 0., 1e-3, 1e-3, 0, 0, 0]), \n",
    "    np.array([0., 1., 0., 0., 0., 1e-4, 1e-3, 0, 0, 0]), \n",
    "    np.array([0., 1., 0., 0., 0., 1e-5, 1e-3, 0, 0, 0])\n",
    "])"
   ]
  },
  {
   "cell_type": "code",
   "execution_count": 9,
   "metadata": {},
   "outputs": [],
   "source": [
    "tlb, zh = m_nmf.ZH(thetas, zred=0.1)"
   ]
  },
  {
   "cell_type": "code",
   "execution_count": 10,
   "metadata": {},
   "outputs": [
    {
     "data": {
      "image/png": "[encoded data removed]",
      "text/plain": [
       "<Figure size 432x288 with 1 Axes>"
      ]
     },
     "metadata": {
      "needs_background": "light"
     },
     "output_type": "display_data"
    }
   ],
   "source": [
    "for i in range(4): \n",
    "    UT.betterstep(tlb, zh[i])"
   ]
  },
  {
   "cell_type": "code",
   "execution_count": 11,
   "metadata": {},
   "outputs": [
    {
     "data": {
      "text/plain": [
       "array([0.04013288, 0.00515148, 0.00128077, 0.0008937 ])"
      ]
     },
     "execution_count": 11,
     "metadata": {},
     "output_type": "execute_result"
    }
   ],
   "source": [
    "m_nmf.Z_MW(thetas, zred=0.1)"
   ]
  },
  {
   "cell_type": "code",
   "execution_count": 12,
   "metadata": {},
   "outputs": [
    {
     "name": "stdout",
     "output_type": "stream",
     "text": [
      "input parameters : logmstar, beta1_sfh, beta2_sfh, beta3_sfh, beta4_sfh, fburst, tburst, gamma1_zh, gamma2_zh, dust1, dust2, dust_index\n"
     ]
    }
   ],
   "source": [
    "m_nmf = Models.NMF(burst=True)"
   ]
  },
  {
   "cell_type": "code",
   "execution_count": 13,
   "metadata": {},
   "outputs": [],
   "source": [
    "thetas = np.array([\n",
    "    np.array([0., 1., 0., 0., 0., 0.1, 0.1, 1e-3, 1e-3, 0, 0, 0]), \n",
    "    np.array([0., 1., 0., 0., 0., 0.2, 0.2, 1e-3, 1e-3, 0, 0, 0]), \n",
    "    np.array([0., 1., 0., 0., 0., 0.3, 1., 1e-3, 1e-3, 0, 0, 0]), \n",
    "    np.array([0., 1., 0., 0., 0., 0.5, 5., 1e-3, 1e-3, 0, 0, 0])\n",
    "])"
   ]
  },
  {
   "cell_type": "code",
   "execution_count": 14,
   "metadata": {},
   "outputs": [
    {
     "data": {
      "image/png": "[encoded data removed]",
      "text/plain": [
       "<Figure size 432x288 with 1 Axes>"
      ]
     },
     "metadata": {
      "needs_background": "light"
     },
     "output_type": "display_data"
    }
   ],
   "source": [
    "tedge, sfh = m_nmf.SFH(thetas, zred=0.1)\n",
    "for i in range(4): \n",
    "    UT.betterstep(tedge, sfh[i])\n",
    "    plt.ylim(0., 0.5)"
   ]
  },
  {
   "cell_type": "code",
   "execution_count": 15,
   "metadata": {},
   "outputs": [
    {
     "data": {
      "text/plain": [
       "array([0.3225587 , 0.39782995, 0.47310121, 0.24728744])"
      ]
     },
     "execution_count": 15,
     "metadata": {},
     "output_type": "execute_result"
    }
   ],
   "source": [
    "m_nmf.avgSFR(thetas, zred=0.1, dt=1.)"
   ]
  },
  {
   "cell_type": "code",
   "execution_count": null,
   "metadata": {},
   "outputs": [],
   "source": []
  }
 ],
 "metadata": {
  "kernelspec": {
   "display_name": "gqp",
   "language": "python",
   "name": "gqp"
  },
  "language_info": {
   "codemirror_mode": {
    "name": "ipython",
    "version": 3
   },
   "file_extension": ".py",
   "mimetype": "text/x-python",
   "name": "python",
   "nbconvert_exporter": "python",
   "pygments_lexer": "ipython3",
   "version": "3.7.9"
  }
 },
 "nbformat": 4,
 "nbformat_minor": 4
}
