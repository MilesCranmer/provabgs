{
 "cells": [
  {
   "cell_type": "code",
   "execution_count": 1,
   "metadata": {},
   "outputs": [],
   "source": [
    "import fsps\n",
    "import time\n",
    "import numpy as np"
   ]
  },
  {
   "cell_type": "code",
   "execution_count": 2,
   "metadata": {},
   "outputs": [
    {
     "name": "stdout",
     "output_type": "stream",
     "text": [
      "12.015029907226562\n"
     ]
    }
   ],
   "source": [
    "t0 = time.time()\n",
    "sps0 = fsps.StellarPopulation(zcontinuous=1, sfh=0, dust_type=4, imf_type=1)\n",
    "print(time.time() - t0)"
   ]
  },
  {
   "cell_type": "code",
   "execution_count": 3,
   "metadata": {},
   "outputs": [
    {
     "name": "stdout",
     "output_type": "stream",
     "text": [
      "0.00011801719665527344\n"
     ]
    }
   ],
   "source": [
    "t0 = time.time()\n",
    "sps1 = fsps.StellarPopulation(zcontinuous=1, sfh=0, dust_type=4, imf_type=1)\n",
    "print(time.time() - t0)"
   ]
  },
  {
   "cell_type": "code",
   "execution_count": 4,
   "metadata": {},
   "outputs": [
    {
     "name": "stdout",
     "output_type": "stream",
     "text": [
      "[3.62275088e-56 6.21085865e-58 2.55389136e-16 1.57367603e-09\n",
      " 3.28139523e-07 5.30804328e-07 4.95032535e-07 6.97522571e-07\n",
      " 1.21314485e-06 1.60473826e-06 1.77162886e-06 2.41593989e-06\n",
      " 2.69963297e-06 3.43972691e-06 3.43520397e-06 4.44967327e-06\n",
      " 4.79767046e-06 5.32718359e-06 6.33649402e-06 5.95592531e-06\n",
      " 6.55442481e-06 5.67733591e-06 7.61014635e-06 8.29367756e-06\n",
      " 8.43985606e-06 9.33917452e-06 9.01551393e-06 1.00665795e-05\n",
      " 1.12616202e-05 1.13777825e-05 1.17217303e-05 1.20806308e-05\n",
      " 1.27155254e-05 1.21829882e-05 1.25058038e-05 1.40378530e-05\n",
      " 1.38323549e-05 1.40409753e-05 1.40507880e-05 1.43352601e-05\n",
      " 1.48590486e-05 1.54585441e-05 1.54754840e-05 1.52970360e-05\n",
      " 1.60688261e-05 1.61843473e-05 1.75221662e-05 1.87743504e-05\n",
      " 1.20454794e-05 4.11216077e-06 1.17398243e-06 2.26571244e-07\n",
      " 2.42222781e-07 7.76292127e-08 3.74165543e-08 6.25769496e-08\n",
      " 7.49440434e-09 1.08380975e-10 9.71501321e-13 8.50745428e-15]\n"
     ]
    }
   ],
   "source": [
    "sps0.params['logzsol'] = np.log10(7.682292e-03/0.0190)\n",
    "sps0.params['dust1'] = 2.757775\n",
    "sps0.params['dust2'] = 1.253965\n",
    "sps0.params['dust_index'] = -1.558261\n",
    "\n",
    "w, lum_burst0 = sps0.get_spectrum(tage=8.98683509, peraa=True) # in units of Lsun/AA\n",
    "print(lum_burst0[::100])"
   ]
  },
  {
   "cell_type": "code",
   "execution_count": null,
   "metadata": {},
   "outputs": [],
   "source": [
    "sps1.params['logzsol'] = np.log10(1.60715619e-02/0.0190) # log(Z/Zsun)\n",
    "sps1.params['dust1'] = 2.757775\n",
    "sps1.params['dust2'] = 1.253965\n",
    "sps1.params['dust_index'] = -1.558261\n",
    "wave_rest, lum_i = sps1.get_spectrum(tage=12.26311111, peraa=True) # in units of Lsun/AA\n",
    "print(lum_i[::100])"
   ]
  },
  {
   "cell_type": "code",
   "execution_count": null,
   "metadata": {},
   "outputs": [],
   "source": [
    "sps0.params['logzsol'] = np.log10(7.682292e-03/0.0190)\n",
    "sps0.params['dust1'] = 2.757775\n",
    "sps0.params['dust2'] = 1.253965\n",
    "sps0.params['dust_index'] = -1.558261\n",
    "\n",
    "w, lum_burst1 = sps0.get_spectrum(tage=8.98683509, peraa=True) # in units of Lsun/AA\n",
    "print(lum_burst1[::100])"
   ]
  },
  {
   "cell_type": "code",
   "execution_count": null,
   "metadata": {},
   "outputs": [],
   "source": [
    "import matplotlib.pyplot as plt"
   ]
  },
  {
   "cell_type": "code",
   "execution_count": null,
   "metadata": {},
   "outputs": [],
   "source": [
    "plt.plot(w, lum_burst0)\n",
    "plt.plot(w, lum_burst1)"
   ]
  },
  {
   "cell_type": "code",
   "execution_count": null,
   "metadata": {},
   "outputs": [],
   "source": []
  }
 ],
 "metadata": {
  "kernelspec": {
   "display_name": "Python 3",
   "language": "python",
   "name": "python3"
  },
  "language_info": {
   "codemirror_mode": {
    "name": "ipython",
    "version": 3
   },
   "file_extension": ".py",
   "mimetype": "text/x-python",
   "name": "python",
   "nbconvert_exporter": "python",
   "pygments_lexer": "ipython3",
   "version": "3.8.3"
  }
 },
 "nbformat": 4,
 "nbformat_minor": 4
}
