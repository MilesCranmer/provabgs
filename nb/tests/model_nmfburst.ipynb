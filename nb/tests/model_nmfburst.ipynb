{
 "cells": [
  {
   "cell_type": "markdown",
   "metadata": {},
   "source": [
    "# NMF model with burst \n",
    "In this notebook I will check that the SFH are sensible and integrate to 1. I will check that the average SSFR does not exceed $1/dt$"
   ]
  },
  {
   "cell_type": "code",
   "execution_count": 1,
   "metadata": {},
   "outputs": [],
   "source": [
    "import numpy as np \n",
    "from provabgs import infer as Infer\n",
    "from provabgs import models as Models"
   ]
  },
  {
   "cell_type": "code",
   "execution_count": 2,
   "metadata": {},
   "outputs": [],
   "source": [
    "# --- plotting --- \n",
    "import corner as DFM\n",
    "import matplotlib as mpl\n",
    "import matplotlib.pyplot as plt\n",
    "mpl.rcParams['text.usetex'] = True\n",
    "mpl.rcParams['font.family'] = 'serif'\n",
    "mpl.rcParams['axes.linewidth'] = 1.5\n",
    "mpl.rcParams['axes.xmargin'] = 1\n",
    "mpl.rcParams['xtick.labelsize'] = 'x-large'\n",
    "mpl.rcParams['xtick.major.size'] = 5\n",
    "mpl.rcParams['xtick.major.width'] = 1.5\n",
    "mpl.rcParams['ytick.labelsize'] = 'x-large'\n",
    "mpl.rcParams['ytick.major.size'] = 5\n",
    "mpl.rcParams['ytick.major.width'] = 1.5\n",
    "mpl.rcParams['legend.frameon'] = False"
   ]
  },
  {
   "cell_type": "code",
   "execution_count": 3,
   "metadata": {},
   "outputs": [],
   "source": [
    "Mnmf = Models.FSPS(name='nmfburst') # NMF with burst model"
   ]
  },
  {
   "cell_type": "code",
   "execution_count": 4,
   "metadata": {},
   "outputs": [],
   "source": [
    "zred = 0.01\n",
    "tage = Mnmf.cosmo.age(zred).value"
   ]
  },
  {
   "cell_type": "code",
   "execution_count": 5,
   "metadata": {},
   "outputs": [],
   "source": [
    "prior = Infer.load_priors([\n",
    "    Infer.UniformPrior(0., 0.), \n",
    "    Infer.FlatDirichletPrior(4, label='sed'),   # flat dirichilet priors\n",
    "    Infer.UniformPrior(0., 1.), # fburst\n",
    "    Infer.UniformPrior(0., tage), # tburst \n",
    "    Infer.UniformPrior(6.9e-5, 7.3e-3, label='sed'),# uniform priors on ZH coeff\n",
    "    Infer.UniformPrior(6.9e-5, 7.3e-3, label='sed'),# uniform priors on ZH coeff\n",
    "    Infer.UniformPrior(0., 3., label='sed'),        # uniform priors on dust1 \n",
    "    Infer.UniformPrior(0., 3., label='sed'),        # uniform priors on dust2\n",
    "    Infer.UniformPrior(-2.2, 0.4, label='sed')     # uniform priors on dust_index \n",
    "])"
   ]
  },
  {
   "cell_type": "markdown",
   "metadata": {},
   "source": [
    "## Check SFH sensibility\n"
   ]
  },
  {
   "cell_type": "code",
   "execution_count": 6,
   "metadata": {},
   "outputs": [],
   "source": [
    "np.random.seed(0)"
   ]
  },
  {
   "cell_type": "code",
   "execution_count": 7,
   "metadata": {},
   "outputs": [
    {
     "name": "stdout",
     "output_type": "stream",
     "text": [
      "[ 0.00000000e+00  6.28301013e-01  2.84613601e-01  2.60988973e-03\n",
      "  8.44754960e-02  4.90157052e-01  1.33208552e+01  2.50556311e-03\n",
      "  5.88826050e-03  5.03880052e-01  9.33029911e-01 -1.48696713e+00]\n",
      "1.0\n",
      "fburst = 0.49\n",
      "tburst = 13.32\n"
     ]
    }
   ],
   "source": [
    "_theta = prior.sample()\n",
    "theta = prior.transform(_theta)\n",
    "print(theta)\n",
    "print(np.sum(theta[1:5]))\n",
    "print('fburst = %.2f' % theta[5])\n",
    "print('tburst = %.2f' % theta[6])"
   ]
  },
  {
   "cell_type": "code",
   "execution_count": 8,
   "metadata": {},
   "outputs": [],
   "source": [
    "t, sfh = Mnmf.SFH(theta, zred)"
   ]
  },
  {
   "cell_type": "code",
   "execution_count": 9,
   "metadata": {},
   "outputs": [
    {
     "data": {
      "text/plain": [
       "(0.0, 13.653058838303744)"
      ]
     },
     "execution_count": 9,
     "metadata": {},
     "output_type": "execute_result"
    },
    {
     "data": {
      "image/png": "[encoded data removed]",
      "text/plain": [
       "<Figure size 720x360 with 1 Axes>"
      ]
     },
     "metadata": {
      "needs_background": "light"
     },
     "output_type": "display_data"
    }
   ],
   "source": [
    "fig = plt.figure(figsize=(10,5))\n",
    "sub = fig.add_subplot(111)\n",
    "sub.plot(t, sfh, label=r'NMF model with burst')\n",
    "sub.legend(loc='upper left', fontsize=20)\n",
    "sub.set_xlabel(r'$t_{\\rm lookback}$', fontsize=25)\n",
    "sub.set_xlim(0., tage)"
   ]
  },
  {
   "cell_type": "markdown",
   "metadata": {},
   "source": [
    "## check SFH normalization"
   ]
  },
  {
   "cell_type": "code",
   "execution_count": 10,
   "metadata": {},
   "outputs": [],
   "source": [
    "for i in range(100): \n",
    "    _theta = prior.sample()\n",
    "    theta = prior.transform(_theta)\n",
    "    t, sfh = Mnmf.SFH(theta, zred)\n",
    "    assert np.abs(np.trapz(sfh, t) - 1) < 1e-4, ('int(SFH) = %f' % np.trapz(sfh, t))"
   ]
  },
  {
   "cell_type": "markdown",
   "metadata": {},
   "source": [
    "## check average SFR calculation "
   ]
  },
  {
   "cell_type": "code",
   "execution_count": 11,
   "metadata": {},
   "outputs": [],
   "source": [
    "_thetas = np.array([prior.sample() for i in range(50000)])\n",
    "thetas = prior.transform(_thetas)\n",
    "avgsfr = Mnmf.avgSFR(thetas, zred, dt=1)"
   ]
  },
  {
   "cell_type": "code",
   "execution_count": 12,
   "metadata": {},
   "outputs": [
    {
     "name": "stdout",
     "output_type": "stream",
     "text": [
      "9.999017091666058e-10\n"
     ]
    }
   ],
   "source": [
    "print(avgsfr.max())"
   ]
  },
  {
   "cell_type": "code",
   "execution_count": 13,
   "metadata": {},
   "outputs": [
    {
     "data": {
      "text/plain": [
       "(-13.0, -7.0)"
      ]
     },
     "execution_count": 13,
     "metadata": {},
     "output_type": "execute_result"
    },
    {
     "data": {
      "image/png": "[encoded data removed]",
      "text/plain": [
       "<Figure size 720x360 with 1 Axes>"
      ]
     },
     "metadata": {
      "needs_background": "light"
     },
     "output_type": "display_data"
    }
   ],
   "source": [
    "fig = plt.figure(figsize=(10,5))\n",
    "sub = fig.add_subplot(111)\n",
    "sub.hist(np.log10(avgsfr), range=(-13, -7), bins=100, alpha=0.5)\n",
    "sub.axvline(-9, color='k', linestyle='--')\n",
    "sub.set_xlabel(r'$\\log{\\rm SSFR}$', fontsize=25)\n",
    "sub.set_xlim(-13., -7.)"
   ]
  },
  {
   "cell_type": "code",
   "execution_count": null,
   "metadata": {},
   "outputs": [],
   "source": []
  }
 ],
 "metadata": {
  "kernelspec": {
   "display_name": "gqp",
   "language": "python",
   "name": "gqp"
  },
  "language_info": {
   "codemirror_mode": {
    "name": "ipython",
    "version": 3
   },
   "file_extension": ".py",
   "mimetype": "text/x-python",
   "name": "python",
   "nbconvert_exporter": "python",
   "pygments_lexer": "ipython3",
   "version": "3.7.9"
  }
 },
 "nbformat": 4,
 "nbformat_minor": 4
}
