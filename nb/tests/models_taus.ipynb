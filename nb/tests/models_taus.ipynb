{
 "cells": [
  {
   "cell_type": "markdown",
   "metadata": {},
   "source": [
    "# $\\tau$ and delayed-$\\tau$ model sanity checks\n",
    "In this notebook I will check that the SFH are sensible and integrate to 1. I will check that the average SSFR does not exceed $1/dt$"
   ]
  },
  {
   "cell_type": "code",
   "execution_count": 1,
   "metadata": {},
   "outputs": [],
   "source": [
    "import numpy as np \n",
    "from provabgs import infer as Infer\n",
    "from provabgs import models as Models\n",
    "from astropy.cosmology import Planck13"
   ]
  },
  {
   "cell_type": "code",
   "execution_count": 2,
   "metadata": {},
   "outputs": [],
   "source": [
    "# --- plotting --- \n",
    "import corner as DFM\n",
    "import matplotlib as mpl\n",
    "import matplotlib.pyplot as plt\n",
    "mpl.rcParams['text.usetex'] = True\n",
    "mpl.rcParams['font.family'] = 'serif'\n",
    "mpl.rcParams['axes.linewidth'] = 1.5\n",
    "mpl.rcParams['axes.xmargin'] = 1\n",
    "mpl.rcParams['xtick.labelsize'] = 'x-large'\n",
    "mpl.rcParams['xtick.major.size'] = 5\n",
    "mpl.rcParams['xtick.major.width'] = 1.5\n",
    "mpl.rcParams['ytick.labelsize'] = 'x-large'\n",
    "mpl.rcParams['ytick.major.size'] = 5\n",
    "mpl.rcParams['ytick.major.width'] = 1.5\n",
    "mpl.rcParams['legend.frameon'] = False"
   ]
  },
  {
   "cell_type": "code",
   "execution_count": 3,
   "metadata": {},
   "outputs": [],
   "source": [
    "tau_model = Models.FSPS(name='tau') # tau model\n",
    "dtau_model = Models.FSPS(name='delayed_tau') # delayed tau model "
   ]
  },
  {
   "cell_type": "code",
   "execution_count": 4,
   "metadata": {},
   "outputs": [],
   "source": [
    "zred = 0.01\n",
    "tage = Planck13.age(zred).value"
   ]
  },
  {
   "cell_type": "code",
   "execution_count": 5,
   "metadata": {},
   "outputs": [],
   "source": [
    "prior = Infer.load_priors([\n",
    "        Infer.UniformPrior(0., 0.), \n",
    "        Infer.UniformPrior(0.3, 1e1), # tau SFH\n",
    "        Infer.UniformPrior(0., 0.2), # constant SFH\n",
    "        Infer.UniformPrior(0., tage-2.), # start time\n",
    "        Infer.UniformPrior(0., 0.5),  # fburst\n",
    "        Infer.UniformPrior(0., tage),  # tburst\n",
    "        Infer.UniformPrior(1e-6, 1e-3), # metallicity\n",
    "        Infer.UniformPrior(0., 4.)])"
   ]
  },
  {
   "cell_type": "markdown",
   "metadata": {},
   "source": [
    "## Check SFH sensibility"
   ]
  },
  {
   "cell_type": "code",
   "execution_count": 6,
   "metadata": {},
   "outputs": [],
   "source": [
    "np.random.seed(2)"
   ]
  },
  {
   "cell_type": "code",
   "execution_count": 7,
   "metadata": {},
   "outputs": [
    {
     "name": "stdout",
     "output_type": "stream",
     "text": [
      "tau = 7.81\n",
      "tstart = 5.79\n",
      "tburst = 12.39\n"
     ]
    }
   ],
   "source": [
    "theta = prior.sample()\n",
    "print('tau = %.2f' % theta[1])\n",
    "print('tstart = %.2f' % theta[3])\n",
    "print('tburst = %.2f' % theta[5])"
   ]
  },
  {
   "cell_type": "code",
   "execution_count": 8,
   "metadata": {},
   "outputs": [],
   "source": [
    "t1, sfh1 = tau_model.SFH(theta, zred)\n",
    "t2, sfh2 = dtau_model.SFH(theta, zred)"
   ]
  },
  {
   "cell_type": "code",
   "execution_count": 9,
   "metadata": {},
   "outputs": [
    {
     "data": {
      "text/plain": [
       "(0.0, 13.653058838303744)"
      ]
     },
     "execution_count": 9,
     "metadata": {},
     "output_type": "execute_result"
    },
    {
     "data": {
      "image/png": "[encoded data removed]",
      "text/plain": [
       "<Figure size 720x360 with 1 Axes>"
      ]
     },
     "metadata": {
      "needs_background": "light"
     },
     "output_type": "display_data"
    }
   ],
   "source": [
    "fig = plt.figure(figsize=(10,5))\n",
    "sub = fig.add_subplot(111)\n",
    "sub.plot(t1, sfh1, label=r'$\\tau$ model')\n",
    "sub.plot(t2, sfh2, label=r'delayed-$\\tau$ model')\n",
    "sub.legend(loc='upper left', fontsize=20)\n",
    "sub.set_xlabel(r'$t_{\\rm lookback}$', fontsize=25)\n",
    "sub.set_xlim(0., tage)"
   ]
  },
  {
   "cell_type": "markdown",
   "metadata": {},
   "source": [
    "## check SFH normalization"
   ]
  },
  {
   "cell_type": "code",
   "execution_count": 10,
   "metadata": {},
   "outputs": [],
   "source": [
    "for i in range(100): \n",
    "    theta = prior.sample()\n",
    "    t1, sfh1 = tau_model.SFH(theta, zred)\n",
    "    t2, sfh2 = dtau_model.SFH(theta, zred) \n",
    "    assert np.abs(np.trapz(sfh1, t1) - 1) < 1e-4, ('int(SFH) = %f' % np.trapz(sfh1, t1))\n",
    "    assert np.abs(np.trapz(sfh2, t2) - 1) < 1e-4, ('int(SFH) = %f' % np.trapz(sfh2, t2))"
   ]
  },
  {
   "cell_type": "markdown",
   "metadata": {},
   "source": [
    "## check average SFR calculation "
   ]
  },
  {
   "cell_type": "code",
   "execution_count": 16,
   "metadata": {},
   "outputs": [],
   "source": [
    "thetas = np.array([prior.sample() for i in range(50000)])\n",
    "avgsfr1 = tau_model.avgSFR(thetas, zred, dt=0.1)\n",
    "avgsfr2 = dtau_model.avgSFR(thetas, zred, dt=0.1)"
   ]
  },
  {
   "cell_type": "code",
   "execution_count": 12,
   "metadata": {},
   "outputs": [
    {
     "data": {
      "text/plain": [
       "(-13.0, -7.0)"
      ]
     },
     "execution_count": 12,
     "metadata": {},
     "output_type": "execute_result"
    },
    {
     "data": {
      "image/png": "[encoded data removed]",
      "text/plain": [
       "<Figure size 720x360 with 1 Axes>"
      ]
     },
     "metadata": {
      "needs_background": "light"
     },
     "output_type": "display_data"
    }
   ],
   "source": [
    "fig = plt.figure(figsize=(10,5))\n",
    "sub = fig.add_subplot(111)\n",
    "sub.hist(np.log10(avgsfr1), range=(-13, -7), bins=100, alpha=0.5)\n",
    "sub.hist(np.log10(avgsfr2), range=(-13, -7), bins=100, alpha=0.5)\n",
    "sub.axvline(-8, color='k', linestyle='--')\n",
    "sub.set_xlabel(r'$\\log{\\rm SSFR}$', fontsize=25)\n",
    "sub.set_xlim(-13., -7.)"
   ]
  },
  {
   "cell_type": "code",
   "execution_count": 13,
   "metadata": {},
   "outputs": [],
   "source": [
    "avgsfr1 = tau_model.avgSFR(thetas, zred, dt=1)\n",
    "avgsfr2 = dtau_model.avgSFR(thetas, zred, dt=1)"
   ]
  },
  {
   "cell_type": "code",
   "execution_count": 14,
   "metadata": {},
   "outputs": [
    {
     "data": {
      "text/plain": [
       "(-13.0, -7.0)"
      ]
     },
     "execution_count": 14,
     "metadata": {},
     "output_type": "execute_result"
    },
    {
     "data": {
      "image/png": "[encoded data removed]",
      "text/plain": [
       "<Figure size 720x360 with 1 Axes>"
      ]
     },
     "metadata": {
      "needs_background": "light"
     },
     "output_type": "display_data"
    }
   ],
   "source": [
    "fig = plt.figure(figsize=(10,5))\n",
    "sub = fig.add_subplot(111)\n",
    "sub.hist(np.log10(avgsfr1), range=(-13, -7), bins=100, alpha=0.5)\n",
    "sub.hist(np.log10(avgsfr2), range=(-13, -7), bins=100, alpha=0.5)\n",
    "sub.axvline(-9, color='k', linestyle='--')\n",
    "sub.set_xlabel(r'$\\log{\\rm SSFR}$', fontsize=25)\n",
    "sub.set_xlim(-13., -7.)"
   ]
  },
  {
   "cell_type": "markdown",
   "metadata": {},
   "source": [
    "None exceed the theoretical SSFR limit"
   ]
  },
  {
   "cell_type": "code",
   "execution_count": null,
   "metadata": {},
   "outputs": [],
   "source": []
  }
 ],
 "metadata": {
  "kernelspec": {
   "display_name": "gqp",
   "language": "python",
   "name": "gqp"
  },
  "language_info": {
   "codemirror_mode": {
    "name": "ipython",
    "version": 3
   },
   "file_extension": ".py",
   "mimetype": "text/x-python",
   "name": "python",
   "nbconvert_exporter": "python",
   "pygments_lexer": "ipython3",
   "version": "3.7.9"
  }
 },
 "nbformat": 4,
 "nbformat_minor": 4
}
