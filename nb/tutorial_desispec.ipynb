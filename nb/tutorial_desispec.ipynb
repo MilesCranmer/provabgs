{
 "cells": [
  {
   "cell_type": "markdown",
   "metadata": {},
   "source": [
    "# Tutorial: DESI spectral fitting with `provabgs`"
   ]
  },
  {
   "cell_type": "code",
   "execution_count": 1,
   "metadata": {},
   "outputs": [
    {
     "name": "stdout",
     "output_type": "stream",
     "text": [
      "Collecting git+https://github.com/changhoonhahn/provabgs.git\n",
      "  Cloning https://github.com/changhoonhahn/provabgs.git to /tmp/pip-req-build-g309s2xp\n",
      "  Running command git clone -q https://github.com/changhoonhahn/provabgs.git /tmp/pip-req-build-g309s2xp\n",
      "Requirement already satisfied, skipping upgrade: numpy>1.18 in /global/common/software/desi/cori/desiconda/20200801-1.4.0-spec/conda/lib/python3.8/site-packages (from provabgs==0.1) (1.19.1)\n",
      "Requirement already satisfied, skipping upgrade: h5py>=2.10 in /global/common/software/desi/cori/desiconda/20200801-1.4.0-spec/conda/lib/python3.8/site-packages (from provabgs==0.1) (2.10.0)\n",
      "Requirement already satisfied, skipping upgrade: numba in /global/common/software/desi/cori/desiconda/20200801-1.4.0-spec/conda/lib/python3.8/site-packages (from provabgs==0.1) (0.50.1)\n",
      "Requirement already satisfied, skipping upgrade: speclite in /global/common/software/desi/cori/desiconda/20200801-1.4.0-spec/conda/lib/python3.8/site-packages (from provabgs==0.1) (0.9)\n",
      "Requirement already satisfied, skipping upgrade: zeus-mcmc in /global/u1/c/chahah/.local/lib/python3.8/site-packages (from provabgs==0.1) (2.2.0)\n",
      "Requirement already satisfied, skipping upgrade: emcee in /global/u1/c/chahah/.local/lib/python3.8/site-packages (from provabgs==0.1) (3.0.2)\n",
      "Requirement already satisfied, skipping upgrade: six in /global/common/software/desi/cori/desiconda/20200801-1.4.0-spec/conda/lib/python3.8/site-packages (from h5py>=2.10->provabgs==0.1) (1.14.0)\n",
      "Requirement already satisfied, skipping upgrade: llvmlite<0.34,>=0.33.0.dev0 in /global/common/software/desi/cori/desiconda/20200801-1.4.0-spec/conda/lib/python3.8/site-packages (from numba->provabgs==0.1) (0.33.0+1.g022ab0f)\n",
      "Requirement already satisfied, skipping upgrade: setuptools in /global/common/software/desi/cori/desiconda/20200801-1.4.0-spec/conda/lib/python3.8/site-packages (from numba->provabgs==0.1) (46.4.0.post20200518)\n",
      "Requirement already satisfied, skipping upgrade: astropy in /global/common/software/desi/cori/desiconda/20200801-1.4.0-spec/conda/lib/python3.8/site-packages (from speclite->provabgs==0.1) (4.0.1.post1)\n",
      "Requirement already satisfied, skipping upgrade: scipy in /global/common/software/desi/cori/desiconda/20200801-1.4.0-spec/conda/lib/python3.8/site-packages (from speclite->provabgs==0.1) (1.5.0)\n",
      "Requirement already satisfied, skipping upgrade: pyyaml in /global/common/software/desi/cori/desiconda/20200801-1.4.0-spec/conda/lib/python3.8/site-packages (from speclite->provabgs==0.1) (5.3.1)\n",
      "Requirement already satisfied, skipping upgrade: matplotlib in /global/common/software/desi/cori/desiconda/20200801-1.4.0-spec/conda/lib/python3.8/site-packages (from zeus-mcmc->provabgs==0.1) (3.2.1)\n",
      "Requirement already satisfied, skipping upgrade: seaborn in /global/common/software/desi/cori/desiconda/20200801-1.4.0-spec/conda/lib/python3.8/site-packages (from zeus-mcmc->provabgs==0.1) (0.10.1)\n",
      "Requirement already satisfied, skipping upgrade: pytest in /global/common/software/desi/cori/desiconda/20200801-1.4.0-spec/conda/lib/python3.8/site-packages (from zeus-mcmc->provabgs==0.1) (5.4.3)\n",
      "Requirement already satisfied, skipping upgrade: sklearn in /global/u1/c/chahah/.local/lib/python3.8/site-packages (from zeus-mcmc->provabgs==0.1) (0.0)\n",
      "Requirement already satisfied, skipping upgrade: tqdm in /global/common/software/desi/cori/desiconda/20200801-1.4.0-spec/conda/lib/python3.8/site-packages (from zeus-mcmc->provabgs==0.1) (4.46.0)\n",
      "Requirement already satisfied, skipping upgrade: pyparsing!=2.0.4,!=2.1.2,!=2.1.6,>=2.0.1 in /global/common/software/desi/cori/desiconda/20200801-1.4.0-spec/conda/lib/python3.8/site-packages (from matplotlib->zeus-mcmc->provabgs==0.1) (2.4.7)\n",
      "Requirement already satisfied, skipping upgrade: kiwisolver>=1.0.1 in /global/common/software/desi/cori/desiconda/20200801-1.4.0-spec/conda/lib/python3.8/site-packages (from matplotlib->zeus-mcmc->provabgs==0.1) (1.2.0)\n",
      "Requirement already satisfied, skipping upgrade: cycler>=0.10 in /global/common/software/desi/cori/desiconda/20200801-1.4.0-spec/conda/lib/python3.8/site-packages (from matplotlib->zeus-mcmc->provabgs==0.1) (0.10.0)\n",
      "Requirement already satisfied, skipping upgrade: python-dateutil>=2.1 in /global/common/software/desi/cori/desiconda/20200801-1.4.0-spec/conda/lib/python3.8/site-packages (from matplotlib->zeus-mcmc->provabgs==0.1) (2.8.1)\n",
      "Requirement already satisfied, skipping upgrade: pandas>=0.22.0 in /global/common/software/desi/cori/desiconda/20200801-1.4.0-spec/conda/lib/python3.8/site-packages (from seaborn->zeus-mcmc->provabgs==0.1) (1.0.5)\n",
      "Requirement already satisfied, skipping upgrade: py>=1.5.0 in /global/common/software/desi/cori/desiconda/20200801-1.4.0-spec/conda/lib/python3.8/site-packages (from pytest->zeus-mcmc->provabgs==0.1) (1.9.0)\n",
      "Requirement already satisfied, skipping upgrade: packaging in /global/common/software/desi/cori/desiconda/20200801-1.4.0-spec/conda/lib/python3.8/site-packages (from pytest->zeus-mcmc->provabgs==0.1) (20.4)\n",
      "Requirement already satisfied, skipping upgrade: attrs>=17.4.0 in /global/common/software/desi/cori/desiconda/20200801-1.4.0-spec/conda/lib/python3.8/site-packages (from pytest->zeus-mcmc->provabgs==0.1) (19.3.0)\n",
      "Requirement already satisfied, skipping upgrade: more-itertools>=4.0.0 in /global/common/software/desi/cori/desiconda/20200801-1.4.0-spec/conda/lib/python3.8/site-packages (from pytest->zeus-mcmc->provabgs==0.1) (8.4.0)\n",
      "Requirement already satisfied, skipping upgrade: pluggy<1.0,>=0.12 in /global/common/software/desi/cori/desiconda/20200801-1.4.0-spec/conda/lib/python3.8/site-packages (from pytest->zeus-mcmc->provabgs==0.1) (0.13.1)\n",
      "Requirement already satisfied, skipping upgrade: wcwidth in /global/common/software/desi/cori/desiconda/20200801-1.4.0-spec/conda/lib/python3.8/site-packages (from pytest->zeus-mcmc->provabgs==0.1) (0.2.5)\n",
      "Requirement already satisfied, skipping upgrade: scikit-learn in /global/common/software/desi/cori/desiconda/20200801-1.4.0-spec/conda/lib/python3.8/site-packages (from sklearn->zeus-mcmc->provabgs==0.1) (0.23.1)\n",
      "Requirement already satisfied, skipping upgrade: pytz>=2017.2 in /global/common/software/desi/cori/desiconda/20200801-1.4.0-spec/conda/lib/python3.8/site-packages (from pandas>=0.22.0->seaborn->zeus-mcmc->provabgs==0.1) (2020.1)\n",
      "Requirement already satisfied, skipping upgrade: threadpoolctl>=2.0.0 in /global/common/software/desi/cori/desiconda/20200801-1.4.0-spec/conda/lib/python3.8/site-packages (from scikit-learn->sklearn->zeus-mcmc->provabgs==0.1) (2.1.0)\n",
      "Requirement already satisfied, skipping upgrade: joblib>=0.11 in /global/common/software/desi/cori/desiconda/20200801-1.4.0-spec/conda/lib/python3.8/site-packages (from scikit-learn->sklearn->zeus-mcmc->provabgs==0.1) (0.16.0)\n",
      "Building wheels for collected packages: provabgs\n",
      "  Building wheel for provabgs (setup.py) ... \u001b[?25ldone\n",
      "\u001b[?25h  Created wheel for provabgs: filename=provabgs-0.1-py3-none-any.whl size=14977699 sha256=3ffe4e5ddde014f797d27563225ad6c66375e8060ba8ac841fa127c9248cece0\n",
      "  Stored in directory: /tmp/pip-ephem-wheel-cache-2d0dextm/wheels/50/b1/8c/96efdb74859fd559b23907d6b38eb2a97aa8362da66cbb7437\n",
      "Successfully built provabgs\n",
      "Installing collected packages: provabgs\n",
      "  Attempting uninstall: provabgs\n",
      "    Found existing installation: provabgs 0.1\n",
      "    Uninstalling provabgs-0.1:\n",
      "      Successfully uninstalled provabgs-0.1\n",
      "Successfully installed provabgs-0.1\n"
     ]
    }
   ],
   "source": [
    "# lets install the python package `provabgs`, a python package for generating the PRObabilistic Value-Added BGS (PROVABGS)\n",
    "!pip install git+https://github.com/changhoonhahn/provabgs.git --upgrade --user"
   ]
  },
  {
   "cell_type": "code",
   "execution_count": 2,
   "metadata": {},
   "outputs": [
    {
     "name": "stdout",
     "output_type": "stream",
     "text": [
      "Requirement already satisfied: zeus-mcmc in /global/u1/c/chahah/.local/lib/python3.8/site-packages (2.2.0)\n",
      "Requirement already satisfied: matplotlib in /global/common/software/desi/cori/desiconda/20200801-1.4.0-spec/conda/lib/python3.8/site-packages (from zeus-mcmc) (3.2.1)\n",
      "Requirement already satisfied: scipy in /global/common/software/desi/cori/desiconda/20200801-1.4.0-spec/conda/lib/python3.8/site-packages (from zeus-mcmc) (1.5.0)\n",
      "Requirement already satisfied: pytest in /global/common/software/desi/cori/desiconda/20200801-1.4.0-spec/conda/lib/python3.8/site-packages (from zeus-mcmc) (5.4.3)\n",
      "Requirement already satisfied: seaborn in /global/common/software/desi/cori/desiconda/20200801-1.4.0-spec/conda/lib/python3.8/site-packages (from zeus-mcmc) (0.10.1)\n",
      "Requirement already satisfied: numpy in /global/common/software/desi/cori/desiconda/20200801-1.4.0-spec/conda/lib/python3.8/site-packages (from zeus-mcmc) (1.19.1)\n",
      "Requirement already satisfied: sklearn in /global/u1/c/chahah/.local/lib/python3.8/site-packages (from zeus-mcmc) (0.0)\n",
      "Requirement already satisfied: tqdm in /global/common/software/desi/cori/desiconda/20200801-1.4.0-spec/conda/lib/python3.8/site-packages (from zeus-mcmc) (4.46.0)\n",
      "Requirement already satisfied: setuptools in /global/common/software/desi/cori/desiconda/20200801-1.4.0-spec/conda/lib/python3.8/site-packages (from zeus-mcmc) (46.4.0.post20200518)\n",
      "Requirement already satisfied: python-dateutil>=2.1 in /global/common/software/desi/cori/desiconda/20200801-1.4.0-spec/conda/lib/python3.8/site-packages (from matplotlib->zeus-mcmc) (2.8.1)\n",
      "Requirement already satisfied: pyparsing!=2.0.4,!=2.1.2,!=2.1.6,>=2.0.1 in /global/common/software/desi/cori/desiconda/20200801-1.4.0-spec/conda/lib/python3.8/site-packages (from matplotlib->zeus-mcmc) (2.4.7)\n",
      "Requirement already satisfied: cycler>=0.10 in /global/common/software/desi/cori/desiconda/20200801-1.4.0-spec/conda/lib/python3.8/site-packages (from matplotlib->zeus-mcmc) (0.10.0)\n",
      "Requirement already satisfied: kiwisolver>=1.0.1 in /global/common/software/desi/cori/desiconda/20200801-1.4.0-spec/conda/lib/python3.8/site-packages (from matplotlib->zeus-mcmc) (1.2.0)\n",
      "Requirement already satisfied: py>=1.5.0 in /global/common/software/desi/cori/desiconda/20200801-1.4.0-spec/conda/lib/python3.8/site-packages (from pytest->zeus-mcmc) (1.9.0)\n",
      "Requirement already satisfied: packaging in /global/common/software/desi/cori/desiconda/20200801-1.4.0-spec/conda/lib/python3.8/site-packages (from pytest->zeus-mcmc) (20.4)\n",
      "Requirement already satisfied: attrs>=17.4.0 in /global/common/software/desi/cori/desiconda/20200801-1.4.0-spec/conda/lib/python3.8/site-packages (from pytest->zeus-mcmc) (19.3.0)\n",
      "Requirement already satisfied: more-itertools>=4.0.0 in /global/common/software/desi/cori/desiconda/20200801-1.4.0-spec/conda/lib/python3.8/site-packages (from pytest->zeus-mcmc) (8.4.0)\n",
      "Requirement already satisfied: pluggy<1.0,>=0.12 in /global/common/software/desi/cori/desiconda/20200801-1.4.0-spec/conda/lib/python3.8/site-packages (from pytest->zeus-mcmc) (0.13.1)\n",
      "Requirement already satisfied: wcwidth in /global/common/software/desi/cori/desiconda/20200801-1.4.0-spec/conda/lib/python3.8/site-packages (from pytest->zeus-mcmc) (0.2.5)\n",
      "Requirement already satisfied: pandas>=0.22.0 in /global/common/software/desi/cori/desiconda/20200801-1.4.0-spec/conda/lib/python3.8/site-packages (from seaborn->zeus-mcmc) (1.0.5)\n",
      "Requirement already satisfied: scikit-learn in /global/common/software/desi/cori/desiconda/20200801-1.4.0-spec/conda/lib/python3.8/site-packages (from sklearn->zeus-mcmc) (0.23.1)\n",
      "Requirement already satisfied: six>=1.5 in /global/common/software/desi/cori/desiconda/20200801-1.4.0-spec/conda/lib/python3.8/site-packages (from python-dateutil>=2.1->matplotlib->zeus-mcmc) (1.14.0)\n",
      "Requirement already satisfied: pytz>=2017.2 in /global/common/software/desi/cori/desiconda/20200801-1.4.0-spec/conda/lib/python3.8/site-packages (from pandas>=0.22.0->seaborn->zeus-mcmc) (2020.1)\n",
      "Requirement already satisfied: joblib>=0.11 in /global/common/software/desi/cori/desiconda/20200801-1.4.0-spec/conda/lib/python3.8/site-packages (from scikit-learn->sklearn->zeus-mcmc) (0.16.0)\n",
      "Requirement already satisfied: threadpoolctl>=2.0.0 in /global/common/software/desi/cori/desiconda/20200801-1.4.0-spec/conda/lib/python3.8/site-packages (from scikit-learn->sklearn->zeus-mcmc) (2.1.0)\n"
     ]
    }
   ],
   "source": [
    "!pip install zeus-mcmc --user"
   ]
  },
  {
   "cell_type": "code",
   "execution_count": 3,
   "metadata": {},
   "outputs": [],
   "source": [
    "import numpy as np "
   ]
  },
  {
   "cell_type": "code",
   "execution_count": 4,
   "metadata": {},
   "outputs": [
    {
     "name": "stderr",
     "output_type": "stream",
     "text": [
      "/global/homes/c/chahah/.local/lib/python3.8/site-packages/provabgs/models.py:25: UserWarning: import error with fsps; only use emulators\n",
      "  warnings.warn('import error with fsps; only use emulators')\n"
     ]
    }
   ],
   "source": [
    "from provabgs import infer as Infer\n",
    "from provabgs import models as Models\n",
    "from provabgs import flux_calib as FluxCalib"
   ]
  },
  {
   "cell_type": "code",
   "execution_count": 5,
   "metadata": {},
   "outputs": [],
   "source": [
    "# -- plotting -- \n",
    "import matplotlib as mpl\n",
    "import matplotlib.pyplot as plt\n",
    "mpl.rcParams['font.family'] = 'serif'\n",
    "mpl.rcParams['axes.linewidth'] = 1.5\n",
    "mpl.rcParams['axes.xmargin'] = 1\n",
    "mpl.rcParams['xtick.labelsize'] = 'x-large'\n",
    "mpl.rcParams['xtick.major.size'] = 5\n",
    "mpl.rcParams['xtick.major.width'] = 1.5\n",
    "mpl.rcParams['ytick.labelsize'] = 'x-large'\n",
    "mpl.rcParams['ytick.major.size'] = 5\n",
    "mpl.rcParams['ytick.major.width'] = 1.5\n",
    "mpl.rcParams['legend.frameon'] = False"
   ]
  },
  {
   "cell_type": "code",
   "execution_count": 6,
   "metadata": {},
   "outputs": [
    {
     "name": "stdout",
     "output_type": "stream",
     "text": [
      "INFO:spectra.py:253:read_spectra: iotime 0.771 sec to read coadd-0-80612-deep.fits at 2021-04-06T19:22:38.726213\n"
     ]
    }
   ],
   "source": [
    "# read in DESI Cascades spectra from TILE 80612\n",
    "from desispec.io import read_spectra\n",
    "\n",
    "spectra = read_spectra('/global/cfs/cdirs/desi/spectro/redux/cascades/tiles/80612/deep/coadd-0-80612-deep.fits')"
   ]
  },
  {
   "cell_type": "code",
   "execution_count": 7,
   "metadata": {},
   "outputs": [],
   "source": [
    "igal = 10"
   ]
  },
  {
   "cell_type": "code",
   "execution_count": 8,
   "metadata": {},
   "outputs": [
    {
     "name": "stdout",
     "output_type": "stream",
     "text": [
      "z=0.291254\n"
     ]
    }
   ],
   "source": [
    "from astropy.table import Table\n",
    "zbest = Table.read('/global/cfs/cdirs/desi/spectro/redux/cascades/tiles/80612/deep/zbest-0-80612-deep.fits', hdu=1)\n",
    "zred = zbest['Z'][igal]\n",
    "print('z=%f' % zred)"
   ]
  },
  {
   "cell_type": "code",
   "execution_count": 9,
   "metadata": {},
   "outputs": [
    {
     "data": {
      "text/plain": [
       "(0.0, 5.0)"
      ]
     },
     "execution_count": 9,
     "metadata": {},
     "output_type": "execute_result"
    },
    {
     "data": {
      "image/png": "[encoded data removed]",
      "text/plain": [
       "<Figure size 720x360 with 1 Axes>"
      ]
     },
     "metadata": {
      "needs_background": "light"
     },
     "output_type": "display_data"
    }
   ],
   "source": [
    "fig = plt.figure(figsize=(10,5))\n",
    "sub = fig.add_subplot(111)\n",
    "sub.plot(spectra.wave['b'], spectra.flux['b'][igal])\n",
    "sub.plot(spectra.wave['r'], spectra.flux['r'][igal])\n",
    "sub.plot(spectra.wave['z'], spectra.flux['z'][igal])\n",
    "sub.set_xlim(spectra.wave['b'].min(), spectra.wave['z'].max())\n",
    "sub.set_ylim(0, 5)"
   ]
  },
  {
   "cell_type": "code",
   "execution_count": 10,
   "metadata": {},
   "outputs": [],
   "source": [
    "# declare prior\n",
    "priors = Infer.load_priors([\n",
    "    Infer.UniformPrior(9., 12, label='sed'),\n",
    "    Infer.FlatDirichletPrior(4, label='sed'), \n",
    "    Infer.UniformPrior(np.array([6.9e-5, 6.9e-5, 0., 0., -2.2]), np.array([7.3e-3, 7.3e-3, 3., 4., 0.4]), label='sed'), \n",
    "    Infer.UniformPrior(np.array([0.9, 0.9, 0.9]), np.array([1.1, 1.1, 1.1]), label='flux_calib') # flux calibration variables\n",
    "    ])\n",
    "\n",
    "# declare model\n",
    "m_nmf = Models.NMF(burst=False, emulator=True)\n",
    "\n",
    "# declare flux calibration \n",
    "fluxcalib = FluxCalib.constant_flux_DESI_arms"
   ]
  },
  {
   "cell_type": "code",
   "execution_count": 11,
   "metadata": {},
   "outputs": [],
   "source": [
    "desi_mcmc = Infer.desiMCMC(\n",
    "    model=m_nmf, \n",
    "    flux_calib=fluxcalib, \n",
    "    prior=priors\n",
    ")"
   ]
  },
  {
   "cell_type": "code",
   "execution_count": null,
   "metadata": {},
   "outputs": [
    {
     "name": "stdout",
     "output_type": "stream",
     "text": [
      "--- initializing the walkers ---\n"
     ]
    },
    {
     "name": "stderr",
     "output_type": "stream",
     "text": [
      "/global/homes/c/chahah/.local/lib/python3.8/site-packages/provabgs/models.py:849: RuntimeWarning: overflow encountered in exp\n",
      "  layers.append((betas_[i] + (1.-betas_[i])*1./(1.+np.exp(-alphas_[i]*act[-1])))*act[-1])\n",
      "/global/homes/c/chahah/.local/lib/python3.8/site-packages/provabgs/models.py:849: RuntimeWarning: overflow encountered in exp\n",
      "  layers.append((betas_[i] + (1.-betas_[i])*1./(1.+np.exp(-alphas_[i]*act[-1])))*act[-1])\n",
      "Initialising ensemble of 100 walkers...\n"
     ]
    },
    {
     "name": "stdout",
     "output_type": "stream",
     "text": [
      "initial theta = [10.560828980650623, 0.4366121397585645, 0.5544249583031693, 0.5598515045913397, 0.004560434294735009, 0.0029832155045308915, 0.0008661774856447682, 0.5796154065755563, -1.2872761922767997, 1.09999999350961, 1.09282449738282, 1.0668625561939813]\n",
      "log Posterior(theta0) = -5574.276718\n",
      "--- running MCMC ---\n"
     ]
    },
    {
     "name": "stderr",
     "output_type": "stream",
     "text": [
      "Sampling progress :   0%|          | 0/1100 [00:00<?, ?it/s]"
     ]
    }
   ],
   "source": [
    "mcmc = desi_mcmc.run(\n",
    "    wave_obs=[spectra.wave['b'], spectra.wave['r'], spectra.wave['z']],\n",
    "    flux_obs=[spectra.flux['b'][igal], spectra.flux['r'][igal], spectra.flux['z'][igal]],\n",
    "    flux_ivar_obs=[spectra.ivar['b'][igal], spectra.ivar['r'][igal], spectra.ivar['z'][igal]],\n",
    "    zred=zred, \n",
    "    sampler='zeus',\n",
    "    nwalkers=100, \n",
    "    burnin=100,\n",
    "    opt_maxiter=10000,\n",
    "    niter=1000, \n",
    "    debug=True)"
   ]
  },
  {
   "cell_type": "code",
   "execution_count": null,
   "metadata": {},
   "outputs": [],
   "source": []
  }
 ],
 "metadata": {
  "kernelspec": {
   "display_name": "DESI master",
   "language": "python",
   "name": "desi-master"
  },
  "language_info": {
   "codemirror_mode": {
    "name": "ipython",
    "version": 3
   },
   "file_extension": ".py",
   "mimetype": "text/x-python",
   "name": "python",
   "nbconvert_exporter": "python",
   "pygments_lexer": "ipython3",
   "version": "3.8.3"
  }
 },
 "nbformat": 4,
 "nbformat_minor": 4
}
