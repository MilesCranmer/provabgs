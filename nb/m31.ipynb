{
 "cells": [
  {
   "cell_type": "code",
   "execution_count": 1,
   "id": "c8ecbae7-27f6-489d-8c08-b8f107facd1a",
   "metadata": {},
   "outputs": [],
   "source": [
    "import os\n",
    "import h5py\n",
    "import numpy as np\n",
    "from astropy.io import fits\n",
    "from astropy import table as aTable\n",
    "from desispec.io import read_spectra"
   ]
  },
  {
   "cell_type": "code",
   "execution_count": 2,
   "id": "423ab3a1-4052-427d-b859-57ea15cffb92",
   "metadata": {
    "collapsed": true,
    "jupyter": {
     "outputs_hidden": true
    },
    "tags": []
   },
   "outputs": [
    {
     "name": "stdout",
     "output_type": "stream",
     "text": [
      "Found existing installation: provabgs 0.1\n",
      "Uninstalling provabgs-0.1:\n",
      "  Successfully uninstalled provabgs-0.1\n",
      "Collecting git+https://github.com/changhoonhahn/provabgs.git\n",
      "  Cloning https://github.com/changhoonhahn/provabgs.git to /tmp/pip-req-build-okmf8cea\n",
      "  Running command git clone --filter=blob:none -q https://github.com/changhoonhahn/provabgs.git /tmp/pip-req-build-okmf8cea\n",
      "  Resolved https://github.com/changhoonhahn/provabgs.git to commit 3c64e929dc392041a4537fd2c4297fe588a2687c\n",
      "  Preparing metadata (setup.py) ... \u001b[?25ldone\n",
      "\u001b[?25hRequirement already satisfied: numpy>1.18 in /global/common/software/desi/cori/desiconda/20211217-2.0.0/conda/lib/python3.9/site-packages (from provabgs==0.1) (1.21.4)\n",
      "Requirement already satisfied: h5py>=2.10 in /global/common/software/desi/cori/desiconda/20211217-2.0.0/conda/lib/python3.9/site-packages (from provabgs==0.1) (3.6.0)\n",
      "Requirement already satisfied: numba in /global/common/software/desi/cori/desiconda/20211217-2.0.0/conda/lib/python3.9/site-packages (from provabgs==0.1) (0.53.1)\n",
      "Requirement already satisfied: speclite in /global/common/software/desi/cori/desiconda/20211217-2.0.0/conda/lib/python3.9/site-packages (from provabgs==0.1) (0.14)\n",
      "Requirement already satisfied: zeus-mcmc in /global/u1/c/chahah/.local/lib/python3.9/site-packages (from provabgs==0.1) (2.4.1)\n",
      "Requirement already satisfied: emcee in /global/u1/c/chahah/.local/lib/python3.9/site-packages (from provabgs==0.1) (3.1.2)\n",
      "Requirement already satisfied: llvmlite<0.37,>=0.36.0rc1 in /global/common/software/desi/cori/desiconda/20211217-2.0.0/conda/lib/python3.9/site-packages (from numba->provabgs==0.1) (0.36.0)\n",
      "Requirement already satisfied: setuptools in /global/common/software/desi/cori/desiconda/20211217-2.0.0/conda/lib/python3.9/site-packages (from numba->provabgs==0.1) (59.4.0)\n",
      "Requirement already satisfied: astropy in /global/common/software/desi/cori/desiconda/20211217-2.0.0/conda/lib/python3.9/site-packages (from speclite->provabgs==0.1) (5.0)\n",
      "Requirement already satisfied: scipy in /global/common/software/desi/cori/desiconda/20211217-2.0.0/conda/lib/python3.9/site-packages (from speclite->provabgs==0.1) (1.7.3)\n",
      "Requirement already satisfied: pyyaml in /global/common/software/desi/cori/desiconda/20211217-2.0.0/conda/lib/python3.9/site-packages (from speclite->provabgs==0.1) (6.0)\n",
      "Requirement already satisfied: sklearn in /global/u1/c/chahah/.local/lib/python3.9/site-packages (from zeus-mcmc->provabgs==0.1) (0.0)\n",
      "Requirement already satisfied: matplotlib in /global/common/software/desi/cori/desiconda/20211217-2.0.0/conda/lib/python3.9/site-packages (from zeus-mcmc->provabgs==0.1) (3.5.1)\n",
      "Requirement already satisfied: tqdm in /global/common/software/desi/cori/desiconda/20211217-2.0.0/conda/lib/python3.9/site-packages (from zeus-mcmc->provabgs==0.1) (4.62.3)\n",
      "Requirement already satisfied: seaborn in /global/common/software/desi/cori/desiconda/20211217-2.0.0/conda/lib/python3.9/site-packages (from zeus-mcmc->provabgs==0.1) (0.11.2)\n",
      "Requirement already satisfied: pytest in /global/common/software/desi/cori/desiconda/20211217-2.0.0/conda/lib/python3.9/site-packages (from zeus-mcmc->provabgs==0.1) (6.2.5)\n",
      "Requirement already satisfied: pyerfa>=2.0 in /global/common/software/desi/cori/desiconda/20211217-2.0.0/conda/lib/python3.9/site-packages (from astropy->speclite->provabgs==0.1) (2.0.0.1)\n",
      "Requirement already satisfied: packaging>=19.0 in /global/common/software/desi/cori/desiconda/20211217-2.0.0/conda/lib/python3.9/site-packages (from astropy->speclite->provabgs==0.1) (21.3)\n",
      "Requirement already satisfied: pyparsing>=2.2.1 in /global/common/software/desi/cori/desiconda/20211217-2.0.0/conda/lib/python3.9/site-packages (from matplotlib->zeus-mcmc->provabgs==0.1) (3.0.6)\n",
      "Requirement already satisfied: python-dateutil>=2.7 in /global/common/software/desi/cori/desiconda/20211217-2.0.0/conda/lib/python3.9/site-packages (from matplotlib->zeus-mcmc->provabgs==0.1) (2.8.2)\n",
      "Requirement already satisfied: cycler>=0.10 in /global/common/software/desi/cori/desiconda/20211217-2.0.0/conda/lib/python3.9/site-packages (from matplotlib->zeus-mcmc->provabgs==0.1) (0.11.0)\n",
      "Requirement already satisfied: pillow>=6.2.0 in /global/common/software/desi/cori/desiconda/20211217-2.0.0/conda/lib/python3.9/site-packages (from matplotlib->zeus-mcmc->provabgs==0.1) (8.4.0)\n",
      "Requirement already satisfied: kiwisolver>=1.0.1 in /global/common/software/desi/cori/desiconda/20211217-2.0.0/conda/lib/python3.9/site-packages (from matplotlib->zeus-mcmc->provabgs==0.1) (1.3.2)\n",
      "Requirement already satisfied: fonttools>=4.22.0 in /global/common/software/desi/cori/desiconda/20211217-2.0.0/conda/lib/python3.9/site-packages (from matplotlib->zeus-mcmc->provabgs==0.1) (4.28.4)\n",
      "Requirement already satisfied: attrs>=19.2.0 in /global/common/software/desi/cori/desiconda/20211217-2.0.0/conda/lib/python3.9/site-packages (from pytest->zeus-mcmc->provabgs==0.1) (21.2.0)\n",
      "Requirement already satisfied: iniconfig in /global/common/software/desi/cori/desiconda/20211217-2.0.0/conda/lib/python3.9/site-packages (from pytest->zeus-mcmc->provabgs==0.1) (1.1.1)\n",
      "Requirement already satisfied: pluggy<2.0,>=0.12 in /global/common/software/desi/cori/desiconda/20211217-2.0.0/conda/lib/python3.9/site-packages (from pytest->zeus-mcmc->provabgs==0.1) (1.0.0)\n",
      "Requirement already satisfied: py>=1.8.2 in /global/common/software/desi/cori/desiconda/20211217-2.0.0/conda/lib/python3.9/site-packages (from pytest->zeus-mcmc->provabgs==0.1) (1.11.0)\n",
      "Requirement already satisfied: toml in /global/common/software/desi/cori/desiconda/20211217-2.0.0/conda/lib/python3.9/site-packages (from pytest->zeus-mcmc->provabgs==0.1) (0.10.2)\n",
      "Requirement already satisfied: pandas>=0.23 in /global/common/software/desi/cori/desiconda/20211217-2.0.0/conda/lib/python3.9/site-packages (from seaborn->zeus-mcmc->provabgs==0.1) (1.3.5)\n",
      "Requirement already satisfied: scikit-learn in /global/common/software/desi/cori/desiconda/20211217-2.0.0/conda/lib/python3.9/site-packages (from sklearn->zeus-mcmc->provabgs==0.1) (1.0.1)\n",
      "Requirement already satisfied: pytz>=2017.3 in /global/common/software/desi/cori/desiconda/20211217-2.0.0/conda/lib/python3.9/site-packages (from pandas>=0.23->seaborn->zeus-mcmc->provabgs==0.1) (2021.3)\n",
      "Requirement already satisfied: six>=1.5 in /global/common/software/desi/cori/desiconda/20211217-2.0.0/conda/lib/python3.9/site-packages (from python-dateutil>=2.7->matplotlib->zeus-mcmc->provabgs==0.1) (1.16.0)\n",
      "Requirement already satisfied: joblib>=0.11 in /global/common/software/desi/cori/desiconda/20211217-2.0.0/conda/lib/python3.9/site-packages (from scikit-learn->sklearn->zeus-mcmc->provabgs==0.1) (1.1.0)\n",
      "Requirement already satisfied: threadpoolctl>=2.0.0 in /global/common/software/desi/cori/desiconda/20211217-2.0.0/conda/lib/python3.9/site-packages (from scikit-learn->sklearn->zeus-mcmc->provabgs==0.1) (3.0.0)\n",
      "Building wheels for collected packages: provabgs\n",
      "  Building wheel for provabgs (setup.py) ... \u001b[?25ldone\n",
      "\u001b[?25h  Created wheel for provabgs: filename=provabgs-0.1-py3-none-any.whl size=39795620 sha256=8d6a46567f925030a4661ba84e8f45450e650c504626b2a590ee43414b299d86\n",
      "  Stored in directory: /tmp/pip-ephem-wheel-cache-puxd033m/wheels/7e/3c/9e/fc1ba34fdd1cb4b872903148b049da1312594804e05d1bf0cc\n",
      "Successfully built provabgs\n",
      "Installing collected packages: provabgs\n",
      "Successfully installed provabgs-0.1\n",
      "Requirement already satisfied: zeus-mcmc in /global/u1/c/chahah/.local/lib/python3.9/site-packages (2.4.1)\n",
      "Requirement already satisfied: setuptools in /global/common/software/desi/cori/desiconda/20211217-2.0.0/conda/lib/python3.9/site-packages (from zeus-mcmc) (59.4.0)\n",
      "Requirement already satisfied: matplotlib in /global/common/software/desi/cori/desiconda/20211217-2.0.0/conda/lib/python3.9/site-packages (from zeus-mcmc) (3.5.1)\n",
      "Requirement already satisfied: scipy>=1.5.0 in /global/common/software/desi/cori/desiconda/20211217-2.0.0/conda/lib/python3.9/site-packages (from zeus-mcmc) (1.7.3)\n",
      "Requirement already satisfied: tqdm in /global/common/software/desi/cori/desiconda/20211217-2.0.0/conda/lib/python3.9/site-packages (from zeus-mcmc) (4.62.3)\n",
      "Requirement already satisfied: seaborn in /global/common/software/desi/cori/desiconda/20211217-2.0.0/conda/lib/python3.9/site-packages (from zeus-mcmc) (0.11.2)\n",
      "Requirement already satisfied: pytest in /global/common/software/desi/cori/desiconda/20211217-2.0.0/conda/lib/python3.9/site-packages (from zeus-mcmc) (6.2.5)\n",
      "Requirement already satisfied: sklearn in /global/u1/c/chahah/.local/lib/python3.9/site-packages (from zeus-mcmc) (0.0)\n",
      "Requirement already satisfied: numpy in /global/common/software/desi/cori/desiconda/20211217-2.0.0/conda/lib/python3.9/site-packages (from zeus-mcmc) (1.21.4)\n",
      "Requirement already satisfied: python-dateutil>=2.7 in /global/common/software/desi/cori/desiconda/20211217-2.0.0/conda/lib/python3.9/site-packages (from matplotlib->zeus-mcmc) (2.8.2)\n",
      "Requirement already satisfied: packaging>=20.0 in /global/common/software/desi/cori/desiconda/20211217-2.0.0/conda/lib/python3.9/site-packages (from matplotlib->zeus-mcmc) (21.3)\n",
      "Requirement already satisfied: kiwisolver>=1.0.1 in /global/common/software/desi/cori/desiconda/20211217-2.0.0/conda/lib/python3.9/site-packages (from matplotlib->zeus-mcmc) (1.3.2)\n",
      "Requirement already satisfied: fonttools>=4.22.0 in /global/common/software/desi/cori/desiconda/20211217-2.0.0/conda/lib/python3.9/site-packages (from matplotlib->zeus-mcmc) (4.28.4)\n",
      "Requirement already satisfied: cycler>=0.10 in /global/common/software/desi/cori/desiconda/20211217-2.0.0/conda/lib/python3.9/site-packages (from matplotlib->zeus-mcmc) (0.11.0)\n",
      "Requirement already satisfied: pyparsing>=2.2.1 in /global/common/software/desi/cori/desiconda/20211217-2.0.0/conda/lib/python3.9/site-packages (from matplotlib->zeus-mcmc) (3.0.6)\n",
      "Requirement already satisfied: pillow>=6.2.0 in /global/common/software/desi/cori/desiconda/20211217-2.0.0/conda/lib/python3.9/site-packages (from matplotlib->zeus-mcmc) (8.4.0)\n",
      "Requirement already satisfied: attrs>=19.2.0 in /global/common/software/desi/cori/desiconda/20211217-2.0.0/conda/lib/python3.9/site-packages (from pytest->zeus-mcmc) (21.2.0)\n",
      "Requirement already satisfied: iniconfig in /global/common/software/desi/cori/desiconda/20211217-2.0.0/conda/lib/python3.9/site-packages (from pytest->zeus-mcmc) (1.1.1)\n",
      "Requirement already satisfied: pluggy<2.0,>=0.12 in /global/common/software/desi/cori/desiconda/20211217-2.0.0/conda/lib/python3.9/site-packages (from pytest->zeus-mcmc) (1.0.0)\n",
      "Requirement already satisfied: py>=1.8.2 in /global/common/software/desi/cori/desiconda/20211217-2.0.0/conda/lib/python3.9/site-packages (from pytest->zeus-mcmc) (1.11.0)\n",
      "Requirement already satisfied: toml in /global/common/software/desi/cori/desiconda/20211217-2.0.0/conda/lib/python3.9/site-packages (from pytest->zeus-mcmc) (0.10.2)\n",
      "Requirement already satisfied: pandas>=0.23 in /global/common/software/desi/cori/desiconda/20211217-2.0.0/conda/lib/python3.9/site-packages (from seaborn->zeus-mcmc) (1.3.5)\n",
      "Requirement already satisfied: scikit-learn in /global/common/software/desi/cori/desiconda/20211217-2.0.0/conda/lib/python3.9/site-packages (from sklearn->zeus-mcmc) (1.0.1)\n",
      "Requirement already satisfied: pytz>=2017.3 in /global/common/software/desi/cori/desiconda/20211217-2.0.0/conda/lib/python3.9/site-packages (from pandas>=0.23->seaborn->zeus-mcmc) (2021.3)\n",
      "Requirement already satisfied: six>=1.5 in /global/common/software/desi/cori/desiconda/20211217-2.0.0/conda/lib/python3.9/site-packages (from python-dateutil>=2.7->matplotlib->zeus-mcmc) (1.16.0)\n",
      "Requirement already satisfied: threadpoolctl>=2.0.0 in /global/common/software/desi/cori/desiconda/20211217-2.0.0/conda/lib/python3.9/site-packages (from scikit-learn->sklearn->zeus-mcmc) (3.0.0)\n",
      "Requirement already satisfied: joblib>=0.11 in /global/common/software/desi/cori/desiconda/20211217-2.0.0/conda/lib/python3.9/site-packages (from scikit-learn->sklearn->zeus-mcmc) (1.1.0)\n"
     ]
    }
   ],
   "source": [
    "# lets install the python package `provabgs`, a python package for generating the PRObabilistic Value-Added BGS (PROVABGS)\n",
    "!pip uninstall -y provabgs\n",
    "!pip install git+https://github.com/changhoonhahn/provabgs.git --upgrade --user\n",
    "!pip install zeus-mcmc --user"
   ]
  },
  {
   "cell_type": "code",
   "execution_count": 3,
   "id": "fa3fcfb2-4534-4d42-8666-14bc12b0277e",
   "metadata": {},
   "outputs": [
    {
     "name": "stderr",
     "output_type": "stream",
     "text": [
      "/global/homes/c/chahah/.local/lib/python3.9/site-packages/provabgs/models.py:23: UserWarning: import error with fsps; only use emulators\n",
      "  warnings.warn('import error with fsps; only use emulators')\n"
     ]
    }
   ],
   "source": [
    "from provabgs import util as UT\n",
    "from provabgs import infer as Infer\n",
    "from provabgs import models as Models\n",
    "from provabgs import flux_calib as FluxCalib"
   ]
  },
  {
   "cell_type": "code",
   "execution_count": 4,
   "id": "fe7e9de6-5b90-4d95-b8d7-43297272c002",
   "metadata": {},
   "outputs": [],
   "source": [
    "# -- plotting -- \n",
    "import matplotlib as mpl\n",
    "import matplotlib.pyplot as plt\n",
    "mpl.rcParams['font.family'] = 'serif'\n",
    "mpl.rcParams['axes.linewidth'] = 1.5\n",
    "mpl.rcParams['axes.xmargin'] = 1\n",
    "mpl.rcParams['xtick.labelsize'] = 'x-large'\n",
    "mpl.rcParams['xtick.major.size'] = 5\n",
    "mpl.rcParams['xtick.major.width'] = 1.5\n",
    "mpl.rcParams['ytick.labelsize'] = 'x-large'\n",
    "mpl.rcParams['ytick.major.size'] = 5\n",
    "mpl.rcParams['ytick.major.width'] = 1.5\n",
    "mpl.rcParams['legend.frameon'] = False"
   ]
  },
  {
   "cell_type": "code",
   "execution_count": 5,
   "id": "1088bd6d-10c5-45f4-9311-7bdc27bf629e",
   "metadata": {},
   "outputs": [],
   "source": [
    "dat_dir = '/global/homes/k/koposov/desi_koposov/m31_processing_scripts/reduction_2205/data/'"
   ]
  },
  {
   "cell_type": "markdown",
   "id": "51336ea5-2c80-45de-a26d-c457a2ca117b",
   "metadata": {},
   "source": [
    "## read coadd, vrad, redrock files"
   ]
  },
  {
   "cell_type": "code",
   "execution_count": 6,
   "id": "81aba3d4-2ae3-44c7-a5d8-d103ea709322",
   "metadata": {},
   "outputs": [
    {
     "name": "stdout",
     "output_type": "stream",
     "text": [
      "INFO:spectra.py:291:read_spectra: iotime 15.776 sec to read coadd_m31_all_220521.fits at 2022-06-10T13:44:53.515337\n"
     ]
    }
   ],
   "source": [
    "coadd = read_spectra(os.path.join(dat_dir, 'coadd_m31_all_220521.fits'))"
   ]
  },
  {
   "cell_type": "code",
   "execution_count": 7,
   "id": "761b64e3-ffe2-4bdb-98f8-aff599c2384b",
   "metadata": {},
   "outputs": [
    {
     "name": "stderr",
     "output_type": "stream",
     "text": [
      "WARNING: hdu= was not specified but multiple tables are present, reading in first available table (hdu=1) [astropy.io.fits.connect]\n"
     ]
    }
   ],
   "source": [
    "zbest = aTable.Table.read(os.path.join(dat_dir, 'redrock_m31_all_220521.fits'))"
   ]
  },
  {
   "cell_type": "code",
   "execution_count": 8,
   "id": "6d631b7f-6c00-49a6-8698-7c721c364306",
   "metadata": {},
   "outputs": [],
   "source": [
    "vrad = aTable.Table.read(os.path.join('/global/cscratch1/sd/chahah/provabgs/', 'All_clusters_M31.fits'))"
   ]
  },
  {
   "cell_type": "code",
   "execution_count": 9,
   "id": "e24cee86-b9c5-4fc1-8d4a-10cbb9445ccd",
   "metadata": {},
   "outputs": [],
   "source": [
    "rvtab = aTable.Table.read(os.path.join(dat_dir, 'rvtab_coadd_m31_all_220521.fits'))"
   ]
  },
  {
   "cell_type": "code",
   "execution_count": 10,
   "id": "dfe6f165-7931-4049-bdfc-04f3b5b71885",
   "metadata": {},
   "outputs": [],
   "source": [
    "targid = coadd.target_ids()"
   ]
  },
  {
   "cell_type": "code",
   "execution_count": 11,
   "id": "62844fb5-3964-43d5-b153-5979c523917f",
   "metadata": {},
   "outputs": [],
   "source": [
    "igals_coadd, igals_rvtab = [], []\n",
    "for tid in vrad['TARGETID']: \n",
    "    assert np.sum(targid == tid) == 1\n",
    "    igals_coadd.append(np.arange(len(targid))[targid == tid][0])\n",
    "    \n",
    "    assert np.sum(rvtab['TARGETID'] == tid) == 1\n",
    "    igals_rvtab.append(np.arange(len(rvtab))[rvtab['TARGETID'] == tid][0])"
   ]
  },
  {
   "cell_type": "code",
   "execution_count": 13,
   "id": "6f56cb4a-3d4c-41ac-b88b-06cd8f54d3ec",
   "metadata": {},
   "outputs": [
    {
     "data": {
      "text/plain": [
       "(0.0, 15.0)"
      ]
     },
     "execution_count": 13,
     "metadata": {},
     "output_type": "execute_result"
    },
    {
     "data": {
      "image/png": "[encoded data removed]",
      "text/plain": [
       "<Figure size 720x360 with 1 Axes>"
      ]
     },
     "metadata": {
      "needs_background": "light"
     },
     "output_type": "display_data"
    }
   ],
   "source": [
    "fig = plt.figure(figsize=(10,5))\n",
    "sub = fig.add_subplot(111)\n",
    "for igal in igals_coadd[:5]: \n",
    "    sub.plot(coadd.wave['b'], coadd.flux['b'][igal], c='C%i' % igal)\n",
    "    sub.plot(coadd.wave['r'], coadd.flux['r'][igal], c='C%i' % igal)\n",
    "    sub.plot(coadd.wave['z'], coadd.flux['z'][igal], c='C%i' % igal)\n",
    "sub.set_xlim(coadd.wave['b'].min(), coadd.wave['z'].max())\n",
    "sub.set_ylim(0, 15)"
   ]
  },
  {
   "cell_type": "markdown",
   "id": "81fbcc9d-348c-452d-b273-478b4a4b90cc",
   "metadata": {},
   "source": [
    "## fit spectra using `provabgs`"
   ]
  },
  {
   "cell_type": "code",
   "execution_count": 18,
   "id": "512a1a19-6789-4632-974f-4b34c35a39b1",
   "metadata": {},
   "outputs": [
    {
     "name": "stdout",
     "output_type": "stream",
     "text": [
      "input parameters : logmstar, beta1_sfh, beta2_sfh, beta3_sfh, beta4_sfh, fburst, tburst, gamma1_zh, gamma2_zh, dust1, dust2, dust_index\n"
     ]
    }
   ],
   "source": [
    "# declare prior\n",
    "priors = Infer.load_priors([\n",
    "    Infer.UniformPrior(0., 10, label='sed'),\n",
    "    Infer.FlatDirichletPrior(4, label='sed'), \n",
    "    Infer.UniformPrior(0., 1., label='sed'), \n",
    "    Infer.LogUniformPrior(1e-2, 13.27, label='sed'), \n",
    "    Infer.UniformPrior(np.array([6.9e-5, 6.9e-5, 0., 0., -2.2]),\n",
    "                       np.array([7.3e-3, 7.3e-3, 3., 4., 0.4]), label='sed')\n",
    "    ])\n",
    "\n",
    "# declare model\n",
    "m_nmf = Models.NMF(burst=True, emulator=True)"
   ]
  },
  {
   "cell_type": "code",
   "execution_count": 19,
   "id": "c59fcf27-ac4a-406a-a1e2-9de663615b4c",
   "metadata": {},
   "outputs": [],
   "source": [
    "desi_mcmc = Infer.desiMCMC(\n",
    "    model=m_nmf, \n",
    "    prior=priors\n",
    ")"
   ]
  },
  {
   "cell_type": "code",
   "execution_count": null,
   "id": "9e2c4bac-61e0-4c81-b7da-c0e6b482bab4",
   "metadata": {},
   "outputs": [
    {
     "name": "stdout",
     "output_type": "stream",
     "text": [
      "0.0007166869550635152\n",
      "--- initializing the walkers ---\n",
      "initial theta = [5.117107457194891, 0.661857662239237, 0.6121321109763744, 0.7854947056008288, 0.9999638891851542, 1.2503518663564384, 0.0030169942242126374, 0.0032578759220048895, 1.468509983442499, 0.59027942223211, -1.5087660011091089]\n",
      "log Posterior(theta0) = -11385.026003\n",
      "--- running MCMC ---\n"
     ]
    },
    {
     "name": "stderr",
     "output_type": "stream",
     "text": [
      "Initialising ensemble of 100 walkers...\n",
      "Sampling progress :   0%|          | 5/1100 [00:57<3:17:07, 10.80s/it]"
     ]
    }
   ],
   "source": [
    "for ii, igal in zip(range(7,8), igals_coadd[7:8]): \n",
    "    \n",
    "    zred = vrad['VRAD'][ii] / 299792.458 \n",
    "    print(zred)\n",
    "    \n",
    "    desi_mcmc = Infer.desiMCMC(\n",
    "        model=m_nmf, \n",
    "        prior=priors)\n",
    "    \n",
    "    mcmc = desi_mcmc.run(\n",
    "        wave_obs=[coadd.wave['b'], coadd.wave['r'], coadd.wave['z']],\n",
    "        flux_obs=[coadd.flux['b'][igal], coadd.flux['r'][igal], coadd.flux['z'][igal]],\n",
    "        flux_ivar_obs=[coadd.ivar['b'][igal], coadd.ivar['r'][igal], coadd.ivar['z'][igal]],\n",
    "        zred=zred, \n",
    "        sampler='zeus',\n",
    "        nwalkers=100, \n",
    "        burnin=100,\n",
    "        opt_maxiter=10000,\n",
    "        niter=1000, \n",
    "        debug=True)"
   ]
  },
  {
   "cell_type": "code",
   "execution_count": null,
   "id": "2ce9c013-b79b-43ea-acaa-01f7275db4db",
   "metadata": {},
   "outputs": [],
   "source": []
  }
 ],
 "metadata": {
  "kernelspec": {
   "display_name": "DESI master",
   "language": "python",
   "name": "desi-master"
  },
  "language_info": {
   "codemirror_mode": {
    "name": "ipython",
    "version": 3
   },
   "file_extension": ".py",
   "mimetype": "text/x-python",
   "name": "python",
   "nbconvert_exporter": "python",
   "pygments_lexer": "ipython3",
   "version": "3.9.7"
  }
 },
 "nbformat": 4,
 "nbformat_minor": 5
}
