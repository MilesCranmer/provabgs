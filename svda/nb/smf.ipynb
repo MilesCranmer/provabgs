{
 "cells": [
  {
   "cell_type": "markdown",
   "id": "a4423297-7c6a-415b-b3d9-e30fa09a80a4",
   "metadata": {},
   "source": [
    "$$\\log p(\\phi | \\{x_i\\}) \\approx \\prod\\limits_{i=1}^N \\frac{1}{S_i} \\sum\\limits_{j=1}^{S_i} p(\\theta_{ij} | \\phi)$$\n",
    "\n",
    "For normalizing flows \n",
    "$$p(\\theta_{ij} | \\phi) = q_\\phi(\\theta_{ij})$$\n",
    "\n",
    "Then a MAP solution for $\\phi$ can be obtained by maximizing $\\log p(\\phi | \\{ x_i \\})$, which is equivalent to maximizing\n",
    "$$\\sum_{i=1}^N \\log \\sum\\limits_{j=1}^S q_\\phi(\\theta_{ij})$$\n"
   ]
  },
  {
   "cell_type": "code",
   "execution_count": 1,
   "id": "dae0cfff-d41c-40c8-ba76-a7b9652df31c",
   "metadata": {},
   "outputs": [],
   "source": [
    "import os\n",
    "import h5py \n",
    "import glob\n",
    "import numpy as np"
   ]
  },
  {
   "cell_type": "code",
   "execution_count": 2,
   "id": "0ce04eb8-8555-410e-b933-bfa1a79d1007",
   "metadata": {},
   "outputs": [],
   "source": [
    "from nflows import transforms, distributions, flows\n",
    "\n",
    "import torch\n",
    "from torch import nn\n",
    "from torch import optim"
   ]
  },
  {
   "cell_type": "code",
   "execution_count": 3,
   "id": "c06eb997-3dfa-45b7-8a3e-b5d742013277",
   "metadata": {},
   "outputs": [],
   "source": [
    "# -- plotting -- \n",
    "import matplotlib as mpl\n",
    "import matplotlib.pyplot as plt\n",
    "mpl.rcParams['font.family'] = 'serif'\n",
    "mpl.rcParams['axes.linewidth'] = 1.5\n",
    "mpl.rcParams['axes.xmargin'] = 1\n",
    "mpl.rcParams['xtick.labelsize'] = 'x-large'\n",
    "mpl.rcParams['xtick.major.size'] = 5\n",
    "mpl.rcParams['xtick.major.width'] = 1.5\n",
    "mpl.rcParams['ytick.labelsize'] = 'x-large'\n",
    "mpl.rcParams['ytick.major.size'] = 5\n",
    "mpl.rcParams['ytick.major.width'] = 1.5\n",
    "mpl.rcParams['legend.frameon'] = False"
   ]
  },
  {
   "cell_type": "code",
   "execution_count": 4,
   "id": "efd90248-edb2-48ac-89be-283b9fdfef30",
   "metadata": {},
   "outputs": [],
   "source": [
    "dat_dir = '/tigress/chhahn/provabgs/svda'"
   ]
  },
  {
   "cell_type": "code",
   "execution_count": 5,
   "id": "3c351bf1-3eee-4848-8fb8-cdc70d153997",
   "metadata": {},
   "outputs": [],
   "source": [
    "if torch.cuda.is_available(): \n",
    "    device = torch.device(type='cuda', index=0)\n",
    "else: \n",
    "    device = 'cpu'"
   ]
  },
  {
   "cell_type": "markdown",
   "id": "5a11b7bd-a54d-471f-9069-e11951977292",
   "metadata": {},
   "source": [
    "# compile $M_*$ posterior data"
   ]
  },
  {
   "cell_type": "code",
   "execution_count": 8,
   "id": "dedb911a-190d-43da-8b93-0eb891ccef6a",
   "metadata": {},
   "outputs": [],
   "source": [
    "logM_posteriors = []\n",
    "for fpost in glob.glob(os.path.join(dat_dir, 'provabgs-*hdf5'))[:3]: \n",
    "    f = h5py.File(fpost, 'r')\n",
    "    mcmc = f['samples'][...][:,-100:,:,0]\n",
    "    \n",
    "    logM_posteriors.append(mcmc.reshape((mcmc.shape[0], mcmc.shape[1] * mcmc.shape[2])))\n",
    "logM_posteriors = np.concatenate(logM_posteriors, axis=0)"
   ]
  },
  {
   "cell_type": "code",
   "execution_count": 9,
   "id": "9089412d",
   "metadata": {},
   "outputs": [
    {
     "name": "stdout",
     "output_type": "stream",
     "text": [
      "1222\n"
     ]
    }
   ],
   "source": [
    "print(logM_posteriors.shape[0])"
   ]
  },
  {
   "cell_type": "code",
   "execution_count": 10,
   "id": "a0a8725e-2882-4282-b8bc-567afda3a2c2",
   "metadata": {},
   "outputs": [
    {
     "data": {
      "text/plain": [
       "(8.0, 12.5)"
      ]
     },
     "execution_count": 10,
     "metadata": {},
     "output_type": "execute_result"
    },
    {
     "data": {
      "image/png": "[encoded data removed]",
      "text/plain": [
       "<Figure size 432x288 with 1 Axes>"
      ]
     },
     "metadata": {
      "needs_background": "light"
     },
     "output_type": "display_data"
    }
   ],
   "source": [
    "for i in np.random.choice(np.arange(logM_posteriors.shape[0]), size=100, replace=False): \n",
    "    plt.hist(logM_posteriors[i,:], bins=40, alpha=0.5)\n",
    "plt.xlim(8., 12.5)"
   ]
  },
  {
   "cell_type": "markdown",
   "id": "b3bbe49f-82f6-4cea-8749-9fd33582c0ff",
   "metadata": {},
   "source": [
    "# estimate $p(M_* | \\{x_i, z_i \\})$ using NDE"
   ]
  },
  {
   "cell_type": "code",
   "execution_count": 11,
   "id": "4f0bedd4-6732-4325-a885-677ab4d70f5b",
   "metadata": {},
   "outputs": [],
   "source": [
    "x_data = torch.tensor(logM_posteriors.astype(np.float32)).to(device)\n",
    "avg_post = torch.mean(x_data)\n",
    "std_post = torch.std(x_data)\n",
    "w_post = (x_data - avg_post)/std_post"
   ]
  },
  {
   "cell_type": "code",
   "execution_count": 12,
   "id": "f94f65bf",
   "metadata": {},
   "outputs": [],
   "source": [
    "batch_size = 256\n",
    "Ntrain = int(0.8 * w_post.shape[0])\n",
    "Nvalid = int(0.1 * w_post.shape[0])\n",
    "\n",
    "trainloader = torch.utils.data.DataLoader(\n",
    "        torch.utils.data.TensorDataset(w_post[:Ntrain]),\n",
    "        batch_size=batch_size,\n",
    "        shuffle=False)\n",
    "\n",
    "validloader = torch.utils.data.DataLoader(\n",
    "        torch.utils.data.TensorDataset(w_post[Ntrain:Ntrain+Nvalid]),\n",
    "        batch_size=batch_size)"
   ]
  },
  {
   "cell_type": "code",
   "execution_count": 13,
   "id": "6d1bd504-799d-46eb-8370-855e0bc1c419",
   "metadata": {},
   "outputs": [],
   "source": [
    "def Loss(flow, post): \n",
    "    return -torch.sum(torch.logsumexp(flow.log_prob(post.flatten()[:,None]).reshape(post.shape), axis=1))"
   ]
  },
  {
   "cell_type": "code",
   "execution_count": 14,
   "id": "9c1238e3-c062-45d9-8227-a207e9d4c7af",
   "metadata": {},
   "outputs": [],
   "source": [
    "ndim = 1 "
   ]
  },
  {
   "cell_type": "code",
   "execution_count": 15,
   "id": "7db64bb2-bc6e-425f-a7d2-f639734ff56d",
   "metadata": {},
   "outputs": [],
   "source": [
    "nhidden = int(np.ceil(np.exp(np.random.uniform(np.log(64), np.log(256)))))\n",
    "\n",
    "blocks = []\n",
    "for iblock in range(5): \n",
    "    blocks += [\n",
    "        transforms.MaskedAffineAutoregressiveTransform(features=ndim, hidden_features=nhidden),\n",
    "        transforms.RandomPermutation(features=ndim)\n",
    "    ]\n",
    "\n",
    "transform = transforms.CompositeTransform(blocks)\n",
    "\n",
    "# Define a base distribution.\n",
    "base_distribution = distributions.StandardNormal(shape=[ndim])"
   ]
  },
  {
   "cell_type": "code",
   "execution_count": 21,
   "id": "bce18ebe-a491-4bdb-af81-31388942fdf5",
   "metadata": {},
   "outputs": [
    {
     "name": "stdout",
     "output_type": "stream",
     "text": [
      "5x245\n",
      "0 \t -5.56e+00 \t -5.57e+00\n",
      "20 \t -6.14e+00 \t -6.15e+00\n",
      "40 \t -6.60e+00 \t -6.52e+00\n",
      ">>>58 \t -6.52642e+00\n",
      "5x113\n",
      "0 \t -5.65e+00 \t -5.65e+00\n",
      "20 \t -5.88e+00 \t -5.88e+00\n",
      "40 \t -6.21e+00 \t -6.21e+00\n",
      "60 \t -6.58e+00 \t -6.52e+00\n",
      "80 \t -6.60e+00 \t -6.52e+00\n",
      ">>>84 \t -6.52659e+00\n",
      "5x75\n",
      "0 \t -4.47e+00 \t -4.48e+00\n",
      "20 \t -4.65e+00 \t -4.66e+00\n",
      "40 \t -4.92e+00 \t -4.93e+00\n",
      "60 \t -5.41e+00 \t -5.43e+00\n",
      "80 \t -6.18e+00 \t -6.19e+00\n",
      "100 \t -6.60e+00 \t -6.52e+00\n",
      ">>>116 \t -6.52660e+00\n",
      "5x135\n",
      "0 \t -5.02e+00 \t -5.03e+00\n",
      "20 \t -5.34e+00 \t -5.34e+00\n",
      "40 \t -5.83e+00 \t -5.85e+00\n",
      "60 \t -6.53e+00 \t -6.49e+00\n",
      "80 \t -6.60e+00 \t -6.52e+00\n",
      ">>>85 \t -6.52634e+00\n",
      "5x158\n",
      "0 \t -4.21e+00 \t -4.22e+00\n",
      "20 \t -4.64e+00 \t -4.66e+00\n",
      "40 \t -5.35e+00 \t -5.37e+00\n",
      "60 \t -6.48e+00 \t -6.45e+00\n",
      "80 \t -6.60e+00 \t -6.52e+00\n",
      "100 \t -6.60e+00 \t -6.52e+00\n",
      ">>>100 \t -6.52200e+00\n"
     ]
    }
   ],
   "source": [
    "all_flows = []\n",
    "\n",
    "lr = 1e-4\n",
    "num_iter = 1000\n",
    "patience = 20\n",
    "\n",
    "best_valid_losses, valid_losseses = [], []\n",
    "for i in range(5): \n",
    "    nhidden = int(np.ceil(np.exp(np.random.uniform(np.log(64), np.log(256)))))\n",
    "    print('5x%i' % nhidden)\n",
    "    blocks = []\n",
    "    for iblock in range(5): \n",
    "        blocks += [\n",
    "            transforms.MaskedAffineAutoregressiveTransform(features=ndim, hidden_features=nhidden),\n",
    "            transforms.RandomPermutation(features=ndim)\n",
    "        ]\n",
    "    transform = transforms.CompositeTransform(blocks)\n",
    "\n",
    "    # Define a base distribution.\n",
    "    base_distribution = distributions.StandardNormal(shape=[ndim])\n",
    "\n",
    "    # Combine into a flow.\n",
    "    flow = flows.Flow(transform=transform, distribution=base_distribution)\n",
    "    flow.to(device)\n",
    "\n",
    "    # parameters = [weights, means, stdevs]\n",
    "    optimizer1 = optim.Adam(flow.parameters(), lr=lr)\n",
    "    scheduler = optim.lr_scheduler.OneCycleLR(optimizer1, lr, total_steps=num_iter)\n",
    "\n",
    "    best_epoch = 0 \n",
    "    best_valid_loss = np.inf\n",
    "    valid_losses = []\n",
    "    for epoch in range(num_iter):\n",
    "        train_loss = 0.\n",
    "        for batch in trainloader: \n",
    "            optimizer1.zero_grad()\n",
    "            loss = Loss(flow, batch[0])\n",
    "            loss.backward()\n",
    "            train_loss += loss.item()\n",
    "            optimizer1.step()\n",
    "        train_loss /= len(trainloader.dataset)\n",
    "\n",
    "        with torch.no_grad():\n",
    "            valid_loss = 0.\n",
    "            for batch in validloader: \n",
    "                loss = Loss(flow, batch[0])\n",
    "                valid_loss += loss.item()\n",
    "            valid_loss /= len(validloader.dataset)           \n",
    "            valid_losses.append(valid_loss)\n",
    "            \n",
    "            if epoch % 20 == 0: \n",
    "                print('%i \\t %.2e \\t %.2e' % (epoch, train_loss, valid_loss))\n",
    "            if valid_loss < best_valid_loss: \n",
    "                best_valid_loss = valid_loss\n",
    "                best_epoch = epoch\n",
    "            else: \n",
    "                if best_epoch < epoch - patience: \n",
    "                    print('>>>%i \\t %.5e' % (epoch, best_valid_loss))\n",
    "                    break\n",
    "                    \n",
    "        scheduler.step()\n",
    "    all_flows.append(flow)\n",
    "    valid_losseses.append(valid_losses)   \n",
    "    best_valid_losses.append(best_valid_loss)"
   ]
  },
  {
   "cell_type": "code",
   "execution_count": 26,
   "id": "61aa8a06-611f-4033-8826-586c5905559c",
   "metadata": {},
   "outputs": [
    {
     "data": {
      "text/plain": [
       "(0.0, 117.0)"
      ]
     },
     "execution_count": 26,
     "metadata": {},
     "output_type": "execute_result"
    },
    {
     "data": {
      "image/png": "[encoded data removed]",
      "text/plain": [
       "<Figure size 432x288 with 1 Axes>"
      ]
     },
     "metadata": {
      "needs_background": "light"
     },
     "output_type": "display_data"
    }
   ],
   "source": [
    "for vl in valid_losseses: \n",
    "    plt.plot(np.array(vl))\n",
    "#plt.ylim(1e4, 2e4)\n",
    "plt.xlim(0, np.max([len(vl) for vl in valid_losseses]))"
   ]
  },
  {
   "cell_type": "code",
   "execution_count": 29,
   "id": "a0d15052",
   "metadata": {},
   "outputs": [
    {
     "name": "stdout",
     "output_type": "stream",
     "text": [
      "2\n"
     ]
    }
   ],
   "source": [
    "#i_best = np.argmin(best_valid_losses)\n",
    "i_best = 2\n",
    "print(i_best)"
   ]
  },
  {
   "cell_type": "code",
   "execution_count": 30,
   "id": "f20e5f1a",
   "metadata": {},
   "outputs": [
    {
     "data": {
      "image/png": "[encoded data removed]",
      "text/plain": [
       "<Figure size 432x288 with 1 Axes>"
      ]
     },
     "metadata": {
      "needs_background": "light"
     },
     "output_type": "display_data"
    }
   ],
   "source": [
    "with torch.no_grad(): \n",
    "    w_prime = all_flows[i_best].sample(10000)\n",
    "    post_prime = w_prime * std_post + avg_post\n",
    "    \n",
    "plt.hist(np.array(post_prime.detach().cpu()), range=(8., 13.), bins=20)\n",
    "plt.xlim(8., 13.)\n",
    "plt.show()"
   ]
  },
  {
   "cell_type": "code",
   "execution_count": null,
   "id": "e02136c3",
   "metadata": {},
   "outputs": [],
   "source": []
  }
 ],
 "metadata": {
  "kernelspec": {
   "display_name": "sbi",
   "language": "python",
   "name": "sbi"
  },
  "language_info": {
   "codemirror_mode": {
    "name": "ipython",
    "version": 3
   },
   "file_extension": ".py",
   "mimetype": "text/x-python",
   "name": "python",
   "nbconvert_exporter": "python",
   "pygments_lexer": "ipython3",
   "version": "3.7.10"
  }
 },
 "nbformat": 4,
 "nbformat_minor": 5
}
