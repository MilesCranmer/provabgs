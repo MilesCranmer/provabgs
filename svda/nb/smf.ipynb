{
 "cells": [
  {
   "cell_type": "markdown",
   "id": "a4423297-7c6a-415b-b3d9-e30fa09a80a4",
   "metadata": {},
   "source": [
    "$$\\log p(\\phi | \\{x_i\\}) \\approx \\prod\\limits_{i=1}^N \\frac{1}{S_i} \\sum\\limits_{j=1}^{S_i} p(\\theta_{ij} | \\phi)$$\n",
    "\n",
    "For normalizing flows \n",
    "$$p(\\theta_{ij} | \\phi) = q_\\phi(\\theta_{ij})$$\n",
    "\n",
    "Then a MAP solution for $\\phi$ can be obtained by maximizing $\\log p(\\phi | \\{ x_i \\})$, which is equivalent to maximizing\n",
    "$$\\sum_{i=1}^N \\log \\sum\\limits_{j=1}^S q_\\phi(\\theta_{ij})$$\n"
   ]
  },
  {
   "cell_type": "code",
   "execution_count": 1,
   "id": "dae0cfff-d41c-40c8-ba76-a7b9652df31c",
   "metadata": {},
   "outputs": [],
   "source": [
    "import os\n",
    "import h5py \n",
    "import glob\n",
    "import numpy as np"
   ]
  },
  {
   "cell_type": "code",
   "execution_count": 2,
   "id": "0ce04eb8-8555-410e-b933-bfa1a79d1007",
   "metadata": {},
   "outputs": [],
   "source": [
    "from nflows import transforms, distributions, flows\n",
    "\n",
    "import torch\n",
    "from torch import nn\n",
    "from torch import optim"
   ]
  },
  {
   "cell_type": "code",
   "execution_count": 3,
   "id": "c06eb997-3dfa-45b7-8a3e-b5d742013277",
   "metadata": {},
   "outputs": [],
   "source": [
    "# -- plotting -- \n",
    "import matplotlib as mpl\n",
    "import matplotlib.pyplot as plt\n",
    "mpl.rcParams['font.family'] = 'serif'\n",
    "mpl.rcParams['axes.linewidth'] = 1.5\n",
    "mpl.rcParams['axes.xmargin'] = 1\n",
    "mpl.rcParams['xtick.labelsize'] = 'x-large'\n",
    "mpl.rcParams['xtick.major.size'] = 5\n",
    "mpl.rcParams['xtick.major.width'] = 1.5\n",
    "mpl.rcParams['ytick.labelsize'] = 'x-large'\n",
    "mpl.rcParams['ytick.major.size'] = 5\n",
    "mpl.rcParams['ytick.major.width'] = 1.5\n",
    "mpl.rcParams['legend.frameon'] = False"
   ]
  },
  {
   "cell_type": "code",
   "execution_count": 4,
   "id": "efd90248-edb2-48ac-89be-283b9fdfef30",
   "metadata": {},
   "outputs": [],
   "source": [
    "dat_dir = '/tigress/chhahn/provabgs/svda'\n",
    "#dat_dir = '/global/cfs/cdirs/desi/users/chahah/provabgs/svda/'"
   ]
  },
  {
   "cell_type": "code",
   "execution_count": 5,
   "id": "3c351bf1-3eee-4848-8fb8-cdc70d153997",
   "metadata": {},
   "outputs": [],
   "source": [
    "if torch.cuda.is_available(): \n",
    "    device = torch.device(type='cuda', index=0)\n",
    "else: \n",
    "    device = 'cpu'"
   ]
  },
  {
   "cell_type": "markdown",
   "id": "5a11b7bd-a54d-471f-9069-e11951977292",
   "metadata": {},
   "source": [
    "# compile $M_*$ posterior data"
   ]
  },
  {
   "cell_type": "code",
   "execution_count": 6,
   "id": "dedb911a-190d-43da-8b93-0eb891ccef6a",
   "metadata": {},
   "outputs": [],
   "source": [
    "logM_posteriors, zmaxes = [], [] \n",
    "for fpost in glob.glob(os.path.join(dat_dir, 'provabgs-*.mstar_zmax.hdf5')): \n",
    "    f = h5py.File(fpost, 'r')\n",
    "    mcmc = f['logM'][...]\n",
    "    zmax = f['zmax'][...]\n",
    "    \n",
    "    logM_posteriors.append(mcmc) #mcmc.reshape((mcmc.shape[0], mcmc.shape[1] * mcmc.shape[2])))\n",
    "    zmaxes.append(zmax)\n",
    "    \n",
    "logM_posteriors = np.concatenate(logM_posteriors, axis=0)\n",
    "zmaxes = np.concatenate(zmaxes, axis=0)"
   ]
  },
  {
   "cell_type": "code",
   "execution_count": 13,
   "id": "5ca5539a",
   "metadata": {},
   "outputs": [],
   "source": [
    "assert np.sum(np.isnan(zmaxes)) == 0"
   ]
  },
  {
   "cell_type": "code",
   "execution_count": 7,
   "id": "9089412d",
   "metadata": {},
   "outputs": [
    {
     "name": "stdout",
     "output_type": "stream",
     "text": [
      "1156\n"
     ]
    }
   ],
   "source": [
    "print(logM_posteriors.shape[0])"
   ]
  },
  {
   "cell_type": "code",
   "execution_count": 8,
   "id": "a0a8725e-2882-4282-b8bc-567afda3a2c2",
   "metadata": {},
   "outputs": [
    {
     "data": {
      "text/plain": [
       "(8.0, 12.5)"
      ]
     },
     "execution_count": 8,
     "metadata": {},
     "output_type": "execute_result"
    },
    {
     "data": {
      "image/png": "[encoded data removed]",
      "text/plain": [
       "<Figure size 432x288 with 1 Axes>"
      ]
     },
     "metadata": {
      "needs_background": "light"
     },
     "output_type": "display_data"
    }
   ],
   "source": [
    "for i in np.random.choice(np.arange(logM_posteriors.shape[0]), size=100, replace=False): \n",
    "    plt.hist(logM_posteriors[i,:], bins=40, alpha=0.5)\n",
    "plt.xlim(8., 12.5)"
   ]
  },
  {
   "cell_type": "markdown",
   "id": "db6b45af-cfba-4d53-85a9-6e3fd7a907d2",
   "metadata": {},
   "source": [
    "# calculate $V_{\\rm max}$"
   ]
  },
  {
   "cell_type": "code",
   "execution_count": 9,
   "id": "a1108449-ae9f-4004-a52f-0f9296b7bec6",
   "metadata": {},
   "outputs": [],
   "source": [
    "from astropy.cosmology import Planck13"
   ]
  },
  {
   "cell_type": "code",
   "execution_count": 10,
   "id": "0c5501cc-73b5-4577-93a2-fa46980f06a2",
   "metadata": {},
   "outputs": [],
   "source": [
    "vfull = Planck13.comoving_volume(0.6).value * Planck13.h**3 # (Mpc/h)^3\n",
    "vmaxes = Planck13.comoving_volume(zmaxes).value * Planck13.h**3 # (Mpc/h)^3"
   ]
  },
  {
   "cell_type": "code",
   "execution_count": 11,
   "id": "ab877a14",
   "metadata": {},
   "outputs": [],
   "source": [
    "# Vmax based importance weights\n",
    "w_import = vfull / vmaxes"
   ]
  },
  {
   "cell_type": "code",
   "execution_count": 22,
   "id": "525a2d23",
   "metadata": {},
   "outputs": [
    {
     "data": {
      "image/png": "[encoded data removed]",
      "text/plain": [
       "<Figure size 432x288 with 1 Axes>"
      ]
     },
     "metadata": {
      "needs_background": "light"
     },
     "output_type": "display_data"
    }
   ],
   "source": [
    "#for i in np.random.choice(np.arange(logM_posteriors.shape[0]), size=100, replace=False): \n",
    "plt.hist(logM_posteriors.flatten(), bins=40, weights=np.repeat(np.sum(w_import)/len(logM_posteriors.flatten()), len(logM_posteriors.flatten())))\n",
    "plt.hist(logM_posteriors.flatten(), bins=40, weights=w_import.flatten(), alpha=0.5)\n",
    "plt.xlim(8., 13)\n",
    "plt.yscale('log')"
   ]
  },
  {
   "cell_type": "markdown",
   "id": "b3bbe49f-82f6-4cea-8749-9fd33582c0ff",
   "metadata": {},
   "source": [
    "# estimate $p(M_* | \\{x_i, z_i \\})$ using NDE"
   ]
  },
  {
   "cell_type": "code",
   "execution_count": 14,
   "id": "4f0bedd4-6732-4325-a885-677ab4d70f5b",
   "metadata": {},
   "outputs": [],
   "source": [
    "x_data = torch.tensor(logM_posteriors.astype(np.float32)).to(device)\n",
    "# avg_post = torch.mean(x_data)\n",
    "# std_post = torch.std(x_data)\n",
    "# wx_post = (x_data - avg_post)/std_post\n",
    "\n",
    "w_data = torch.tensor(w_import.astype(np.float32)).to(device)"
   ]
  },
  {
   "cell_type": "code",
   "execution_count": 15,
   "id": "f94f65bf",
   "metadata": {},
   "outputs": [],
   "source": [
    "batch_size = 256\n",
    "Ntrain = int(0.8 * x_data.shape[0])\n",
    "Nvalid = int(0.1 * x_data.shape[0])\n",
    "\n",
    "trainloader = torch.utils.data.DataLoader(\n",
    "        torch.utils.data.TensorDataset(x_data[:Ntrain], w_data[:Ntrain]),\n",
    "        batch_size=batch_size,\n",
    "        shuffle=False)\n",
    "\n",
    "validloader = torch.utils.data.DataLoader(\n",
    "        torch.utils.data.TensorDataset(x_data[Ntrain:Ntrain+Nvalid], w_data[Ntrain:Ntrain+Nvalid]),\n",
    "        batch_size=batch_size)"
   ]
  },
  {
   "cell_type": "code",
   "execution_count": 16,
   "id": "6d1bd504-799d-46eb-8370-855e0bc1c419",
   "metadata": {},
   "outputs": [],
   "source": [
    "def Loss(flow, post, w): \n",
    "    w_i = torch.sum(w, axis=1)\n",
    "    \n",
    "    logw = torch.log(w) \n",
    "    return -torch.sum(w_i * torch.logsumexp(logw + flow.log_prob(post.flatten()[:,None]).reshape(post.shape), axis=1))"
   ]
  },
  {
   "cell_type": "code",
   "execution_count": 17,
   "id": "9c1238e3-c062-45d9-8227-a207e9d4c7af",
   "metadata": {},
   "outputs": [],
   "source": [
    "ndim = 1 "
   ]
  },
  {
   "cell_type": "code",
   "execution_count": 18,
   "id": "bce18ebe-a491-4bdb-af81-31388942fdf5",
   "metadata": {},
   "outputs": [
    {
     "name": "stdout",
     "output_type": "stream",
     "text": [
      "5x82\n",
      "0 \t -2.14e+06 \t -2.45e+06\n",
      "20 \t -2.29e+06 \t -2.61e+06\n",
      "40 \t -2.43e+06 \t -2.76e+06\n",
      "60 \t -2.55e+06 \t -2.88e+06\n",
      "80 \t -2.62e+06 \t -2.95e+06\n",
      "100 \t -2.69e+06 \t -3.03e+06\n",
      "120 \t -2.79e+06 \t -3.14e+06\n",
      "140 \t -2.94e+06 \t -3.31e+06\n",
      "160 \t -3.12e+06 \t -3.51e+06\n",
      "180 \t -3.14e+06 \t -3.52e+06\n",
      ">>>193 \t -3.52416e+06\n"
     ]
    }
   ],
   "source": [
    "all_flows = []\n",
    "\n",
    "lr = 1e-4\n",
    "num_iter = 1000\n",
    "patience = 20\n",
    "\n",
    "best_valid_losses, valid_losseses = [], []\n",
    "for i in range(1): \n",
    "    nhidden = int(np.ceil(np.exp(np.random.uniform(np.log(64), np.log(256)))))\n",
    "    print('5x%i' % nhidden)\n",
    "    blocks = []\n",
    "    for iblock in range(5): \n",
    "        blocks += [\n",
    "            transforms.MaskedAffineAutoregressiveTransform(features=ndim, hidden_features=nhidden),\n",
    "            transforms.RandomPermutation(features=ndim)\n",
    "        ]\n",
    "    transform = transforms.CompositeTransform(blocks)\n",
    "\n",
    "    # Define a base distribution.\n",
    "    base_distribution = distributions.StandardNormal(shape=[ndim])\n",
    "\n",
    "    # Combine into a flow.\n",
    "    flow = flows.Flow(transform=transform, distribution=base_distribution)\n",
    "    flow.to(device)\n",
    "\n",
    "    # parameters = [weights, means, stdevs]\n",
    "    optimizer1 = optim.Adam(flow.parameters(), lr=lr)\n",
    "    scheduler = optim.lr_scheduler.OneCycleLR(optimizer1, lr, total_steps=num_iter)\n",
    "\n",
    "    best_epoch = 0 \n",
    "    best_valid_loss = np.inf\n",
    "    valid_losses = []\n",
    "    for epoch in range(num_iter):\n",
    "        train_loss = 0.\n",
    "        for batch in trainloader: \n",
    "            optimizer1.zero_grad()\n",
    "            loss = Loss(flow, batch[0], batch[1])\n",
    "            loss.backward()\n",
    "            train_loss += loss.item()\n",
    "            optimizer1.step()\n",
    "        train_loss /= len(trainloader.dataset)\n",
    "\n",
    "        with torch.no_grad():\n",
    "            valid_loss = 0.\n",
    "            for batch in validloader: \n",
    "                loss = Loss(flow, batch[0], batch[1])\n",
    "                valid_loss += loss.item()\n",
    "            valid_loss /= len(validloader.dataset)           \n",
    "            valid_losses.append(valid_loss)\n",
    "            \n",
    "            if epoch % 20 == 0: \n",
    "                print('%i \\t %.2e \\t %.2e' % (epoch, train_loss, valid_loss))\n",
    "            if valid_loss < best_valid_loss: \n",
    "                best_valid_loss = valid_loss\n",
    "                best_epoch = epoch\n",
    "            else: \n",
    "                if best_epoch < epoch - patience: \n",
    "                    print('>>>%i \\t %.5e' % (epoch, best_valid_loss))\n",
    "                    break\n",
    "                    \n",
    "        scheduler.step()\n",
    "    all_flows.append(flow)\n",
    "    valid_losseses.append(valid_losses)   \n",
    "    best_valid_losses.append(best_valid_loss)"
   ]
  },
  {
   "cell_type": "code",
   "execution_count": 19,
   "id": "61aa8a06-611f-4033-8826-586c5905559c",
   "metadata": {},
   "outputs": [
    {
     "data": {
      "text/plain": [
       "(0.0, 194.0)"
      ]
     },
     "execution_count": 19,
     "metadata": {},
     "output_type": "execute_result"
    },
    {
     "data": {
      "image/png": "[encoded data removed]",
      "text/plain": [
       "<Figure size 432x288 with 1 Axes>"
      ]
     },
     "metadata": {
      "needs_background": "light"
     },
     "output_type": "display_data"
    }
   ],
   "source": [
    "for vl in valid_losseses: \n",
    "    plt.plot(np.array(vl))\n",
    "#plt.ylim(1e4, 2e4)\n",
    "plt.xlim(0, np.max([len(vl) for vl in valid_losseses]))"
   ]
  },
  {
   "cell_type": "code",
   "execution_count": 20,
   "id": "a0d15052",
   "metadata": {},
   "outputs": [
    {
     "name": "stdout",
     "output_type": "stream",
     "text": [
      "0\n"
     ]
    }
   ],
   "source": [
    "i_best = np.argmin(best_valid_losses)\n",
    "#i_best = 2\n",
    "print(i_best)"
   ]
  },
  {
   "cell_type": "code",
   "execution_count": 21,
   "id": "f20e5f1a",
   "metadata": {},
   "outputs": [
    {
     "data": {
      "image/png": "[encoded data removed]",
      "text/plain": [
       "<Figure size 432x288 with 1 Axes>"
      ]
     },
     "metadata": {
      "needs_background": "light"
     },
     "output_type": "display_data"
    }
   ],
   "source": [
    "with torch.no_grad(): \n",
    "    post_prime = all_flows[i_best].sample(10000)\n",
    "    #post_prime = w_prime * std_post + avg_post\n",
    "    \n",
    "plt.hist(np.array(post_prime.detach().cpu()), range=(8., 13.), bins=20)\n",
    "plt.xlim(8., 13.)\n",
    "plt.yscale('log')\n",
    "plt.show()"
   ]
  },
  {
   "cell_type": "code",
   "execution_count": null,
   "id": "e02136c3",
   "metadata": {},
   "outputs": [],
   "source": []
  }
 ],
 "metadata": {
  "kernelspec": {
   "display_name": "sbi",
   "language": "python",
   "name": "sbi"
  },
  "language_info": {
   "codemirror_mode": {
    "name": "ipython",
    "version": 3
   },
   "file_extension": ".py",
   "mimetype": "text/x-python",
   "name": "python",
   "nbconvert_exporter": "python",
   "pygments_lexer": "ipython3",
   "version": "3.7.10"
  }
 },
 "nbformat": 4,
 "nbformat_minor": 5
}
