{
 "cells": [
  {
   "cell_type": "markdown",
   "id": "a4423297-7c6a-415b-b3d9-e30fa09a80a4",
   "metadata": {},
   "source": [
    "$$\\log p(\\phi | \\{x_i\\}) \\approx \\prod\\limits_{i=1}^N \\frac{1}{S_i} \\sum\\limits_{j=1}^{S_i} p(\\theta_{ij} | \\phi)$$\n",
    "\n",
    "For normalizing flows \n",
    "$$p(\\theta_{ij} | \\phi) = q_\\phi(\\theta_{ij})$$\n",
    "\n",
    "Then a MAP solution for $\\phi$ can be obtained by maximizing $\\log p(\\phi | \\{ x_i \\})$, which is equivalent to maximizing\n",
    "$$\\sum_{i=1}^N \\log \\sum\\limits_{j=1}^S q_\\phi(\\theta_{ij})$$\n"
   ]
  },
  {
   "cell_type": "code",
   "execution_count": 1,
   "id": "dae0cfff-d41c-40c8-ba76-a7b9652df31c",
   "metadata": {},
   "outputs": [],
   "source": [
    "import os\n",
    "import h5py \n",
    "import glob\n",
    "import numpy as np"
   ]
  },
  {
   "cell_type": "code",
   "execution_count": 2,
   "id": "0ce04eb8-8555-410e-b933-bfa1a79d1007",
   "metadata": {},
   "outputs": [],
   "source": [
    "from nflows import transforms, distributions, flows\n",
    "\n",
    "import torch\n",
    "from torch import nn\n",
    "from torch import optim"
   ]
  },
  {
   "cell_type": "code",
   "execution_count": 3,
   "id": "c06eb997-3dfa-45b7-8a3e-b5d742013277",
   "metadata": {},
   "outputs": [],
   "source": [
    "# -- plotting -- \n",
    "import matplotlib as mpl\n",
    "import matplotlib.pyplot as plt\n",
    "mpl.rcParams['font.family'] = 'serif'\n",
    "mpl.rcParams['axes.linewidth'] = 1.5\n",
    "mpl.rcParams['axes.xmargin'] = 1\n",
    "mpl.rcParams['xtick.labelsize'] = 'x-large'\n",
    "mpl.rcParams['xtick.major.size'] = 5\n",
    "mpl.rcParams['xtick.major.width'] = 1.5\n",
    "mpl.rcParams['ytick.labelsize'] = 'x-large'\n",
    "mpl.rcParams['ytick.major.size'] = 5\n",
    "mpl.rcParams['ytick.major.width'] = 1.5\n",
    "mpl.rcParams['legend.frameon'] = False"
   ]
  },
  {
   "cell_type": "code",
   "execution_count": 4,
   "id": "efd90248-edb2-48ac-89be-283b9fdfef30",
   "metadata": {},
   "outputs": [],
   "source": [
    "dat_dir = '/tigress/chhahn/provabgs/svda'"
   ]
  },
  {
   "cell_type": "code",
   "execution_count": 5,
   "id": "3c351bf1-3eee-4848-8fb8-cdc70d153997",
   "metadata": {},
   "outputs": [],
   "source": [
    "if torch.cuda.is_available(): \n",
    "    device = torch.device(type='cuda', index=0)\n",
    "else: \n",
    "    device = 'cpu'"
   ]
  },
  {
   "cell_type": "markdown",
   "id": "5a11b7bd-a54d-471f-9069-e11951977292",
   "metadata": {},
   "source": [
    "# compile $M_*$ posterior data"
   ]
  },
  {
   "cell_type": "code",
   "execution_count": 9,
   "id": "dedb911a-190d-43da-8b93-0eb891ccef6a",
   "metadata": {},
   "outputs": [],
   "source": [
    "logM_posteriors, zmaxes = [], []\n",
    "for fpost in glob.glob(os.path.join(dat_dir, 'provabgs-*.mstar_zmax.hdf5')): \n",
    "    f = h5py.File(fpost, 'r')\n",
    "    mcmc = f['logM'][...]\n",
    "\n",
    "    #mcmc = f['samples'][...][:,-100:,:,0]\n",
    "    logM_posteriors.append(mcmc)#mcmc.reshape((mcmc.shape[0], mcmc.shape[1] * mcmc.shape[2])))\n",
    "    zmaxes.append(f['zmax'][...])\n",
    "logM_posteriors = np.concatenate(logM_posteriors, axis=0)\n",
    "zmaxes = np.concatenate(zmaxes, axis=0)"
   ]
  },
  {
   "cell_type": "code",
   "execution_count": 10,
   "id": "9089412d",
   "metadata": {},
   "outputs": [
    {
     "name": "stdout",
     "output_type": "stream",
     "text": [
      "131\n"
     ]
    }
   ],
   "source": [
    "print(logM_posteriors.shape[0])"
   ]
  },
  {
   "cell_type": "code",
   "execution_count": 11,
   "id": "a0a8725e-2882-4282-b8bc-567afda3a2c2",
   "metadata": {},
   "outputs": [
    {
     "data": {
      "text/plain": [
       "(8.0, 12.5)"
      ]
     },
     "execution_count": 11,
     "metadata": {},
     "output_type": "execute_result"
    },
    {
     "data": {
      "image/png": "[encoded data removed]",
      "text/plain": [
       "<Figure size 432x288 with 1 Axes>"
      ]
     },
     "metadata": {
      "needs_background": "light"
     },
     "output_type": "display_data"
    }
   ],
   "source": [
    "for i in np.random.choice(np.arange(logM_posteriors.shape[0]), size=100, replace=False): \n",
    "    plt.hist(logM_posteriors[i,:], bins=40, alpha=0.5)\n",
    "plt.xlim(8., 12.5)"
   ]
  },
  {
   "cell_type": "markdown",
   "id": "9d9235ba",
   "metadata": {},
   "source": [
    "# calculate $V_{\\rm max}$"
   ]
  },
  {
   "cell_type": "code",
   "execution_count": 14,
   "id": "fc080f9d",
   "metadata": {},
   "outputs": [],
   "source": [
    "from astropy.cosmology import Planck13"
   ]
  },
  {
   "cell_type": "code",
   "execution_count": 25,
   "id": "a68d6fd7",
   "metadata": {},
   "outputs": [
    {
     "data": {
      "text/plain": [
       "array([10.98170406, 10.9781869 , 10.97819335, 10.98057558, 10.97788442,\n",
       "       10.97581326, 10.97622628, 10.9813832 , 10.97635429, 10.97690393,\n",
       "       10.98217002, 10.98147413, 10.97836425, 11.79284278, 11.79374631,\n",
       "       11.79578541, 11.79635667, 11.79600212, 11.79579857, 11.79543523,\n",
       "       11.7943547 , 11.79388222, 11.7938954 , 11.79429318, 11.794353  ,\n",
       "       11.79404234, 11.79472022, 11.79563025, 11.79562672, 11.7963143 ,\n",
       "       11.79664555, 11.79639502, 11.79610949, 11.79567968, 11.79343515,\n",
       "       11.79388527, 11.78940248, 11.7905469 , 11.79040797, 11.79179898,\n",
       "       11.78694877, 11.78747369, 11.78255637, 11.79305527, 11.79315827,\n",
       "       11.79303189, 11.79292366, 11.79291953, 11.79317036, 11.79148656,\n",
       "       11.79147027, 11.79161133])"
      ]
     },
     "execution_count": 25,
     "metadata": {},
     "output_type": "execute_result"
    }
   ],
   "source": [
    "logM_posteriors[np.isnan(zmaxes)]"
   ]
  },
  {
   "cell_type": "code",
   "execution_count": 17,
   "id": "b3e231f7",
   "metadata": {},
   "outputs": [],
   "source": [
    "Vmaxes = Planck13.comoving_volume(zmaxes).value / 1e9 # Gpc^3"
   ]
  },
  {
   "cell_type": "code",
   "execution_count": 20,
   "id": "d78c6d6b",
   "metadata": {},
   "outputs": [
    {
     "data": {
      "text/plain": [
       "array([10.87596488, 11.2407812 , 11.74207099, 10.09430099, 11.71153342,\n",
       "       10.40104323,  9.97997924, 11.70049842, 11.10293023, 11.97946705,\n",
       "       11.64869985,  9.81482549, 10.06827605, 10.36319825, 11.30395644,\n",
       "       11.28927635, 11.20277123, 10.2731856 , 11.07600885, 11.0812078 ,\n",
       "       11.3900757 , 11.04960628, 11.31855896, 11.21313303, 10.7932972 ,\n",
       "       11.4059849 , 10.94188391, 10.78946241, 10.81283925,  9.8216213 ,\n",
       "       11.01289743, 10.81360023,  9.95466863, 10.92128442, 10.43661956,\n",
       "       11.27258064, 12.05278006, 11.24626157, 10.27403144,  9.77367417,\n",
       "       11.68185949,  9.57255535, 11.50979371, 11.25877885, 11.34951816,\n",
       "       11.51701323, 11.00603724, 10.27602641, 11.25144977, 12.1205982 ,\n",
       "        9.55380319, 11.96124149, 10.13857504,  9.8231176 , 11.36722309,\n",
       "       10.82737373, 11.3720579 , 10.85622938, 10.56600441,  9.54017159,\n",
       "       11.60724837, 10.97222678, 11.28459077, 10.42344393, 10.37284838,\n",
       "        9.97992698, 10.46658926,  9.79385242, 11.13994337, 11.37923017,\n",
       "       11.53768701, 11.52158407, 10.87306708, 10.99832365, 11.40755553,\n",
       "       11.37400533, 12.04918832, 10.47209813, 11.25826824, 10.85411224,\n",
       "       11.15241395, 10.6301684 , 11.41636005, 11.76444001, 11.54908306,\n",
       "       11.76342853, 11.85199263, 11.77677699, 11.10006509, 11.09491456,\n",
       "       10.11571042, 11.2739559 , 11.00265699, 10.8844737 , 11.2406232 ,\n",
       "       11.41394461, 10.2397443 , 10.68677509, 11.37634454, 11.95607355,\n",
       "       10.66349138, 11.3940317 , 11.35977495, 11.33515225, 11.04387892,\n",
       "       10.88892601, 11.24576014, 11.59088687, 11.59255257, 11.40256501,\n",
       "       11.51063207, 10.21164259, 10.95024001, 10.5400645 ,  9.90474029,\n",
       "       11.3369    , 11.66513358, 10.73135608,  9.03738362, 10.77615905,\n",
       "       11.33042399, 11.68525114, 11.57864436, 11.7663231 , 11.24004498,\n",
       "       10.0550854 , 11.09663406,  9.67253354,  9.43749615, 11.43698471,\n",
       "       10.46784207])"
      ]
     },
     "execution_count": 20,
     "metadata": {},
     "output_type": "execute_result"
    }
   ],
   "source": [
    "np.median(logM_posteriors, axis=1)"
   ]
  },
  {
   "cell_type": "code",
   "execution_count": 26,
   "id": "4fa1258b",
   "metadata": {},
   "outputs": [
    {
     "data": {
      "text/plain": [
       "array([0.28256634, 0.30538915, 0.47209552, 0.13377644, 0.29091244,\n",
       "       0.15780389, 0.12818955, 0.37575736, 0.27771836, 0.27846178,\n",
       "       0.36140801, 0.08202562, 0.12901117, 0.1407015 , 0.29560632,\n",
       "       0.30368267, 0.29821898, 0.18426824, 0.34055271, 0.26909108,\n",
       "       0.32075883, 0.27864277, 0.30368321, 0.35058515, 0.25276326,\n",
       "       0.26336357, 0.23698348, 0.24613946, 0.28465373, 0.09932603,\n",
       "       0.27229627, 0.20724585, 0.11105272, 0.28526469, 0.22004015,\n",
       "       0.34125725, 0.43290719, 0.31982196, 0.12801053, 0.08076487,\n",
       "       0.38370388, 0.0808025 , 0.37470754, 0.28451062, 0.23587301,\n",
       "       0.3988956 , 0.28533851, 0.1104448 , 0.30744164, 0.53111397,\n",
       "       0.07926675, 0.50421612, 0.13234824, 0.1078889 , 0.24724979,\n",
       "       0.20447125, 0.29426798, 0.15151979, 0.19359526, 0.06628915,\n",
       "       0.41772116, 0.23459261, 0.28558154, 0.10298366, 0.15416638,\n",
       "       0.09735115, 0.22268869, 0.13837804, 0.24035511, 0.33477373,\n",
       "       0.31998823, 0.28945717, 0.1637193 , 0.23950405, 0.38771634,\n",
       "       0.30626642, 0.49960809, 0.18691322, 0.2872377 , 0.24653707,\n",
       "       0.26691872, 0.13072557, 0.38701532, 0.40289302, 0.34420771,\n",
       "       0.37403551, 0.44416879, 0.44644277, 0.27553652, 0.26615252,\n",
       "       0.09128654, 0.27087387, 0.28303582, 0.28083921, 0.28449222,\n",
       "       0.29393359, 0.09354194, 0.20750728, 0.37364235, 0.41863539,\n",
       "       0.22866943, 0.31519742, 0.23250603, 0.22846895, 0.24897644,\n",
       "       0.25974763, 0.32275574, 0.34503868, 0.31884886, 0.41376938,\n",
       "       0.36604708, 0.18963026, 0.28144324, 0.19528505, 0.13101869,\n",
       "       0.37643417, 0.36995009, 0.22215749, 0.06756146, 0.16780731,\n",
       "       0.16393497, 0.42071422, 0.40467227, 0.394714  , 0.4163454 ,\n",
       "       0.16339025, 0.33931677, 0.13803704, 0.10210981, 0.36635169,\n",
       "       0.18316274])"
      ]
     },
     "execution_count": 26,
     "metadata": {},
     "output_type": "execute_result"
    }
   ],
   "source": [
    "np.nanmedian(zmaxes, axis=1)"
   ]
  },
  {
   "cell_type": "code",
   "execution_count": 18,
   "id": "ab877a14",
   "metadata": {},
   "outputs": [
    {
     "data": {
      "text/plain": [
       "array([[ 6.63501844,  3.48620501,  3.78103881, ...,  9.25276852,\n",
       "         3.81987052,  3.6596606 ],\n",
       "       [10.24355601, 10.11780942, 10.02851488, ..., 10.1450151 ,\n",
       "        10.18158667,  7.89378057],\n",
       "       [26.59879054, 26.59842724, 26.64918903, ..., 26.75186164,\n",
       "        26.40531817, 26.5046925 ],\n",
       "       ...,\n",
       "       [ 0.36036914,  0.3582471 ,  0.35177552, ...,  0.35607122,\n",
       "         0.35373505,  0.35830041],\n",
       "       [13.50417978, 13.50647401, 12.09938873, ..., 13.5379744 ,\n",
       "         8.08264014, 13.68496752],\n",
       "       [ 1.9241159 ,  1.21804326,  1.2487904 , ...,  1.24573187,\n",
       "         1.95304849,  1.26510206]])"
      ]
     },
     "execution_count": 18,
     "metadata": {},
     "output_type": "execute_result"
    }
   ],
   "source": [
    "Vmaxes"
   ]
  },
  {
   "cell_type": "markdown",
   "id": "b3bbe49f-82f6-4cea-8749-9fd33582c0ff",
   "metadata": {},
   "source": [
    "# estimate $p(M_* | \\{x_i, z_i \\})$ using NDE"
   ]
  },
  {
   "cell_type": "code",
   "execution_count": 11,
   "id": "4f0bedd4-6732-4325-a885-677ab4d70f5b",
   "metadata": {},
   "outputs": [],
   "source": [
    "x_data = torch.tensor(logM_posteriors.astype(np.float32)).to(device)\n",
    "avg_post = torch.mean(x_data)\n",
    "std_post = torch.std(x_data)\n",
    "w_post = (x_data - avg_post)/std_post"
   ]
  },
  {
   "cell_type": "code",
   "execution_count": 12,
   "id": "f94f65bf",
   "metadata": {},
   "outputs": [],
   "source": [
    "batch_size = 256\n",
    "Ntrain = int(0.8 * w_post.shape[0])\n",
    "Nvalid = int(0.1 * w_post.shape[0])\n",
    "\n",
    "trainloader = torch.utils.data.DataLoader(\n",
    "        torch.utils.data.TensorDataset(w_post[:Ntrain]),\n",
    "        batch_size=batch_size,\n",
    "        shuffle=False)\n",
    "\n",
    "validloader = torch.utils.data.DataLoader(\n",
    "        torch.utils.data.TensorDataset(w_post[Ntrain:Ntrain+Nvalid]),\n",
    "        batch_size=batch_size)"
   ]
  },
  {
   "cell_type": "code",
   "execution_count": 13,
   "id": "6d1bd504-799d-46eb-8370-855e0bc1c419",
   "metadata": {},
   "outputs": [],
   "source": [
    "def Loss(flow, post): \n",
    "    return -torch.sum(torch.logsumexp(flow.log_prob(post.flatten()[:,None]).reshape(post.shape), axis=1))"
   ]
  },
  {
   "cell_type": "code",
   "execution_count": 14,
   "id": "9c1238e3-c062-45d9-8227-a207e9d4c7af",
   "metadata": {},
   "outputs": [],
   "source": [
    "ndim = 1 "
   ]
  },
  {
   "cell_type": "code",
   "execution_count": 15,
   "id": "7db64bb2-bc6e-425f-a7d2-f639734ff56d",
   "metadata": {},
   "outputs": [],
   "source": [
    "nhidden = int(np.ceil(np.exp(np.random.uniform(np.log(64), np.log(256)))))\n",
    "\n",
    "blocks = []\n",
    "for iblock in range(5): \n",
    "    blocks += [\n",
    "        transforms.MaskedAffineAutoregressiveTransform(features=ndim, hidden_features=nhidden),\n",
    "        transforms.RandomPermutation(features=ndim)\n",
    "    ]\n",
    "\n",
    "transform = transforms.CompositeTransform(blocks)\n",
    "\n",
    "# Define a base distribution.\n",
    "base_distribution = distributions.StandardNormal(shape=[ndim])"
   ]
  },
  {
   "cell_type": "code",
   "execution_count": 21,
   "id": "bce18ebe-a491-4bdb-af81-31388942fdf5",
   "metadata": {},
   "outputs": [
    {
     "name": "stdout",
     "output_type": "stream",
     "text": [
      "5x245\n",
      "0 \t -5.56e+00 \t -5.57e+00\n",
      "20 \t -6.14e+00 \t -6.15e+00\n",
      "40 \t -6.60e+00 \t -6.52e+00\n",
      ">>>58 \t -6.52642e+00\n",
      "5x113\n",
      "0 \t -5.65e+00 \t -5.65e+00\n",
      "20 \t -5.88e+00 \t -5.88e+00\n",
      "40 \t -6.21e+00 \t -6.21e+00\n",
      "60 \t -6.58e+00 \t -6.52e+00\n",
      "80 \t -6.60e+00 \t -6.52e+00\n",
      ">>>84 \t -6.52659e+00\n",
      "5x75\n",
      "0 \t -4.47e+00 \t -4.48e+00\n",
      "20 \t -4.65e+00 \t -4.66e+00\n",
      "40 \t -4.92e+00 \t -4.93e+00\n",
      "60 \t -5.41e+00 \t -5.43e+00\n",
      "80 \t -6.18e+00 \t -6.19e+00\n",
      "100 \t -6.60e+00 \t -6.52e+00\n",
      ">>>116 \t -6.52660e+00\n",
      "5x135\n",
      "0 \t -5.02e+00 \t -5.03e+00\n",
      "20 \t -5.34e+00 \t -5.34e+00\n",
      "40 \t -5.83e+00 \t -5.85e+00\n",
      "60 \t -6.53e+00 \t -6.49e+00\n",
      "80 \t -6.60e+00 \t -6.52e+00\n",
      ">>>85 \t -6.52634e+00\n",
      "5x158\n",
      "0 \t -4.21e+00 \t -4.22e+00\n",
      "20 \t -4.64e+00 \t -4.66e+00\n",
      "40 \t -5.35e+00 \t -5.37e+00\n",
      "60 \t -6.48e+00 \t -6.45e+00\n",
      "80 \t -6.60e+00 \t -6.52e+00\n",
      "100 \t -6.60e+00 \t -6.52e+00\n",
      ">>>100 \t -6.52200e+00\n"
     ]
    }
   ],
   "source": [
    "all_flows = []\n",
    "\n",
    "lr = 1e-4\n",
    "num_iter = 1000\n",
    "patience = 20\n",
    "\n",
    "best_valid_losses, valid_losseses = [], []\n",
    "for i in range(5): \n",
    "    nhidden = int(np.ceil(np.exp(np.random.uniform(np.log(64), np.log(256)))))\n",
    "    print('5x%i' % nhidden)\n",
    "    blocks = []\n",
    "    for iblock in range(5): \n",
    "        blocks += [\n",
    "            transforms.MaskedAffineAutoregressiveTransform(features=ndim, hidden_features=nhidden),\n",
    "            transforms.RandomPermutation(features=ndim)\n",
    "        ]\n",
    "    transform = transforms.CompositeTransform(blocks)\n",
    "\n",
    "    # Define a base distribution.\n",
    "    base_distribution = distributions.StandardNormal(shape=[ndim])\n",
    "\n",
    "    # Combine into a flow.\n",
    "    flow = flows.Flow(transform=transform, distribution=base_distribution)\n",
    "    flow.to(device)\n",
    "\n",
    "    # parameters = [weights, means, stdevs]\n",
    "    optimizer1 = optim.Adam(flow.parameters(), lr=lr)\n",
    "    scheduler = optim.lr_scheduler.OneCycleLR(optimizer1, lr, total_steps=num_iter)\n",
    "\n",
    "    best_epoch = 0 \n",
    "    best_valid_loss = np.inf\n",
    "    valid_losses = []\n",
    "    for epoch in range(num_iter):\n",
    "        train_loss = 0.\n",
    "        for batch in trainloader: \n",
    "            optimizer1.zero_grad()\n",
    "            loss = Loss(flow, batch[0])\n",
    "            loss.backward()\n",
    "            train_loss += loss.item()\n",
    "            optimizer1.step()\n",
    "        train_loss /= len(trainloader.dataset)\n",
    "\n",
    "        with torch.no_grad():\n",
    "            valid_loss = 0.\n",
    "            for batch in validloader: \n",
    "                loss = Loss(flow, batch[0])\n",
    "                valid_loss += loss.item()\n",
    "            valid_loss /= len(validloader.dataset)           \n",
    "            valid_losses.append(valid_loss)\n",
    "            \n",
    "            if epoch % 20 == 0: \n",
    "                print('%i \\t %.2e \\t %.2e' % (epoch, train_loss, valid_loss))\n",
    "            if valid_loss < best_valid_loss: \n",
    "                best_valid_loss = valid_loss\n",
    "                best_epoch = epoch\n",
    "            else: \n",
    "                if best_epoch < epoch - patience: \n",
    "                    print('>>>%i \\t %.5e' % (epoch, best_valid_loss))\n",
    "                    break\n",
    "                    \n",
    "        scheduler.step()\n",
    "    all_flows.append(flow)\n",
    "    valid_losseses.append(valid_losses)   \n",
    "    best_valid_losses.append(best_valid_loss)"
   ]
  },
  {
   "cell_type": "code",
   "execution_count": 26,
   "id": "61aa8a06-611f-4033-8826-586c5905559c",
   "metadata": {},
   "outputs": [
    {
     "data": {
      "text/plain": [
       "(0.0, 117.0)"
      ]
     },
     "execution_count": 26,
     "metadata": {},
     "output_type": "execute_result"
    },
    {
     "data": {
      "image/png": "[encoded data removed]",
      "text/plain": [
       "<Figure size 432x288 with 1 Axes>"
      ]
     },
     "metadata": {
      "needs_background": "light"
     },
     "output_type": "display_data"
    }
   ],
   "source": [
    "for vl in valid_losseses: \n",
    "    plt.plot(np.array(vl))\n",
    "#plt.ylim(1e4, 2e4)\n",
    "plt.xlim(0, np.max([len(vl) for vl in valid_losseses]))"
   ]
  },
  {
   "cell_type": "code",
   "execution_count": 29,
   "id": "a0d15052",
   "metadata": {},
   "outputs": [
    {
     "name": "stdout",
     "output_type": "stream",
     "text": [
      "2\n"
     ]
    }
   ],
   "source": [
    "#i_best = np.argmin(best_valid_losses)\n",
    "i_best = 2\n",
    "print(i_best)"
   ]
  },
  {
   "cell_type": "code",
   "execution_count": 30,
   "id": "f20e5f1a",
   "metadata": {},
   "outputs": [
    {
     "data": {
      "image/png": "[encoded data removed]",
      "text/plain": [
       "<Figure size 432x288 with 1 Axes>"
      ]
     },
     "metadata": {
      "needs_background": "light"
     },
     "output_type": "display_data"
    }
   ],
   "source": [
    "with torch.no_grad(): \n",
    "    w_prime = all_flows[i_best].sample(10000)\n",
    "    post_prime = w_prime * std_post + avg_post\n",
    "    \n",
    "plt.hist(np.array(post_prime.detach().cpu()), range=(8., 13.), bins=20)\n",
    "plt.xlim(8., 13.)\n",
    "plt.show()"
   ]
  },
  {
   "cell_type": "code",
   "execution_count": null,
   "id": "e02136c3",
   "metadata": {},
   "outputs": [],
   "source": []
  }
 ],
 "metadata": {
  "kernelspec": {
   "display_name": "sbi",
   "language": "python",
   "name": "sbi"
  },
  "language_info": {
   "codemirror_mode": {
    "name": "ipython",
    "version": 3
   },
   "file_extension": ".py",
   "mimetype": "text/x-python",
   "name": "python",
   "nbconvert_exporter": "python",
   "pygments_lexer": "ipython3",
   "version": "3.7.10"
  }
 },
 "nbformat": 4,
 "nbformat_minor": 5
}
