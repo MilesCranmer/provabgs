{
 "cells": [
  {
   "cell_type": "markdown",
   "id": "a4423297-7c6a-415b-b3d9-e30fa09a80a4",
   "metadata": {},
   "source": [
    "$$\\log p(\\phi | \\{x_i\\}) \\approx \\prod\\limits_{i=1}^N \\frac{1}{S_i} \\sum\\limits_{j=1}^{S_i} p(\\theta_{ij} | \\phi)$$\n",
    "\n",
    "For normalizing flows \n",
    "$$p(\\theta_{ij} | \\phi) = q_\\phi(\\theta_{ij})$$\n",
    "\n",
    "Then a MAP solution for $\\phi$ can be obtained by maximizing $\\log p(\\phi | \\{ x_i \\})$, which is equivalent to maximizing\n",
    "$$\\sum_{i=1}^N \\log \\sum\\limits_{j=1}^S q_\\phi(\\theta_{ij})$$\n"
   ]
  },
  {
   "cell_type": "code",
   "execution_count": 1,
   "id": "dae0cfff-d41c-40c8-ba76-a7b9652df31c",
   "metadata": {},
   "outputs": [],
   "source": [
    "import os\n",
    "import h5py \n",
    "import glob\n",
    "import numpy as np\n",
    "import astropy.table as aTable"
   ]
  },
  {
   "cell_type": "code",
   "execution_count": 2,
   "id": "0ce04eb8-8555-410e-b933-bfa1a79d1007",
   "metadata": {},
   "outputs": [],
   "source": [
    "import copy\n",
    "from nflows import transforms, distributions, flows\n",
    "\n",
    "import torch\n",
    "from torch import nn\n",
    "from torch import optim"
   ]
  },
  {
   "cell_type": "code",
   "execution_count": 3,
   "id": "c06eb997-3dfa-45b7-8a3e-b5d742013277",
   "metadata": {},
   "outputs": [],
   "source": [
    "# -- plotting -- \n",
    "import matplotlib as mpl\n",
    "import matplotlib.pyplot as plt\n",
    "mpl.rcParams['font.family'] = 'serif'\n",
    "mpl.rcParams['axes.linewidth'] = 1.5\n",
    "mpl.rcParams['axes.xmargin'] = 1\n",
    "mpl.rcParams['xtick.labelsize'] = 'x-large'\n",
    "mpl.rcParams['xtick.major.size'] = 5\n",
    "mpl.rcParams['xtick.major.width'] = 1.5\n",
    "mpl.rcParams['ytick.labelsize'] = 'x-large'\n",
    "mpl.rcParams['ytick.major.size'] = 5\n",
    "mpl.rcParams['ytick.major.width'] = 1.5\n",
    "mpl.rcParams['legend.frameon'] = False"
   ]
  },
  {
   "cell_type": "code",
   "execution_count": 4,
   "id": "efd90248-edb2-48ac-89be-283b9fdfef30",
   "metadata": {},
   "outputs": [],
   "source": [
    "dat_dir = '/tigress/chhahn/provabgs/svda'"
   ]
  },
  {
   "cell_type": "code",
   "execution_count": 5,
   "id": "3c351bf1-3eee-4848-8fb8-cdc70d153997",
   "metadata": {},
   "outputs": [],
   "source": [
    "if torch.cuda.is_available(): \n",
    "    device = torch.device(type='cuda', index=0)\n",
    "else: \n",
    "    device = 'cpu'"
   ]
  },
  {
   "cell_type": "markdown",
   "id": "5a11b7bd-a54d-471f-9069-e11951977292",
   "metadata": {},
   "source": [
    "# compile $M_*$ posteriors for $z < 0.2$ galaxies"
   ]
  },
  {
   "cell_type": "code",
   "execution_count": 6,
   "id": "5a3e99be",
   "metadata": {},
   "outputs": [],
   "source": [
    "bgs = aTable.Table.read(os.path.join(dat_dir, 'BGS_BRIGHT_clustering.sv3.logM.hdf5'))"
   ]
  },
  {
   "cell_type": "code",
   "execution_count": 7,
   "id": "978b7afb",
   "metadata": {},
   "outputs": [],
   "source": [
    "has_posterior = (bgs['zmax'].data != -999.) & (bgs['Z'] <= 0.2)\n",
    "bgs = bgs[has_posterior]"
   ]
  },
  {
   "cell_type": "code",
   "execution_count": 8,
   "id": "4cfa9113",
   "metadata": {},
   "outputs": [
    {
     "data": {
      "text/html": [
       "<i>Table length=5</i>\n",
       "<table id=\"table23056286751440\" class=\"table-striped table-bordered table-condensed\">\n",
       "<thead><tr><th>RA</th><th>DEC</th><th>TARGETID</th><th>NTILE</th><th>TILES</th><th>Z</th><th>COMP_TILE</th><th>rosette_number</th><th>rosette_r</th><th>FRACZ_TILELOCID</th><th>BITWEIGHTS [2]</th><th>PROB_OBS</th><th>WEIGHT_ZFAIL</th><th>WEIGHT</th><th>flux_g_dered</th><th>flux_r_dered</th><th>flux_z_dered</th><th>flux_w1_dered</th><th>flux_w2_dered</th><th>NZ</th><th>WEIGHT_FKP</th><th>phi</th><th>theta</th><th>healpix</th><th>logM_mcmc [30]</th><th>zmax</th><th>theta_bf [13]</th></tr></thead>\n",
       "<thead><tr><th>float64</th><th>float64</th><th>int64</th><th>int64</th><th>bytes43</th><th>float64</th><th>float64</th><th>float64</th><th>float64</th><th>float64</th><th>int64</th><th>float64</th><th>float64</th><th>float64</th><th>float32</th><th>float32</th><th>float32</th><th>float32</th><th>float32</th><th>float64</th><th>float64</th><th>float64</th><th>float64</th><th>int64</th><th>float64</th><th>float64</th><th>float64</th></tr></thead>\n",
       "<tr><td>191.20458196461243</td><td>60.31535787110577</td><td>39633390185481345</td><td>1</td><td>100</td><td>0.08969256109731599</td><td>0.64</td><td>3.0</td><td>1.613220114177946</td><td>1.0</td><td>-1 .. -1</td><td>1.0</td><td>1.0</td><td>1.0</td><td>11.618794</td><td>18.39226</td><td>20.892622</td><td>13.421043</td><td>9.27371</td><td>0.04778151135868713</td><td>0.0030821516772042766</td><td>3.3371495001818547</td><td>0.5180947424254233</td><td>11226</td><td>9.311141344469839 .. 9.30371384223851</td><td>0.244537973921384</td><td>9.299830413616577 .. 0.12427289814965596</td></tr>\n",
       "<tr><td>187.83760708675698</td><td>60.38987543677365</td><td>39633393155049303</td><td>1</td><td>100</td><td>0.1731108191825362</td><td>0.64</td><td>3.0</td><td>1.7267282368438097</td><td>0.5</td><td>6932875859169517021 .. -6858338461939850770</td><td>0.4609375</td><td>1.0</td><td>2.15</td><td>13.26433</td><td>27.728409</td><td>46.020153</td><td>37.03337</td><td>25.867756</td><td>0.01270745015908088</td><td>0.01149149450827468</td><td>3.2783847027313433</td><td>0.5167941655539476</td><td>11237</td><td>10.562881907340254 .. 10.51416114213185</td><td>0.3653015609857238</td><td>10.502975152735333 .. 0.2744993206027024</td></tr>\n",
       "<tr><td>186.48359894373857</td><td>61.73967570511937</td><td>39633407801558322</td><td>1</td><td>100</td><td>0.08577825488213503</td><td>0.64</td><td>3.0</td><td>1.6169466967221486</td><td>1.0</td><td>8781239440956233492 .. -7057659983223072695</td><td>0.5546875</td><td>1.0</td><td>1.7916666666666667</td><td>15.079609</td><td>20.454126</td><td>26.065075</td><td>13.486019</td><td>10.797623</td><td>0.04778151135868713</td><td>0.0030821516772042766</td><td>3.2547528025368577</td><td>0.49323570662701194</td><td>11250</td><td>9.553030097515068 .. 9.616727386110236</td><td>0.15904907192264478</td><td>9.64110366817851 .. 0.34742311547544863</td></tr>\n",
       "<tr><td>189.20703625254848</td><td>60.13450219401336</td><td>39633390168704208</td><td>1</td><td>100</td><td>0.1842724056985206</td><td>0.64</td><td>3.0</td><td>1.6990866107210438</td><td>0.5</td><td>-1 .. -1</td><td>1.0</td><td>1.0</td><td>1.0</td><td>20.873507</td><td>47.31153</td><td>86.10893</td><td>73.21894</td><td>58.1018</td><td>0.01270745015908088</td><td>0.01149149450827468</td><td>3.3022857505472443</td><td>0.5212512694616096</td><td>11215</td><td>11.119193932010795 .. 11.087693511488103</td><td>0.47828502781727295</td><td>11.155540895363698 .. 0.23645233036989347</td></tr>\n",
       "<tr><td>188.37549196358177</td><td>60.28363082356079</td><td>39633390160317021</td><td>1</td><td>100</td><td>0.10460016503986184</td><td>0.64</td><td>3.0</td><td>1.6863667576183226</td><td>1.0</td><td>-1 .. -1</td><td>1.0</td><td>1.0</td><td>1.0</td><td>59.504303</td><td>110.16833</td><td>163.72209</td><td>99.53286</td><td>64.68495</td><td>0.02076759884354943</td><td>0.007063011628762902</td><td>3.28777256482862</td><td>0.5186484838670199</td><td>11237</td><td>10.672187264107224 .. 10.663645655661396</td><td>0.5131675965953388</td><td>10.697130097376105 .. 0.13025520023133774</td></tr>\n",
       "</table>"
      ],
      "text/plain": [
       "<Table length=5>\n",
       "        RA         ...               theta_bf [13]              \n",
       "     float64       ...                  float64                 \n",
       "------------------ ... -----------------------------------------\n",
       "191.20458196461243 ...  9.299830413616577 .. 0.12427289814965596\n",
       "187.83760708675698 ...  10.502975152735333 .. 0.2744993206027024\n",
       "186.48359894373857 ...   9.64110366817851 .. 0.34742311547544863\n",
       "189.20703625254848 ... 11.155540895363698 .. 0.23645233036989347\n",
       "188.37549196358177 ... 10.697130097376105 .. 0.13025520023133774"
      ]
     },
     "execution_count": 8,
     "metadata": {},
     "output_type": "execute_result"
    }
   ],
   "source": [
    "bgs[:5]"
   ]
  },
  {
   "cell_type": "code",
   "execution_count": 9,
   "id": "d61a6bef",
   "metadata": {},
   "outputs": [],
   "source": [
    "logM_posteriors = bgs['logM_mcmc'].data\n",
    "zmaxes = bgs['zmax'].data"
   ]
  },
  {
   "cell_type": "code",
   "execution_count": 10,
   "id": "ee346b12",
   "metadata": {},
   "outputs": [
    {
     "name": "stdout",
     "output_type": "stream",
     "text": [
      "70355 galaxies\n"
     ]
    }
   ],
   "source": [
    "print('%i galaxies' % len(zmaxes))"
   ]
  },
  {
   "cell_type": "code",
   "execution_count": 11,
   "id": "a0a8725e-2882-4282-b8bc-567afda3a2c2",
   "metadata": {},
   "outputs": [
    {
     "data": {
      "text/plain": [
       "(7.0, 12.5)"
      ]
     },
     "execution_count": 11,
     "metadata": {},
     "output_type": "execute_result"
    },
    {
     "data": {
      "image/png": "[encoded data removed]",
      "text/plain": [
       "<Figure size 432x288 with 1 Axes>"
      ]
     },
     "metadata": {
      "needs_background": "light"
     },
     "output_type": "display_data"
    }
   ],
   "source": [
    "for i in np.random.choice(np.arange(logM_posteriors.shape[0]), size=100, replace=False): \n",
    "    plt.hist(logM_posteriors[i,:], bins=10, alpha=0.5)\n",
    "plt.xlim(7., 12.5)"
   ]
  },
  {
   "cell_type": "markdown",
   "id": "db6b45af-cfba-4d53-85a9-6e3fd7a907d2",
   "metadata": {},
   "source": [
    "# calculate $V_{\\rm max}$"
   ]
  },
  {
   "cell_type": "code",
   "execution_count": 12,
   "id": "a1108449-ae9f-4004-a52f-0f9296b7bec6",
   "metadata": {},
   "outputs": [],
   "source": [
    "from astropy.cosmology import Planck13"
   ]
  },
  {
   "cell_type": "code",
   "execution_count": 13,
   "id": "0c5501cc-73b5-4577-93a2-fa46980f06a2",
   "metadata": {},
   "outputs": [],
   "source": [
    "vfull = Planck13.comoving_volume(0.2).value * Planck13.h**3 # (Mpc/h)^3\n",
    "vmaxes = Planck13.comoving_volume(zmaxes.clip(0., 0.2)).value * Planck13.h**3 # (Mpc/h)^3"
   ]
  },
  {
   "cell_type": "code",
   "execution_count": 50,
   "id": "ab877a14",
   "metadata": {},
   "outputs": [],
   "source": [
    "# Vmax based importance weights\n",
    "w_import = vfull / vmaxes * bgs['WEIGHT'].data"
   ]
  },
  {
   "cell_type": "markdown",
   "id": "a1c769e0",
   "metadata": {},
   "source": [
    "as a quick check of the Vmaxes, lets take a look at the posteriors weighted by 1/Vmax"
   ]
  },
  {
   "cell_type": "code",
   "execution_count": 52,
   "id": "4c3c17f0",
   "metadata": {},
   "outputs": [
    {
     "data": {
      "image/png": "[encoded data removed]",
      "text/plain": [
       "<Figure size 432x288 with 1 Axes>"
      ]
     },
     "metadata": {
      "needs_background": "light"
     },
     "output_type": "display_data"
    }
   ],
   "source": [
    "plt.hist(np.median(logM_posteriors, axis=1), bins=40, density=True)\n",
    "plt.hist(np.median(logM_posteriors, axis=1), bins=40, weights=w_import, alpha=0.5, density=True)\n",
    "plt.xlim(8., 13)\n",
    "plt.yscale('log')"
   ]
  },
  {
   "cell_type": "markdown",
   "id": "b3bbe49f-82f6-4cea-8749-9fd33582c0ff",
   "metadata": {},
   "source": [
    "# estimate $p(M_* | \\{x_i, z_i \\})$ using NDE"
   ]
  },
  {
   "cell_type": "code",
   "execution_count": 54,
   "id": "4f0bedd4-6732-4325-a885-677ab4d70f5b",
   "metadata": {},
   "outputs": [],
   "source": [
    "x_data = torch.tensor(logM_posteriors.astype(np.float32)).to(device)\n",
    "w_data = torch.tensor(w_import.astype(np.float32)).to(device)"
   ]
  },
  {
   "cell_type": "code",
   "execution_count": 55,
   "id": "f94f65bf",
   "metadata": {},
   "outputs": [],
   "source": [
    "batch_size = 128\n",
    "Ntrain = int(0.9 * x_data.shape[0])\n",
    "Nvalid = x_data.shape[0] - Ntrain # int(0.1 * x_data.shape[0])\n",
    "\n",
    "trainloader = torch.utils.data.DataLoader(\n",
    "        torch.utils.data.TensorDataset(x_data[:Ntrain], w_data[:Ntrain]),\n",
    "        batch_size=batch_size,\n",
    "        shuffle=True)\n",
    "\n",
    "validloader = torch.utils.data.DataLoader(\n",
    "        torch.utils.data.TensorDataset(x_data[Ntrain:Ntrain+Nvalid], w_data[Ntrain:Ntrain+Nvalid]),\n",
    "        batch_size=batch_size)"
   ]
  },
  {
   "cell_type": "code",
   "execution_count": 56,
   "id": "6d1bd504-799d-46eb-8370-855e0bc1c419",
   "metadata": {},
   "outputs": [],
   "source": [
    "# def Loss(flow, post, w): \n",
    "#     w_i = torch.sum(w, axis=1)\n",
    "    \n",
    "#     logw = torch.log(w) \n",
    "#     return -torch.sum(w_i * torch.logsumexp(logw + flow.log_prob(post.flatten()[:,None]).reshape(post.shape), axis=1))\n",
    "\n",
    "def Loss(flow, post, w): \n",
    "    return -torch.sum(w * torch.logsumexp(flow.log_prob(post.flatten()[:,None]).reshape(post.shape), axis=1))"
   ]
  },
  {
   "cell_type": "code",
   "execution_count": 57,
   "id": "9c1238e3-c062-45d9-8227-a207e9d4c7af",
   "metadata": {},
   "outputs": [],
   "source": [
    "ndim = 1 "
   ]
  },
  {
   "cell_type": "code",
   "execution_count": 67,
   "id": "bce18ebe-a491-4bdb-af81-31388942fdf5",
   "metadata": {},
   "outputs": [
    {
     "name": "stdout",
     "output_type": "stream",
     "text": [
      "5x108\n",
      "0 \t -3.29e+00 \t -3.45e+00\n",
      "20 \t -4.14e+00 \t -3.61e+00\n",
      ">>>24 \t -3.61278e+00\n",
      "5x72\n",
      "0 \t -2.70e+00 \t -3.47e+00\n",
      "20 \t -4.17e+00 \t -3.50e+00\n",
      ">>>27 \t -3.61829e+00\n",
      "5x194\n",
      "0 \t -3.48e+00 \t -3.03e+00\n",
      "20 \t -4.11e+00 \t -3.44e+00\n",
      ">>>28 \t -3.62571e+00\n",
      "5x103\n",
      "0 \t -3.38e+00 \t -3.56e+00\n",
      "20 \t -4.08e+00 \t -3.60e+00\n",
      ">>>32 \t -3.62473e+00\n",
      "5x199\n",
      "0 \t -3.74e+00 \t -3.54e+00\n",
      "20 \t -4.11e+00 \t -3.61e+00\n",
      ">>>30 \t -3.62589e+00\n"
     ]
    }
   ],
   "source": [
    "all_flows = []\n",
    "\n",
    "lr = 1e-3\n",
    "num_iter = 1000\n",
    "patience = 20\n",
    "\n",
    "best_valid_losses, valid_losseses = [], []\n",
    "for i in range(5): \n",
    "    nhidden = int(np.ceil(np.exp(np.random.uniform(np.log(64), np.log(256)))))\n",
    "    print('5x%i' % nhidden)\n",
    "    blocks = []\n",
    "    for iblock in range(5): \n",
    "        blocks += [\n",
    "            transforms.MaskedAffineAutoregressiveTransform(features=ndim, hidden_features=nhidden),\n",
    "            transforms.RandomPermutation(features=ndim)\n",
    "        ]\n",
    "    transform = transforms.CompositeTransform(blocks)\n",
    "\n",
    "    # Define a base distribution.\n",
    "    base_distribution = distributions.StandardNormal(shape=[ndim])\n",
    "\n",
    "    # Combine into a flow.\n",
    "    flow = flows.Flow(transform=transform, distribution=base_distribution)\n",
    "    flow.to(device)\n",
    "\n",
    "    # parameters = [weights, means, stdevs]\n",
    "    optimizer1 = optim.Adam(flow.parameters(), lr=lr)\n",
    "    scheduler = optim.lr_scheduler.OneCycleLR(optimizer1, lr, total_steps=num_iter)\n",
    "\n",
    "    best_epoch = 0 \n",
    "    best_valid_loss = np.inf\n",
    "    valid_losses = []\n",
    "    for epoch in range(num_iter):\n",
    "        train_loss = 0.\n",
    "        for batch in trainloader: \n",
    "            optimizer1.zero_grad()\n",
    "            loss = Loss(flow, batch[0], batch[1])\n",
    "            loss.backward()\n",
    "            train_loss += loss.item()\n",
    "            optimizer1.step()\n",
    "        train_loss /= len(trainloader.dataset)\n",
    "\n",
    "        with torch.no_grad():\n",
    "            valid_loss = 0.\n",
    "            for batch in validloader: \n",
    "                loss = Loss(flow, batch[0], batch[1])\n",
    "                valid_loss += loss.item()\n",
    "            valid_loss /= len(validloader.dataset)           \n",
    "            valid_losses.append(valid_loss)\n",
    "            \n",
    "            if epoch % 20 == 0: \n",
    "                print('%i \\t %.2e \\t %.2e' % (epoch, train_loss, valid_loss))\n",
    "            if valid_loss < best_valid_loss: \n",
    "                best_valid_loss = valid_loss\n",
    "                best_epoch = epoch\n",
    "                best_flow = copy.deepcopy(flow)\n",
    "            else: \n",
    "                if best_epoch < epoch - patience: \n",
    "                    print('>>>%i \\t %.5e' % (epoch, best_valid_loss))\n",
    "                    break\n",
    "                    \n",
    "        scheduler.step()\n",
    "    all_flows.append(best_flow)\n",
    "    valid_losseses.append(valid_losses)   \n",
    "    best_valid_losses.append(best_valid_loss)"
   ]
  },
  {
   "cell_type": "code",
   "execution_count": 69,
   "id": "61aa8a06-611f-4033-8826-586c5905559c",
   "metadata": {},
   "outputs": [
    {
     "data": {
      "text/plain": [
       "(-10.0, -0.01)"
      ]
     },
     "execution_count": 69,
     "metadata": {},
     "output_type": "execute_result"
    },
    {
     "data": {
      "image/png": "[encoded data removed]",
      "text/plain": [
       "<Figure size 432x288 with 1 Axes>"
      ]
     },
     "metadata": {
      "needs_background": "light"
     },
     "output_type": "display_data"
    }
   ],
   "source": [
    "for vl in valid_losseses: \n",
    "    plt.plot(np.array(vl))\n",
    "plt.xlim(0, np.max([len(vl) for vl in valid_losseses]))\n",
    "plt.yscale('symlog', linthresh=1e-2)\n",
    "plt.ylim(-1e1, -1e-2)"
   ]
  },
  {
   "cell_type": "code",
   "execution_count": 70,
   "id": "a0d15052",
   "metadata": {},
   "outputs": [
    {
     "name": "stdout",
     "output_type": "stream",
     "text": [
      "4\n"
     ]
    }
   ],
   "source": [
    "i_best = np.argmin(best_valid_losses)\n",
    "#i_best = 2\n",
    "print(i_best)"
   ]
  },
  {
   "cell_type": "code",
   "execution_count": 71,
   "id": "f20e5f1a",
   "metadata": {},
   "outputs": [],
   "source": [
    "with torch.no_grad(): \n",
    "    post_prime = all_flows[i_best].sample(10000)\n",
    "    #post_prime = w_prime * std_post + avg_post"
   ]
  },
  {
   "cell_type": "code",
   "execution_count": 72,
   "id": "1413b720",
   "metadata": {},
   "outputs": [
    {
     "data": {
      "image/png": "[encoded data removed]",
      "text/plain": [
       "<Figure size 720x576 with 1 Axes>"
      ]
     },
     "metadata": {
      "needs_background": "light"
     },
     "output_type": "display_data"
    }
   ],
   "source": [
    "fig = plt.figure(figsize=(10,8))\n",
    "sub = fig.add_subplot(111)\n",
    "_ = sub.hist(np.array(post_prime.detach().cpu()), range=(7., 13.), bins=40, \n",
    "             histtype='step', linewidth=2, label='pSMF')\n",
    "\n",
    "_ = sub.hist(np.median(logM_posteriors, axis=1), \n",
    "         weights=w_import*10000./np.sum(w_import), \n",
    "         range=(7., 13.), bins=40, histtype='step', linewidth=2, label='SMF')\n",
    "\n",
    "sub.legend(loc='lower left', fontsize=20)\n",
    "sub.set_xlabel(r'stellar mass [$M_*$]', fontsize=25)\n",
    "sub.set_xlim(7., 13.)\n",
    "sub.set_ylabel(r'unnormalized number density', fontsize=25)\n",
    "sub.set_yscale('log')\n"
   ]
  },
  {
   "cell_type": "markdown",
   "id": "3cbacf2a",
   "metadata": {},
   "source": [
    "# calculate normalization"
   ]
  },
  {
   "cell_type": "code",
   "execution_count": 73,
   "id": "33a6f914",
   "metadata": {},
   "outputs": [],
   "source": [
    "footprint = 168.8264 / (4 * np.pi * (180/np.pi)**2) # sq. deg"
   ]
  },
  {
   "cell_type": "code",
   "execution_count": 74,
   "id": "65748519",
   "metadata": {},
   "outputs": [
    {
     "name": "stdout",
     "output_type": "stream",
     "text": [
      "0.05167709231549672\n"
     ]
    }
   ],
   "source": [
    "nbar_total = np.sum(bgs['WEIGHT'] / vmaxes / footprint) # (Mpc/h)^(-3)\n",
    "print(nbar_total)"
   ]
  },
  {
   "cell_type": "code",
   "execution_count": 75,
   "id": "d9a0cee8",
   "metadata": {},
   "outputs": [
    {
     "data": {
      "text/plain": [
       "(1e-07, 0.031696119155579565)"
      ]
     },
     "execution_count": 75,
     "metadata": {},
     "output_type": "execute_result"
    },
    {
     "data": {
      "image/png": "[encoded data removed]",
      "text/plain": [
       "<Figure size 720x576 with 1 Axes>"
      ]
     },
     "metadata": {
      "needs_background": "light"
     },
     "output_type": "display_data"
    }
   ],
   "source": [
    "fig = plt.figure(figsize=(10,8))\n",
    "sub = fig.add_subplot(111)\n",
    "_ = sub.hist(np.array(post_prime.detach().cpu()),\n",
    "             weights=np.repeat(nbar_total/10000./0.1, 10000), \n",
    "             range=(7., 13.), bins=60, histtype='step', linewidth=2, label='pSMF')\n",
    "\n",
    "_ = sub.hist(np.median(logM_posteriors, axis=1), \n",
    "         weights=w_import*nbar_total/np.sum(w_import)/0.1, \n",
    "         range=(7., 13.), bins=60, histtype='step', linewidth=2, label='SMF')\n",
    "\n",
    "sub.legend(loc='lower left', fontsize=20)\n",
    "sub.set_xlabel(r'stellar mass [$M_*$]', fontsize=25)\n",
    "sub.set_xlim(7., 13.)\n",
    "sub.set_ylabel(r'unnormalized number density', fontsize=25)\n",
    "sub.set_yscale('log')\n",
    "sub.set_ylim(1e-7, None)"
   ]
  },
  {
   "cell_type": "code",
   "execution_count": 76,
   "id": "5ce86d56",
   "metadata": {},
   "outputs": [
    {
     "data": {
      "text/plain": [
       "(1e-07, 0.031696119155579565)"
      ]
     },
     "execution_count": 76,
     "metadata": {},
     "output_type": "execute_result"
    },
    {
     "data": {
      "image/png": "[encoded data removed]",
      "text/plain": [
       "<Figure size 720x576 with 1 Axes>"
      ]
     },
     "metadata": {
      "needs_background": "light"
     },
     "output_type": "display_data"
    }
   ],
   "source": [
    "fig = plt.figure(figsize=(10,8))\n",
    "sub = fig.add_subplot(111)\n",
    "_ = sub.hist(np.array(post_prime.detach().cpu()),\n",
    "             weights=np.repeat(nbar_total/10000./0.1, 10000), \n",
    "             range=(7., 13.), bins=60, histtype='step', linewidth=2, label='pSMF')\n",
    "\n",
    "_ = sub.hist(np.median(logM_posteriors, axis=1), \n",
    "         weights=w_import*nbar_total/np.sum(w_import)/0.1, \n",
    "         range=(7., 13.), bins=60, histtype='step', linewidth=2, label='SMF')\n",
    "\n",
    "sub.legend(loc='lower left', fontsize=20)\n",
    "sub.set_xlabel(r'stellar mass [$M_*$]', fontsize=25)\n",
    "sub.set_xlim(9., 13.)\n",
    "sub.set_ylabel(r'number density [$({\\rm Mpc}/h)^{-3} {\\rm dex}^{-1}$]', fontsize=25)\n",
    "sub.set_yscale('log')\n",
    "sub.set_ylim(1e-7, None)"
   ]
  },
  {
   "cell_type": "code",
   "execution_count": null,
   "id": "6d514476",
   "metadata": {},
   "outputs": [],
   "source": []
  }
 ],
 "metadata": {
  "kernelspec": {
   "display_name": "sbi",
   "language": "python",
   "name": "sbi"
  },
  "language_info": {
   "codemirror_mode": {
    "name": "ipython",
    "version": 3
   },
   "file_extension": ".py",
   "mimetype": "text/x-python",
   "name": "python",
   "nbconvert_exporter": "python",
   "pygments_lexer": "ipython3",
   "version": "3.7.10"
  }
 },
 "nbformat": 4,
 "nbformat_minor": 5
}
