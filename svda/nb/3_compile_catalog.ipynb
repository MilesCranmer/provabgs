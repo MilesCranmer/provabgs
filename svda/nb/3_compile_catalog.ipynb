{
 "cells": [
  {
   "cell_type": "markdown",
   "id": "9c26c272-1f3e-4520-aac4-233891709d8b",
   "metadata": {},
   "source": [
    "# compile posterior for the BGS catalogs"
   ]
  },
  {
   "cell_type": "code",
   "execution_count": 1,
   "id": "4d85f810-9cb1-407e-b575-fb6cea1f4615",
   "metadata": {},
   "outputs": [],
   "source": [
    "import os\n",
    "import h5py\n",
    "import numpy as np\n",
    "import astropy.table as aTable"
   ]
  },
  {
   "cell_type": "code",
   "execution_count": 2,
   "id": "6a1ad2d0-a60f-4ae2-8e7c-53773e50de12",
   "metadata": {
    "tags": []
   },
   "outputs": [
    {
     "name": "stderr",
     "output_type": "stream",
     "text": [
      "\n",
      "Bad key text.latex.preview in file /global/homes/c/chahah/.conda/envs/gqp/lib/python3.7/site-packages/matplotlib/mpl-data/stylelib/_classic_test.mplstyle, line 123 ('text.latex.preview : False')\n",
      "You probably need to get an updated matplotlibrc file from\n",
      "https://github.com/matplotlib/matplotlib/blob/v3.5.1/matplotlibrc.template\n",
      "or from the matplotlib source distribution\n",
      "\n",
      "Bad key mathtext.fallback_to_cm in file /global/homes/c/chahah/.conda/envs/gqp/lib/python3.7/site-packages/matplotlib/mpl-data/stylelib/_classic_test.mplstyle, line 155 ('mathtext.fallback_to_cm : True  # When True, use symbols from the Computer Modern')\n",
      "You probably need to get an updated matplotlibrc file from\n",
      "https://github.com/matplotlib/matplotlib/blob/v3.5.1/matplotlibrc.template\n",
      "or from the matplotlib source distribution\n",
      "\n",
      "Bad key savefig.jpeg_quality in file /global/homes/c/chahah/.conda/envs/gqp/lib/python3.7/site-packages/matplotlib/mpl-data/stylelib/_classic_test.mplstyle, line 418 ('savefig.jpeg_quality: 95       # when a jpeg is saved, the default quality parameter.')\n",
      "You probably need to get an updated matplotlibrc file from\n",
      "https://github.com/matplotlib/matplotlib/blob/v3.5.1/matplotlibrc.template\n",
      "or from the matplotlib source distribution\n",
      "\n",
      "Bad key keymap.all_axes in file /global/homes/c/chahah/.conda/envs/gqp/lib/python3.7/site-packages/matplotlib/mpl-data/stylelib/_classic_test.mplstyle, line 466 ('keymap.all_axes : a                 # enable all axes')\n",
      "You probably need to get an updated matplotlibrc file from\n",
      "https://github.com/matplotlib/matplotlib/blob/v3.5.1/matplotlibrc.template\n",
      "or from the matplotlib source distribution\n",
      "\n",
      "Bad key animation.avconv_path in file /global/homes/c/chahah/.conda/envs/gqp/lib/python3.7/site-packages/matplotlib/mpl-data/stylelib/_classic_test.mplstyle, line 477 ('animation.avconv_path: avconv     # Path to avconv binary. Without full path')\n",
      "You probably need to get an updated matplotlibrc file from\n",
      "https://github.com/matplotlib/matplotlib/blob/v3.5.1/matplotlibrc.template\n",
      "or from the matplotlib source distribution\n",
      "\n",
      "Bad key animation.avconv_args in file /global/homes/c/chahah/.conda/envs/gqp/lib/python3.7/site-packages/matplotlib/mpl-data/stylelib/_classic_test.mplstyle, line 479 ('animation.avconv_args:            # Additional arguments to pass to avconv')\n",
      "You probably need to get an updated matplotlibrc file from\n",
      "https://github.com/matplotlib/matplotlib/blob/v3.5.1/matplotlibrc.template\n",
      "or from the matplotlib source distribution\n"
     ]
    }
   ],
   "source": [
    "import healpy"
   ]
  },
  {
   "cell_type": "markdown",
   "id": "8e151e9e-2ba8-47fb-86d0-f0dddaf80b8d",
   "metadata": {},
   "source": [
    "## compile BGS Bright"
   ]
  },
  {
   "cell_type": "code",
   "execution_count": 4,
   "id": "c0fecb19-9c58-461b-a8c9-618f66b4b060",
   "metadata": {},
   "outputs": [],
   "source": [
    "dir_dat = '/global/cfs/cdirs/desi/survey/catalogs/SV3/LSS/fuji/LSScats/EDAbeta/'\n",
    "_bgs_n = aTable.Table.read(os.path.join(dir_dat, 'BGS_BRIGHT_N_clustering.dat.fits'))\n",
    "_bgs_s = aTable.Table.read(os.path.join(dir_dat, 'BGS_BRIGHT_S_clustering.dat.fits'))\n",
    "\n",
    "bgs_bright = aTable.vstack([_bgs_n, _bgs_s])"
   ]
  },
  {
   "cell_type": "code",
   "execution_count": 5,
   "id": "a66c2360-1a97-43d5-a29e-8fb41a6ed246",
   "metadata": {},
   "outputs": [
    {
     "data": {
      "text/plain": [
       "143853"
      ]
     },
     "execution_count": 5,
     "metadata": {},
     "output_type": "execute_result"
    }
   ],
   "source": [
    "len(bgs_bright)"
   ]
  },
  {
   "cell_type": "code",
   "execution_count": 6,
   "id": "5a269315-15e4-47d3-a45d-58d57fa4ca97",
   "metadata": {},
   "outputs": [
    {
     "data": {
      "text/html": [
       "<div><i>Table length=5</i>\n",
       "<table id=\"table139625644901840\" class=\"table-striped table-bordered table-condensed\">\n",
       "<thead><tr><th>RA</th><th>DEC</th><th>TARGETID</th><th>NTILE</th><th>TILES</th><th>Z</th><th>COMP_TILE</th><th>rosette_number</th><th>rosette_r</th><th>FRACZ_TILELOCID</th><th>BITWEIGHTS [2]</th><th>PROB_OBS</th><th>WEIGHT_ZFAIL</th><th>WEIGHT</th><th>flux_g_dered</th><th>flux_r_dered</th><th>flux_z_dered</th><th>flux_w1_dered</th><th>flux_w2_dered</th><th>NZ</th><th>WEIGHT_FKP</th></tr></thead>\n",
       "<thead><tr><th>float64</th><th>float64</th><th>int64</th><th>int64</th><th>bytes43</th><th>float64</th><th>float64</th><th>float64</th><th>float64</th><th>float64</th><th>int64</th><th>float64</th><th>float64</th><th>float64</th><th>float32</th><th>float32</th><th>float32</th><th>float32</th><th>float32</th><th>float64</th><th>float64</th></tr></thead>\n",
       "<tr><td>191.20458196461243</td><td>60.31535787110577</td><td>39633390185481345</td><td>1</td><td>100</td><td>0.08969256109731599</td><td>0.64</td><td>3.0</td><td>1.613220114177946</td><td>1.0</td><td>-1 .. -1</td><td>1.0</td><td>1.0</td><td>1.0</td><td>11.618794</td><td>18.39226</td><td>20.892622</td><td>13.421043</td><td>9.27371</td><td>0.04778151135868713</td><td>0.0030821516772042766</td></tr>\n",
       "<tr><td>187.04622815471808</td><td>60.82670180284912</td><td>39633396124617897</td><td>1</td><td>100</td><td>0.37400455377945924</td><td>0.64</td><td>3.0</td><td>1.6801915534232357</td><td>1.0</td><td>-1 .. -1</td><td>1.0</td><td>1.0</td><td>1.0</td><td>4.046807</td><td>16.82531</td><td>38.79777</td><td>85.02852</td><td>54.11833</td><td>0.0009577827729000268</td><td>0.133626516949366</td></tr>\n",
       "<tr><td>187.83760708675698</td><td>60.38987543677365</td><td>39633393155049303</td><td>1</td><td>100</td><td>0.1731108191825362</td><td>0.64</td><td>3.0</td><td>1.7267282368438097</td><td>0.5</td><td>6932875859169517021 .. -6858338461939850770</td><td>0.4609375</td><td>1.0</td><td>2.15</td><td>13.26433</td><td>27.728409</td><td>46.020153</td><td>37.03337</td><td>25.867756</td><td>0.01270745015908088</td><td>0.01149149450827468</td></tr>\n",
       "<tr><td>187.05117249536465</td><td>62.614542270156655</td><td>39633416324383107</td><td>1</td><td>100</td><td>0.2703579310142208</td><td>0.64</td><td>3.0</td><td>1.5579854421783794</td><td>1.0</td><td>-1 .. -1</td><td>1.0</td><td>1.0</td><td>1.0</td><td>4.4575434</td><td>17.798513</td><td>37.420948</td><td>46.075268</td><td>30.963612</td><td>0.004051015958871262</td><td>0.035183206585599834</td></tr>\n",
       "<tr><td>191.14757099005186</td><td>60.345815959235</td><td>39633390185480938</td><td>1</td><td>100</td><td>0.2819459922463374</td><td>0.64</td><td>3.0</td><td>1.5743490921284766</td><td>0.5</td><td>4864741233190265570 .. 434972757299228716</td><td>0.359375</td><td>1.0</td><td>2.74468085106383</td><td>6.782468</td><td>16.732075</td><td>29.996437</td><td>31.939342</td><td>25.343126</td><td>0.004051015958871262</td><td>0.035183206585599834</td></tr>\n",
       "</table></div>"
      ],
      "text/plain": [
       "<Table length=5>\n",
       "        RA                DEC         ...       WEIGHT_FKP     \n",
       "     float64            float64       ...        float64       \n",
       "------------------ ------------------ ... ---------------------\n",
       "191.20458196461243  60.31535787110577 ... 0.0030821516772042766\n",
       "187.04622815471808  60.82670180284912 ...     0.133626516949366\n",
       "187.83760708675698  60.38987543677365 ...   0.01149149450827468\n",
       "187.05117249536465 62.614542270156655 ...  0.035183206585599834\n",
       "191.14757099005186    60.345815959235 ...  0.035183206585599834"
      ]
     },
     "execution_count": 6,
     "metadata": {},
     "output_type": "execute_result"
    }
   ],
   "source": [
    "bgs_bright[:5]"
   ]
  },
  {
   "cell_type": "code",
   "execution_count": 7,
   "id": "63d014e7-134c-4d5e-a7a5-5de3e20db9f8",
   "metadata": {},
   "outputs": [],
   "source": [
    "bgs_bright['phi'] = np.radians(bgs_bright['RA'])\n",
    "bgs_bright['theta'] = np.radians(90. - bgs_bright['DEC'])\n",
    "bgs_bright['healpix'] = healpy.ang2pix(64, bgs_bright['theta'], bgs_bright['phi'], nest=True)"
   ]
  },
  {
   "cell_type": "markdown",
   "id": "cdf78130-f3c6-4f03-82e9-e489a32ac893",
   "metadata": {},
   "source": [
    "get all healpixs"
   ]
  },
  {
   "cell_type": "code",
   "execution_count": 8,
   "id": "e51a0df0-2a04-4fd3-87e7-eb9b7e5aa15b",
   "metadata": {},
   "outputs": [],
   "source": [
    "tiles_fuji = aTable.Table.read('/global/cfs/cdirs/desi/spectro/redux/fuji/healpix/tilepix.fits')\n",
    "is_bright = (tiles_fuji['PROGRAM'] == 'bright')\n",
    "is_sv3 = (tiles_fuji['SURVEY'] == 'sv3')\n",
    "\n",
    "hpixs = np.unique(np.sort(np.array(tiles_fuji['HEALPIX'][is_bright & is_sv3])))"
   ]
  },
  {
   "cell_type": "code",
   "execution_count": 15,
   "id": "f710c5e3-9d28-4309-8e74-e2803dcc9015",
   "metadata": {},
   "outputs": [
    {
     "name": "stdout",
     "output_type": "stream",
     "text": [
      "no BGS BRIGHT galaxies in 9932\n",
      "no posteriors for 9985\n",
      "no posteriors for 10520\n",
      "no posteriors for 25939\n",
      "no posteriors for 26087\n"
     ]
    }
   ],
   "source": [
    "mstars = np.tile(-999., (len(bgs_bright), 30))\n",
    "zmaxes = np.repeat(-999., len(bgs_bright))\n",
    "theta_bfs = np.tile(-999., (len(bgs_bright), 13))\n",
    "\n",
    "for hpix in hpixs: \n",
    "    try: \n",
    "        f = h5py.File('/global/cfs/cdirs/desi/users/chahah/provabgs/svda/provabgs-sv3-bright-%s.BGS_BRIGHT.hdf5' % hpix, 'r')\n",
    "        tid = f['targetid'][...]\n",
    "        mcmc = f['samples'][...][:,-1,:,0]\n",
    "        zmax = f['zmax'][...]\n",
    "        ttbf = f['theta_bf'][...]\n",
    "    except IndexError: \n",
    "        print('no BGS BRIGHT galaxies in %i' % hpix)\n",
    "        continue\n",
    "    except KeyError: \n",
    "        print('no BGS BRIGHT galaxies in %i' % hpix)\n",
    "        continue\n",
    "    except OSError: \n",
    "        print('no posteriors for %i' % hpix)\n",
    "        continue\n",
    "    except: \n",
    "        print('problem reading %i' % hpix)\n",
    "        continue \n",
    "    \n",
    "    is_hpix = (bgs_bright['healpix'] == hpix)\n",
    "\n",
    "    for i in np.arange(len(bgs_bright))[is_hpix]: \n",
    "        is_target = (tid == bgs_bright['TARGETID'][i])\n",
    "\n",
    "        if np.sum(is_target) == 1:\n",
    "            mstars[i,:] = mcmc[is_target]\n",
    "            zmaxes[i] = zmax[is_target]\n",
    "            theta_bfs[i,:] = ttbf[is_target] "
   ]
  },
  {
   "cell_type": "code",
   "execution_count": 16,
   "id": "6a07e61e-8283-4f5c-baaf-3b80702ed837",
   "metadata": {},
   "outputs": [],
   "source": [
    "bgs_bright['logM_mcmc'] = mstars\n",
    "bgs_bright['zmax'] = zmaxes\n",
    "bgs_bright['theta_bf'] = theta_bfs"
   ]
  },
  {
   "cell_type": "code",
   "execution_count": 17,
   "id": "6562f22b-46e3-46c8-bc3c-879ab3e37eb6",
   "metadata": {},
   "outputs": [
    {
     "name": "stdout",
     "output_type": "stream",
     "text": [
      "1341 galaxies don't have posteriors\n"
     ]
    }
   ],
   "source": [
    "print(\"%i galaxies don't have posteriors\" % np.sum(mstars[:,0] == -999.))"
   ]
  },
  {
   "cell_type": "code",
   "execution_count": 18,
   "id": "f394b0da-52c1-47fd-a0f5-042063e0451e",
   "metadata": {},
   "outputs": [
    {
     "data": {
      "text/html": [
       "<div><i>Table length=5</i>\n",
       "<table id=\"table139625644295504\" class=\"table-striped table-bordered table-condensed\">\n",
       "<thead><tr><th>RA</th><th>DEC</th><th>TARGETID</th><th>NTILE</th><th>TILES</th><th>Z</th><th>COMP_TILE</th><th>rosette_number</th><th>rosette_r</th><th>FRACZ_TILELOCID</th><th>BITWEIGHTS [2]</th><th>PROB_OBS</th><th>WEIGHT_ZFAIL</th><th>WEIGHT</th><th>flux_g_dered</th><th>flux_r_dered</th><th>flux_z_dered</th><th>flux_w1_dered</th><th>flux_w2_dered</th><th>NZ</th><th>WEIGHT_FKP</th><th>phi</th><th>theta</th><th>healpix</th><th>logM_mcmc [30]</th><th>zmax</th><th>theta_bf [13]</th></tr></thead>\n",
       "<thead><tr><th>float64</th><th>float64</th><th>int64</th><th>int64</th><th>bytes43</th><th>float64</th><th>float64</th><th>float64</th><th>float64</th><th>float64</th><th>int64</th><th>float64</th><th>float64</th><th>float64</th><th>float32</th><th>float32</th><th>float32</th><th>float32</th><th>float32</th><th>float64</th><th>float64</th><th>float64</th><th>float64</th><th>int64</th><th>float64</th><th>float64</th><th>float64</th></tr></thead>\n",
       "<tr><td>191.20458196461243</td><td>60.31535787110577</td><td>39633390185481345</td><td>1</td><td>100</td><td>0.08969256109731599</td><td>0.64</td><td>3.0</td><td>1.613220114177946</td><td>1.0</td><td>-1 .. -1</td><td>1.0</td><td>1.0</td><td>1.0</td><td>11.618794</td><td>18.39226</td><td>20.892622</td><td>13.421043</td><td>9.27371</td><td>0.04778151135868713</td><td>0.0030821516772042766</td><td>3.3371495001818547</td><td>0.5180947424254233</td><td>11226</td><td>9.311141344469839 .. 9.30371384223851</td><td>0.244537973921384</td><td>9.299830413616577 .. 0.12427289814965596</td></tr>\n",
       "<tr><td>187.04622815471808</td><td>60.82670180284912</td><td>39633396124617897</td><td>1</td><td>100</td><td>0.37400455377945924</td><td>0.64</td><td>3.0</td><td>1.6801915534232357</td><td>1.0</td><td>-1 .. -1</td><td>1.0</td><td>1.0</td><td>1.0</td><td>4.046807</td><td>16.82531</td><td>38.79777</td><td>85.02852</td><td>54.11833</td><td>0.0009577827729000268</td><td>0.133626516949366</td><td>3.264572534736348</td><td>0.5091701072064087</td><td>11237</td><td>11.532893592539585 .. 11.652536919740712</td><td>0.5180062804791324</td><td>11.529095176742617 .. 0.3710937098062413</td></tr>\n",
       "<tr><td>187.83760708675698</td><td>60.38987543677365</td><td>39633393155049303</td><td>1</td><td>100</td><td>0.1731108191825362</td><td>0.64</td><td>3.0</td><td>1.7267282368438097</td><td>0.5</td><td>6932875859169517021 .. -6858338461939850770</td><td>0.4609375</td><td>1.0</td><td>2.15</td><td>13.26433</td><td>27.728409</td><td>46.020153</td><td>37.03337</td><td>25.867756</td><td>0.01270745015908088</td><td>0.01149149450827468</td><td>3.2783847027313433</td><td>0.5167941655539476</td><td>11237</td><td>10.562881907340254 .. 10.51416114213185</td><td>0.3653015609857238</td><td>10.502975152735333 .. 0.2744993206027024</td></tr>\n",
       "<tr><td>187.05117249536465</td><td>62.614542270156655</td><td>39633416324383107</td><td>1</td><td>100</td><td>0.2703579310142208</td><td>0.64</td><td>3.0</td><td>1.5579854421783794</td><td>1.0</td><td>-1 .. -1</td><td>1.0</td><td>1.0</td><td>1.0</td><td>4.4575434</td><td>17.798513</td><td>37.420948</td><td>46.075268</td><td>30.963612</td><td>0.004051015958871262</td><td>0.035183206585599834</td><td>3.264658829759971</td><td>0.47796640455149814</td><td>11251</td><td>11.164636307948935 .. 11.122322575621661</td><td>0.3243951220160425</td><td>11.16028636319183 .. 0.6710591095679554</td></tr>\n",
       "<tr><td>191.14757099005186</td><td>60.345815959235</td><td>39633390185480938</td><td>1</td><td>100</td><td>0.2819459922463374</td><td>0.64</td><td>3.0</td><td>1.5743490921284766</td><td>0.5</td><td>4864741233190265570 .. 434972757299228716</td><td>0.359375</td><td>1.0</td><td>2.74468085106383</td><td>6.782468</td><td>16.732075</td><td>29.996437</td><td>31.939342</td><td>25.343126</td><td>0.004051015958871262</td><td>0.035183206585599834</td><td>3.3361544709660023</td><td>0.5175631485037057</td><td>11226</td><td>11.088944348844176 .. 11.20103049582311</td><td>0.42353546824905075</td><td>11.14249424405227 .. 0.3651476796540595</td></tr>\n",
       "</table></div>"
      ],
      "text/plain": [
       "<Table length=5>\n",
       "        RA         ...              theta_bf [13]              \n",
       "     float64       ...                 float64                 \n",
       "------------------ ... ----------------------------------------\n",
       "191.20458196461243 ... 9.299830413616577 .. 0.12427289814965596\n",
       "187.04622815471808 ... 11.529095176742617 .. 0.3710937098062413\n",
       "187.83760708675698 ... 10.502975152735333 .. 0.2744993206027024\n",
       "187.05117249536465 ...  11.16028636319183 .. 0.6710591095679554\n",
       "191.14757099005186 ...  11.14249424405227 .. 0.3651476796540595"
      ]
     },
     "execution_count": 18,
     "metadata": {},
     "output_type": "execute_result"
    }
   ],
   "source": [
    "bgs_bright[:5]"
   ]
  },
  {
   "cell_type": "code",
   "execution_count": 19,
   "id": "43c00ad9-2c58-4371-ad1f-6e62ddc83d6e",
   "metadata": {},
   "outputs": [
    {
     "name": "stderr",
     "output_type": "stream",
     "text": [
      "/global/homes/c/chahah/.conda/envs/gqp/lib/python3.7/site-packages/astropy/io/misc/hdf5.py:283: UserWarning: table path was not set via the path= argument; using default path __astropy_table__\n",
      "  \"using default path {}\".format(path))\n"
     ]
    }
   ],
   "source": [
    "bgs_bright.write('/global/cfs/cdirs/desi/users/chahah/provabgs/svda/BGS_BRIGHT_clustering.sv3.logM.hdf5', overwrite=True)"
   ]
  },
  {
   "cell_type": "markdown",
   "id": "77b1e4dc-25d8-4459-ba3a-3b15a925794a",
   "metadata": {},
   "source": [
    "# compile BGS Faint"
   ]
  },
  {
   "cell_type": "code",
   "execution_count": 20,
   "id": "a0f28733-2a2c-4206-a21e-f97d067a8ee7",
   "metadata": {},
   "outputs": [
    {
     "ename": "FileNotFoundError",
     "evalue": "[Errno 2] No such file or directory: '/global/cfs/cdirs/desi/survey/catalogs/SV3/LSS/fuji/LSScats/EDAbeta/BGS_FAINT_N_clustering.dat.fits'",
     "output_type": "error",
     "traceback": [
      "\u001b[0;31m---------------------------------------------------------------------------\u001b[0m",
      "\u001b[0;31mFileNotFoundError\u001b[0m                         Traceback (most recent call last)",
      "\u001b[0;32m<ipython-input-20-dd237ca0030f>\u001b[0m in \u001b[0;36m<module>\u001b[0;34m\u001b[0m\n\u001b[1;32m      1\u001b[0m \u001b[0mdir_dat\u001b[0m \u001b[0;34m=\u001b[0m \u001b[0;34m'/global/cfs/cdirs/desi/survey/catalogs/SV3/LSS/fuji/LSScats/EDAbeta/'\u001b[0m\u001b[0;34m\u001b[0m\u001b[0;34m\u001b[0m\u001b[0m\n\u001b[0;32m----> 2\u001b[0;31m \u001b[0m_bgs_n\u001b[0m \u001b[0;34m=\u001b[0m \u001b[0maTable\u001b[0m\u001b[0;34m.\u001b[0m\u001b[0mTable\u001b[0m\u001b[0;34m.\u001b[0m\u001b[0mread\u001b[0m\u001b[0;34m(\u001b[0m\u001b[0mos\u001b[0m\u001b[0;34m.\u001b[0m\u001b[0mpath\u001b[0m\u001b[0;34m.\u001b[0m\u001b[0mjoin\u001b[0m\u001b[0;34m(\u001b[0m\u001b[0mdir_dat\u001b[0m\u001b[0;34m,\u001b[0m \u001b[0;34m'BGS_FAINT_N_clustering.dat.fits'\u001b[0m\u001b[0;34m)\u001b[0m\u001b[0;34m)\u001b[0m\u001b[0;34m\u001b[0m\u001b[0;34m\u001b[0m\u001b[0m\n\u001b[0m\u001b[1;32m      3\u001b[0m \u001b[0m_bgs_s\u001b[0m \u001b[0;34m=\u001b[0m \u001b[0maTable\u001b[0m\u001b[0;34m.\u001b[0m\u001b[0mTable\u001b[0m\u001b[0;34m.\u001b[0m\u001b[0mread\u001b[0m\u001b[0;34m(\u001b[0m\u001b[0mos\u001b[0m\u001b[0;34m.\u001b[0m\u001b[0mpath\u001b[0m\u001b[0;34m.\u001b[0m\u001b[0mjoin\u001b[0m\u001b[0;34m(\u001b[0m\u001b[0mdir_dat\u001b[0m\u001b[0;34m,\u001b[0m \u001b[0;34m'BGS_FAINT_S_clustering.dat.fits'\u001b[0m\u001b[0;34m)\u001b[0m\u001b[0;34m)\u001b[0m\u001b[0;34m\u001b[0m\u001b[0;34m\u001b[0m\u001b[0m\n\u001b[1;32m      4\u001b[0m \u001b[0;34m\u001b[0m\u001b[0m\n\u001b[1;32m      5\u001b[0m \u001b[0mbgs_faint\u001b[0m \u001b[0;34m=\u001b[0m \u001b[0maTable\u001b[0m\u001b[0;34m.\u001b[0m\u001b[0mvstack\u001b[0m\u001b[0;34m(\u001b[0m\u001b[0;34m[\u001b[0m\u001b[0m_bgs_n\u001b[0m\u001b[0;34m,\u001b[0m \u001b[0m_bgs_s\u001b[0m\u001b[0;34m]\u001b[0m\u001b[0;34m)\u001b[0m\u001b[0;34m\u001b[0m\u001b[0;34m\u001b[0m\u001b[0m\n",
      "\u001b[0;32m~/.conda/envs/gqp/lib/python3.7/site-packages/astropy/table/connect.py\u001b[0m in \u001b[0;36m__call__\u001b[0;34m(self, *args, **kwargs)\u001b[0m\n\u001b[1;32m     59\u001b[0m         \u001b[0mdescriptions\u001b[0m \u001b[0;34m=\u001b[0m \u001b[0mkwargs\u001b[0m\u001b[0;34m.\u001b[0m\u001b[0mpop\u001b[0m\u001b[0;34m(\u001b[0m\u001b[0;34m'descriptions'\u001b[0m\u001b[0;34m,\u001b[0m \u001b[0;32mNone\u001b[0m\u001b[0;34m)\u001b[0m\u001b[0;34m\u001b[0m\u001b[0;34m\u001b[0m\u001b[0m\n\u001b[1;32m     60\u001b[0m \u001b[0;34m\u001b[0m\u001b[0m\n\u001b[0;32m---> 61\u001b[0;31m         \u001b[0mout\u001b[0m \u001b[0;34m=\u001b[0m \u001b[0mregistry\u001b[0m\u001b[0;34m.\u001b[0m\u001b[0mread\u001b[0m\u001b[0;34m(\u001b[0m\u001b[0mcls\u001b[0m\u001b[0;34m,\u001b[0m \u001b[0;34m*\u001b[0m\u001b[0margs\u001b[0m\u001b[0;34m,\u001b[0m \u001b[0;34m**\u001b[0m\u001b[0mkwargs\u001b[0m\u001b[0;34m)\u001b[0m\u001b[0;34m\u001b[0m\u001b[0;34m\u001b[0m\u001b[0m\n\u001b[0m\u001b[1;32m     62\u001b[0m \u001b[0;34m\u001b[0m\u001b[0m\n\u001b[1;32m     63\u001b[0m         \u001b[0;31m# For some readers (e.g., ascii.ecsv), the returned `out` class is not\u001b[0m\u001b[0;34m\u001b[0m\u001b[0;34m\u001b[0m\u001b[0;34m\u001b[0m\u001b[0m\n",
      "\u001b[0;32m~/.conda/envs/gqp/lib/python3.7/site-packages/astropy/io/registry.py\u001b[0m in \u001b[0;36mread\u001b[0;34m(cls, format, cache, *args, **kwargs)\u001b[0m\n\u001b[1;32m    510\u001b[0m                     \u001b[0;32mtry\u001b[0m\u001b[0;34m:\u001b[0m\u001b[0;34m\u001b[0m\u001b[0;34m\u001b[0m\u001b[0m\n\u001b[1;32m    511\u001b[0m                         \u001b[0mctx\u001b[0m \u001b[0;34m=\u001b[0m \u001b[0mget_readable_fileobj\u001b[0m\u001b[0;34m(\u001b[0m\u001b[0margs\u001b[0m\u001b[0;34m[\u001b[0m\u001b[0;36m0\u001b[0m\u001b[0;34m]\u001b[0m\u001b[0;34m,\u001b[0m \u001b[0mencoding\u001b[0m\u001b[0;34m=\u001b[0m\u001b[0;34m'binary'\u001b[0m\u001b[0;34m,\u001b[0m \u001b[0mcache\u001b[0m\u001b[0;34m=\u001b[0m\u001b[0mcache\u001b[0m\u001b[0;34m)\u001b[0m\u001b[0;34m\u001b[0m\u001b[0;34m\u001b[0m\u001b[0m\n\u001b[0;32m--> 512\u001b[0;31m                         \u001b[0mfileobj\u001b[0m \u001b[0;34m=\u001b[0m \u001b[0mctx\u001b[0m\u001b[0;34m.\u001b[0m\u001b[0m__enter__\u001b[0m\u001b[0;34m(\u001b[0m\u001b[0;34m)\u001b[0m\u001b[0;34m\u001b[0m\u001b[0;34m\u001b[0m\u001b[0m\n\u001b[0m\u001b[1;32m    513\u001b[0m                     \u001b[0;32mexcept\u001b[0m \u001b[0mOSError\u001b[0m\u001b[0;34m:\u001b[0m\u001b[0;34m\u001b[0m\u001b[0;34m\u001b[0m\u001b[0m\n\u001b[1;32m    514\u001b[0m                         \u001b[0;32mraise\u001b[0m\u001b[0;34m\u001b[0m\u001b[0;34m\u001b[0m\u001b[0m\n",
      "\u001b[0;32m~/.conda/envs/gqp/lib/python3.7/contextlib.py\u001b[0m in \u001b[0;36m__enter__\u001b[0;34m(self)\u001b[0m\n\u001b[1;32m    110\u001b[0m         \u001b[0;32mdel\u001b[0m \u001b[0mself\u001b[0m\u001b[0;34m.\u001b[0m\u001b[0margs\u001b[0m\u001b[0;34m,\u001b[0m \u001b[0mself\u001b[0m\u001b[0;34m.\u001b[0m\u001b[0mkwds\u001b[0m\u001b[0;34m,\u001b[0m \u001b[0mself\u001b[0m\u001b[0;34m.\u001b[0m\u001b[0mfunc\u001b[0m\u001b[0;34m\u001b[0m\u001b[0;34m\u001b[0m\u001b[0m\n\u001b[1;32m    111\u001b[0m         \u001b[0;32mtry\u001b[0m\u001b[0;34m:\u001b[0m\u001b[0;34m\u001b[0m\u001b[0;34m\u001b[0m\u001b[0m\n\u001b[0;32m--> 112\u001b[0;31m             \u001b[0;32mreturn\u001b[0m \u001b[0mnext\u001b[0m\u001b[0;34m(\u001b[0m\u001b[0mself\u001b[0m\u001b[0;34m.\u001b[0m\u001b[0mgen\u001b[0m\u001b[0;34m)\u001b[0m\u001b[0;34m\u001b[0m\u001b[0;34m\u001b[0m\u001b[0m\n\u001b[0m\u001b[1;32m    113\u001b[0m         \u001b[0;32mexcept\u001b[0m \u001b[0mStopIteration\u001b[0m\u001b[0;34m:\u001b[0m\u001b[0;34m\u001b[0m\u001b[0;34m\u001b[0m\u001b[0m\n\u001b[1;32m    114\u001b[0m             \u001b[0;32mraise\u001b[0m \u001b[0mRuntimeError\u001b[0m\u001b[0;34m(\u001b[0m\u001b[0;34m\"generator didn't yield\"\u001b[0m\u001b[0;34m)\u001b[0m \u001b[0;32mfrom\u001b[0m \u001b[0;32mNone\u001b[0m\u001b[0;34m\u001b[0m\u001b[0;34m\u001b[0m\u001b[0m\n",
      "\u001b[0;32m~/.conda/envs/gqp/lib/python3.7/site-packages/astropy/utils/data.py\u001b[0m in \u001b[0;36mget_readable_fileobj\u001b[0;34m(name_or_obj, encoding, cache, show_progress, remote_timeout, sources, http_headers)\u001b[0m\n\u001b[1;32m    260\u001b[0m                 \u001b[0mtimeout\u001b[0m\u001b[0;34m=\u001b[0m\u001b[0mremote_timeout\u001b[0m\u001b[0;34m,\u001b[0m \u001b[0msources\u001b[0m\u001b[0;34m=\u001b[0m\u001b[0msources\u001b[0m\u001b[0;34m,\u001b[0m\u001b[0;34m\u001b[0m\u001b[0;34m\u001b[0m\u001b[0m\n\u001b[1;32m    261\u001b[0m                 http_headers=http_headers)\n\u001b[0;32m--> 262\u001b[0;31m         \u001b[0mfileobj\u001b[0m \u001b[0;34m=\u001b[0m \u001b[0mio\u001b[0m\u001b[0;34m.\u001b[0m\u001b[0mFileIO\u001b[0m\u001b[0;34m(\u001b[0m\u001b[0mname_or_obj\u001b[0m\u001b[0;34m,\u001b[0m \u001b[0;34m'r'\u001b[0m\u001b[0;34m)\u001b[0m\u001b[0;34m\u001b[0m\u001b[0;34m\u001b[0m\u001b[0m\n\u001b[0m\u001b[1;32m    263\u001b[0m         \u001b[0;32mif\u001b[0m \u001b[0mis_url\u001b[0m \u001b[0;32mand\u001b[0m \u001b[0;32mnot\u001b[0m \u001b[0mcache\u001b[0m\u001b[0;34m:\u001b[0m\u001b[0;34m\u001b[0m\u001b[0;34m\u001b[0m\u001b[0m\n\u001b[1;32m    264\u001b[0m             \u001b[0mdelete_fds\u001b[0m\u001b[0;34m.\u001b[0m\u001b[0mappend\u001b[0m\u001b[0;34m(\u001b[0m\u001b[0mfileobj\u001b[0m\u001b[0;34m)\u001b[0m\u001b[0;34m\u001b[0m\u001b[0;34m\u001b[0m\u001b[0m\n",
      "\u001b[0;31mFileNotFoundError\u001b[0m: [Errno 2] No such file or directory: '/global/cfs/cdirs/desi/survey/catalogs/SV3/LSS/fuji/LSScats/EDAbeta/BGS_FAINT_N_clustering.dat.fits'"
     ]
    }
   ],
   "source": [
    "dir_dat = '/global/cfs/cdirs/desi/survey/catalogs/SV3/LSS/fuji/LSScats/EDAbeta/'\n",
    "_bgs_n = aTable.Table.read(os.path.join(dir_dat, 'BGS_FAINT_N_clustering.dat.fits'))\n",
    "_bgs_s = aTable.Table.read(os.path.join(dir_dat, 'BGS_FAINT_S_clustering.dat.fits'))\n",
    "\n",
    "bgs_faint = aTable.vstack([_bgs_n, _bgs_s])\n",
    "print('%i BGS Faint galaxies' % len(bgs_faint))"
   ]
  },
  {
   "cell_type": "code",
   "execution_count": null,
   "id": "c5cf495a-86f1-4f15-9136-b98cdf18d8ca",
   "metadata": {},
   "outputs": [],
   "source": [
    "bgs_faint['phi'] = np.radians(bgs_faint['RA'])\n",
    "bgs_faint['theta'] = np.radians(90. - bgs_faint['DEC'])\n",
    "bgs_faint['healpix'] = healpy.ang2pix(64, bgs_faint['theta'], bgs_faint['phi'], nest=True)"
   ]
  },
  {
   "cell_type": "code",
   "execution_count": null,
   "id": "95c68ff9-5d82-402b-921d-0fa17f639b8d",
   "metadata": {},
   "outputs": [],
   "source": [
    "mstars = np.tile(-999., (len(bgs_faint), 30))\n",
    "zmaxes = np.repeat(-999., len(bgs_faint))\n",
    "theta_bfs = np.tile(-999., (len(bgs_faint), 13))\n",
    "\n",
    "for hpix in hpixs: \n",
    "    try: \n",
    "        f = h5py.File('/global/cfs/cdirs/desi/users/chahah/provabgs/svda/provabgs-sv3-bright-%s.BGS_FAINT.hdf5' % hpix, 'r')\n",
    "        tid = f['targetid'][...]\n",
    "        mcmc = f['samples'][...][:,-1,:,0]\n",
    "        zmax = f['zmax'][...]\n",
    "        ttbf = f['theta_bf'][...]\n",
    "    except IndexError: \n",
    "        print('no BGS FAINT galaxies in %i' % hpix)\n",
    "        continue\n",
    "    except KeyError: \n",
    "        print('no BGS FAINT galaxies in %i' % hpix)\n",
    "        continue\n",
    "    except OSError: \n",
    "        print('no posteriors for %i' % hpix)\n",
    "        continue\n",
    "    except: \n",
    "        print('problem reading %i' % hpix)\n",
    "        continue \n",
    "    \n",
    "    is_hpix = (bgs_faint['healpix'] == hpix)\n",
    "\n",
    "    for i in np.arange(len(bgs_faint))[is_hpix]: \n",
    "        is_target = (tid == bgs_faint['TARGETID'][i])\n",
    "\n",
    "        if np.sum(is_target) == 1:\n",
    "            mstars[i,:] = mcmc[is_target]\n",
    "            zmaxes[i] = zmax[is_target]\n",
    "            theta_bfs[i,:] = ttbf[is_target] \n",
    "            \n",
    "bgs_faint['logM_mcmc'] = mstars\n",
    "bgs_faint['zmax'] = zmaxes\n",
    "bgs_faint['theta_bf'] = theta_bfs"
   ]
  },
  {
   "cell_type": "code",
   "execution_count": null,
   "id": "43e6cba0-9552-458b-a0e4-14f4d6679fb4",
   "metadata": {},
   "outputs": [],
   "source": [
    "print(\"%i BGS FAINT galaxies don't have posteriors\" % np.sum(mstars[:,0] == -999.))"
   ]
  },
  {
   "cell_type": "code",
   "execution_count": null,
   "id": "cfb606a1-7202-4fa6-b134-08d969eb017b",
   "metadata": {},
   "outputs": [],
   "source": [
    "bgs_faint[:5]"
   ]
  },
  {
   "cell_type": "code",
   "execution_count": null,
   "id": "3068cc6d-d24c-4e1d-8e93-180ca0cd8864",
   "metadata": {},
   "outputs": [],
   "source": [
    "bgs_faint.write('/global/cfs/cdirs/desi/users/chahah/provabgs/svda/BGS_FAINT_clustering.sv3.logM.hdf5', overwrite=True)"
   ]
  }
 ],
 "metadata": {
  "kernelspec": {
   "display_name": "gqp",
   "language": "python",
   "name": "gqp"
  },
  "language_info": {
   "codemirror_mode": {
    "name": "ipython",
    "version": 3
   },
   "file_extension": ".py",
   "mimetype": "text/x-python",
   "name": "python",
   "nbconvert_exporter": "python",
   "pygments_lexer": "ipython3",
   "version": "3.7.4"
  }
 },
 "nbformat": 4,
 "nbformat_minor": 5
}
